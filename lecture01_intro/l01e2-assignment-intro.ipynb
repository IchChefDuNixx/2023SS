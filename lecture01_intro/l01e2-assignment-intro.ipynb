{
 "cells": [
  {
   "cell_type": "code",
   "execution_count": null,
   "id": "cf5cec8c-8620-4b2d-8622-228965e3076b",
   "metadata": {},
   "outputs": [],
   "source": [
    "# This is the exercise 2 for lecture01\n",
    "# of the 'Data Science' class at TH Rosenheim\n",
    "# (c) Markus Breunig"
   ]
  },
  {
   "cell_type": "code",
   "execution_count": null,
   "id": "ec54cc98-bffe-4e2d-95c6-1bd7697e7e68",
   "metadata": {},
   "outputs": [],
   "source": [
    "import matplotlib.pyplot as plt\n",
    "import seaborn as sns\n",
    "import numpy as np"
   ]
  },
  {
   "cell_type": "markdown",
   "id": "431443ce-051a-4357-86f3-5b987cba5180",
   "metadata": {},
   "source": [
    "## I. Data Driven Decision Making\n",
    "\n",
    "Consider the story of Signet Bank. At the time, credit cards essentially had uniform pricing. Modeling the probability of default had changed the industry (customers where either offered a credit card, if their probability of default was low enough, or not). Around 1990, two strategic visionaries (Richard Fairbanks and Nigel Morris) realized that information technology was powerful enough that they could do more sophisticated predictive modeling and offer different terms (nowadays: pricing, credit limits, low-initial-rate balance transfers, cash back, loyalty points, and so on) to different customers. Signet Bank’s management was convinced that modeling profitability, not just default probability, was the right strategy. They knew that a small proportion of customers actually account for more than 100% of a bank’s profit from credit card operations (because the rest are break-even or money-losing). If they could model profitability, they could make better offers to the best customers and “skim the cream” of the big banks’ clientele.\n",
    "\n",
    "But Signet Bank had one really big problem in implementing this strategy. They did not have the appropriate data to model profitability with the goal of offering different terms to different customers. No one did. Since banks were offering credit with a specific set of terms and a specific default model, they had the data to model profitability (1) for the terms they actually have offered in the past, and (2) for the sort of customer who was actually offered credit (that is, those who were deemed worthy of credit by the existing model).\n",
    "\n",
    "What could Signet Bank do? They brought into play a fundamental strategy of data science: acquire the necessary data at a cost. Once we view data as a business asset, we should think about whether and how much we are willing to invest. In Signet’s case, data could be generated on the profitability of customers given different credit terms by conducting experiments. Different terms were offered at random to different customers. This may seem foolish outside the context of data-analytic thinking: you’re likely to lose money! This is true. In this case, losses are the cost of data acquisition. The data- analytic thinker needs to consider whether she expects the data to have sufficient value to justify the investment.\n",
    "\n",
    "So what happened with Signet Bank? As you might expect, when Signet began randomly offering terms to customers for data acquisition, the number of bad accounts soared. Signet went from an industry-leading “charge-off ” rate (2.9% of balances went unpaid) to almost 6% charge-offs. Losses continued for a few years while the data scientists worked to build predictive models from the data, evaluate them, and deploy them to improve profit. Because the firm viewed these losses as investments in data, they persisted despite complaints from stakeholders. Eventually, Signet’s credit card operation turned around and became so profitable that it was spun off to separate it from the bank’s other operations, which now were overshadowing the consumer credit success.\n",
    "\n",
    "Fairbanks and Morris became Chairman and CEO and President and COO, and proceeded to apply data science principles throughout the business — not just customer acquisition but retention as well. When a customer calls looking for a better offer, data-driven models calculate the potential profitability of various possible actions (different offers, including sticking with the status quo), and the customer service representative’s computer presents the best offers to make.\n",
    "\n",
    "You may not have heard of little Signet Bank, but you may have heard of the spin-off: Capital One. Fairbanks and Morris’s new company grew to be one of the largest credit card issuers in the industry with one of the lowest charge-off rates. In 2000, the bank was reported to be carrying out 45,000 of these “scientific tests” as they called them.\n",
    "(Example taken from Provost/Fawcett: Data Science for Business, ISBN 978-1449361327)"
   ]
  },
  {
   "cell_type": "markdown",
   "id": "031db8ff-0624-4636-9d5b-9af07f54d0a6",
   "metadata": {},
   "source": [
    "### Exercise I.1\n",
    "\n",
    "Fairbanks and Morris did apply DDDM in the above example. Recall that DDDM usually follows this five-step approach:\n",
    "1. Formulate Vision and Hypothesis\n",
    "2. Find, Collect, Organize Data\n",
    "3. Perform Data Analysis\n",
    "4. Draw Conclusions and Strategize\n",
    "5. Measure Success and Iterate\n",
    "\n",
    "What did Fairbanks/Morris do exactly in each of these steps?"
   ]
  },
  {
   "cell_type": "code",
   "execution_count": null,
   "id": "74aecea6-985e-4718-a984-86efbca18f38",
   "metadata": {},
   "outputs": [],
   "source": [
    "# ----- YOUR SOLUTION HERE -----"
   ]
  },
  {
   "cell_type": "markdown",
   "id": "b686c161-7b84-40f5-a90e-8733556cb767",
   "metadata": {},
   "source": [
    "## II. Descriptive – Diagnostic – Predictive – Prescriptive Data Analytics\n",
    "\n",
    "### Exercise II.1\n",
    "For each of the four kinds of Data Anlytics, state which questions they answer."
   ]
  },
  {
   "cell_type": "code",
   "execution_count": null,
   "id": "dc67615a-a4d6-424d-be0a-91c783eb8f81",
   "metadata": {},
   "outputs": [],
   "source": [
    "# ----- YOUR SOLUTION HERE -----"
   ]
  },
  {
   "cell_type": "markdown",
   "id": "02fe84b3-6115-4cb6-87b0-f4be0607052d",
   "metadata": {},
   "source": [
    "## III. CRISP-DM\n",
    "\n",
    "### Exercise III.1\n",
    "List the six phases of the CRISP-DM process in order."
   ]
  },
  {
   "cell_type": "code",
   "execution_count": null,
   "id": "3903ef98-b723-4025-b1df-9a090daf0f1d",
   "metadata": {},
   "outputs": [],
   "source": [
    "# ----- YOUR SOLUTION HERE -----"
   ]
  },
  {
   "cell_type": "markdown",
   "id": "842e5517-875a-4cfb-8c05-32d1da0f1cc4",
   "metadata": {},
   "source": [
    "## IV. Linearity in Space and Time\n",
    "\n",
    "When working on a data science project, we often iterate in our Notebooks. This means, we go back a few cells, change something and rerun the following cells. Thus, cells are on one hand executed multiple times and on the other hand, the Notebook is not linear in time anymore. We can always make it linear in space and time by using the \"Kernel -> Restart Kernel and Run All Cells\" command - but we do not want to do this too frequently, as it is pretty slow (esp. if there is some expensive data preprocessing earlier in the notebook). We can, however, ensure linearity in time by coding carefully!"
   ]
  },
  {
   "cell_type": "markdown",
   "id": "73b9066c-a88e-4988-b784-332a5dea0298",
   "metadata": {},
   "source": [
    "### Idempotent cells\n",
    "One way to ensure linearity, is to make cells idempotent. This means that they do not change the state even when executed multiple times."
   ]
  },
  {
   "cell_type": "code",
   "execution_count": null,
   "id": "801f2401-7aed-4035-a336-944bd9dc223a",
   "metadata": {},
   "outputs": [],
   "source": [
    "# example for an idempotent cell: all of the following lines are idempotent\n",
    "# you can easily verify this by executing the cell multiple times\n",
    "# (e.g. by pressing ctrl-return multiple times)\n",
    "a = 10\n",
    "b = a + 10\n",
    "a = max(b, 100)\n",
    "print(f'a={a}, b={b}')"
   ]
  },
  {
   "cell_type": "code",
   "execution_count": null,
   "id": "28b7b67f-d988-4900-9400-0e2a568cce28",
   "metadata": {},
   "outputs": [],
   "source": [
    "# example for a cell, that is not idempotent. Again, verify by executing multiple times.\n",
    "a = b + 10\n",
    "b = a + 10\n",
    "print(f'a={a}, b={b}')"
   ]
  },
  {
   "cell_type": "markdown",
   "id": "3a8f44a1-da85-48cb-b0b5-7d01c8c1a0f1",
   "metadata": {},
   "source": [
    "Quite often (but not always), it is possible to write idempotent code instead of non-idempotent code. You want to get into the habit of coding as many cells idempotent as possible. "
   ]
  },
  {
   "cell_type": "markdown",
   "id": "401bf819-2e2d-4af3-acfa-7f2a717f62de",
   "metadata": {},
   "source": [
    "#### Exercise IV.1"
   ]
  },
  {
   "cell_type": "markdown",
   "id": "3c13d9ee-3080-46fb-aa4f-574d71ae25f5",
   "metadata": {},
   "source": [
    "Given a list of data values, containt three outliers:"
   ]
  },
  {
   "cell_type": "code",
   "execution_count": null,
   "id": "4b27a213-f3a8-4e34-bcbb-733344e40eee",
   "metadata": {},
   "outputs": [],
   "source": [
    "my_data = [1, 1000, 1020, 1102, 8888, 1098, 1025, 1035, 8889]\n",
    "my_data"
   ]
  },
  {
   "cell_type": "markdown",
   "id": "d1c11f86-cb7b-4e98-b8b6-6f38483610c3",
   "metadata": {},
   "source": [
    "The following code removes these outliers:"
   ]
  },
  {
   "cell_type": "code",
   "execution_count": null,
   "id": "f8efc2b1-375e-4037-b232-d7d38836f588",
   "metadata": {},
   "outputs": [],
   "source": [
    "my_data.sort()\n",
    "my_data = my_data[2:len(my_data)-2]\n",
    "my_data"
   ]
  },
  {
   "cell_type": "markdown",
   "id": "ce817202-0875-4c62-9274-938cd61d2e19",
   "metadata": {},
   "source": [
    "The above code is not idempotent. Write a cell that removes the three outliers but is idempotent!"
   ]
  },
  {
   "cell_type": "code",
   "execution_count": null,
   "id": "b58eb487-1d57-4182-b9ae-d65025f65b73",
   "metadata": {},
   "outputs": [],
   "source": [
    "# ----- YOUR SOLUTION HERE -----"
   ]
  },
  {
   "cell_type": "markdown",
   "id": "7862f679-bd68-4399-b9c4-facd3972a9cc",
   "metadata": {},
   "source": [
    "### Re-runnable code\n",
    "\n",
    "Regardless of whether cells are idempotent, your code should be re-runnable. This means that if you run all cells once, than go back and change something, than run all cells from the changed cell onwards, you get exactely the same result as if you restarted the kernel and run all cells. "
   ]
  },
  {
   "cell_type": "markdown",
   "id": "f46227ca-bad7-4bfc-96b7-04fe93a32606",
   "metadata": {},
   "source": [
    "#### Exercise IV.2"
   ]
  },
  {
   "cell_type": "markdown",
   "id": "9bef6a66-5aeb-425f-b635-cdf7498e88a7",
   "metadata": {},
   "source": [
    "The following cells #1, #2, #3 are not re-runnable (even though, for the given data, they are idempotent):"
   ]
  },
  {
   "cell_type": "code",
   "execution_count": null,
   "id": "aaa8b62b-1688-4cfb-af89-2fba6314c4a1",
   "metadata": {},
   "outputs": [],
   "source": [
    "# load data - do not change this cell (assume this is your original dataset)\n",
    "y = [1001, 1000, 1020, 1102, 1200, 1098, 1025, 1035, 1198, 1044, 1024]\n",
    "x = range(0, len(y))"
   ]
  },
  {
   "cell_type": "code",
   "execution_count": null,
   "id": "01823c21-b1e9-4127-969d-ff9fe1525e25",
   "metadata": {},
   "outputs": [],
   "source": [
    "# assume you are doing a bunch of stuff here, which you do NOT want to rerun as it\n",
    "# is very expensive/time consuming"
   ]
  },
  {
   "cell_type": "code",
   "execution_count": null,
   "id": "7ef799ee-76de-42f9-96dc-63a568cc1a3e",
   "metadata": {},
   "outputs": [],
   "source": [
    "# cell #1\n",
    "# run the cells once, than go back to this one and trying changing this to red crosses ('rx' instead of 'bo')\n",
    "_=plt.plot(x, y, 'bo') "
   ]
  },
  {
   "cell_type": "code",
   "execution_count": null,
   "id": "9d619c40-20b6-4e7f-9224-32a53cc264c7",
   "metadata": {},
   "outputs": [],
   "source": [
    "# cell #2\n",
    "y = [value * 3 if value < 2000 else value for value in y]"
   ]
  },
  {
   "cell_type": "code",
   "execution_count": null,
   "id": "8e2bfb82-7ec4-424f-bb40-9b56eb6645c0",
   "metadata": {},
   "outputs": [],
   "source": [
    "# cell #3\n",
    "_=plt.plot(x, y)"
   ]
  },
  {
   "cell_type": "markdown",
   "id": "e7498899-7f9f-4082-bae5-9580f94fc8a9",
   "metadata": {},
   "source": [
    "Re-write these cells to make them re-runnable."
   ]
  },
  {
   "cell_type": "code",
   "execution_count": null,
   "id": "7fb8cfa0-9347-4410-ae82-b82c8654184a",
   "metadata": {},
   "outputs": [],
   "source": [
    "# load data - do not change this cell (assume this is your original dataset)\n",
    "y = [1001, 1000, 1020, 1102, 1200, 1098, 1025, 1035, 1198, 1044, 1024]\n",
    "x = range(0, len(y))"
   ]
  },
  {
   "cell_type": "code",
   "execution_count": null,
   "id": "136a3f2f-7b48-47a7-92e4-bb250943ffd1",
   "metadata": {},
   "outputs": [],
   "source": [
    "# assume you are doing a bunch of stuff here, which you do NOT want to rerun as it\n",
    "# is very expensive/time consuming"
   ]
  },
  {
   "cell_type": "code",
   "execution_count": null,
   "id": "8da329cd-4544-4589-a717-f70334928b10",
   "metadata": {},
   "outputs": [],
   "source": [
    "# ----- YOUR SOLUTION HERE -----"
   ]
  },
  {
   "cell_type": "markdown",
   "id": "dad982bf-4339-4b24-9103-be5e453726e9",
   "metadata": {},
   "source": [
    "---"
   ]
  }
 ],
 "metadata": {
  "kernelspec": {
   "display_name": "Python 3 (ipykernel)",
   "language": "python",
   "name": "python3"
  },
  "language_info": {
   "codemirror_mode": {
    "name": "ipython",
    "version": 3
   },
   "file_extension": ".py",
   "mimetype": "text/x-python",
   "name": "python",
   "nbconvert_exporter": "python",
   "pygments_lexer": "ipython3",
   "version": "3.10.8"
  }
 },
 "nbformat": 4,
 "nbformat_minor": 5
}

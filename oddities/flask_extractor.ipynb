{
 "cells": [
  {
   "attachments": {},
   "cell_type": "markdown",
   "metadata": {},
   "source": [
    "1. find flask ids in user_items\n",
    "2. cross-reference these ids with item_data\n",
    "3. determine amount of flasks available\n",
    "4. cross-reference choice id from flasks in item_data with item id in item_data\n",
    "5. determine amount of potential shards for each champion\n",
    "6. get current shards for each champion owned\n",
    "7. get level and necessary amount to upgrade each champion owned\n",
    "8. determine which champions can be leveled up and by using which flasks\n",
    "9. make exceptions for lev (very optional)\n",
    "10. turn this into a standalone .py and make it automated with pulling the data when loading kong"
   ]
  },
  {
   "cell_type": "code",
   "execution_count": 154,
   "metadata": {},
   "outputs": [],
   "source": [
    "# imports\n",
    "import numpy as np\n",
    "import pandas as pd\n",
    "import xml.etree.ElementTree as ET"
   ]
  },
  {
   "cell_type": "code",
   "execution_count": 155,
   "metadata": {},
   "outputs": [],
   "source": [
    "# parse data into data structures\n",
    "\n",
    "user_items_raw = pd.read_json(\"user_items.json\", orient=\"index\")\n",
    "# print(user_items_raw.head())\n",
    "\n",
    "item_data_raw = pd.read_json(\"item_data.json\", orient=\"index\")\n",
    "# print(item_data_raw.head())\n",
    "\n",
    "user_units_raw = pd.read_json(\"user_units.json\", orient=\"index\")\n",
    "# print(user_units_raw.head())\n",
    "\n",
    "# use ET for cards_shard.xml ?"
   ]
  },
  {
   "cell_type": "code",
   "execution_count": 156,
   "metadata": {},
   "outputs": [],
   "source": [
    "# constants for id boundaries, easier to change here than in-line\n",
    "flasks_id_min = 2534\n",
    "flasks_id_max = 2699\n",
    "\n",
    "# reward, aether, chaos, wyld | f2p, p2w?\n",
    "champion_id_min = [4000, 5600, 6600, 7600]\n",
    "champion_id_max = [4999, 5999, 6999, 7999]\n",
    "\n",
    "# shard ids are auto-generated in-game as well\n",
    "champion_shards_id_min = []\n",
    "champion_shards_id_max = []\n",
    "for id_min, id_max in zip(champion_id_min, champion_id_max):\n",
    "    champion_shards_id_min.append(id_min + 100000)\n",
    "    champion_shards_id_max.append(id_max + 100000)\n",
    "\n",
    "# constant champ level requirements\n",
    "champion_costs = [50, 75, 100, 150, 225, 300, 400, 600, 900, 1200]\n",
    "champion_costs_mythic = [150, 200, 250, 300, 450, 600, 750, 900, 1100, 1300]"
   ]
  },
  {
   "cell_type": "code",
   "execution_count": 157,
   "metadata": {},
   "outputs": [],
   "source": [
    "# 1 pd dataframe with id, name, icon, desc, category, bundle etc. of available flasks in-game\n",
    "item_data_flasks = item_data_raw[item_data_raw[\"id\"].between(flasks_id_min,flasks_id_max)]\n",
    "\n",
    "# keep only the specified columns and drop all others\n",
    "item_data_flasks = item_data_flasks.drop(item_data_flasks.columns.difference([\"id\", \"name\", \"desc\"]), axis=1)"
   ]
  },
  {
   "cell_type": "code",
   "execution_count": 158,
   "metadata": {},
   "outputs": [],
   "source": [
    "# ? pd dataframe with id and number of \n",
    "user_items_flasks = user_items_raw[user_items_raw[\"id\"].between(flasks_id_min, flasks_id_max)]"
   ]
  },
  {
   "cell_type": "code",
   "execution_count": 159,
   "metadata": {},
   "outputs": [],
   "source": [
    "# 6 pd dataframe with id and number of champion shards in inventory\n",
    "user_items_champion_shards = []\n",
    "\n",
    "# append multiple dataframes to lists\n",
    "for id_min, id_max in zip(champion_shards_id_min, champion_shards_id_max):\n",
    "    user_items_champion_shards.append(user_items_raw[user_items_raw[\"id\"].between(id_min, id_max)])\n",
    "\n",
    "# # concat dataframes into one\n",
    "user_items_champion_shards = pd.concat(user_items_champion_shards)"
   ]
  },
  {
   "cell_type": "code",
   "execution_count": 160,
   "metadata": {},
   "outputs": [],
   "source": [
    "# 7 pd dataframe with unit_id and level of all owned champions\n",
    "user_units_champions_owned = []\n",
    "\n",
    "# append multiple dataframes to lists \n",
    "for id_min, id_max in zip(champion_id_min, champion_id_max):\n",
    "    user_units_champions_owned.append(user_units_raw[user_units_raw[\"unit_id\"].between(id_min, id_max)])\n",
    "    \n",
    "# concat dataframes into one\n",
    "user_units_champions_owned = pd.concat(user_units_champions_owned)\n",
    "    \n",
    "# keep only the specified columns and drop all others\n",
    "user_units_champions_owned = user_units_champions_owned.drop(user_units_champions_owned.columns.difference([\"unit_id\", \"level\"]), axis=1)"
   ]
  }
 ],
 "metadata": {
  "kernelspec": {
   "display_name": "Python 3",
   "language": "python",
   "name": "python3"
  },
  "language_info": {
   "codemirror_mode": {
    "name": "ipython",
    "version": 3
   },
   "file_extension": ".py",
   "mimetype": "text/x-python",
   "name": "python",
   "nbconvert_exporter": "python",
   "pygments_lexer": "ipython3",
   "version": "3.10.0"
  },
  "orig_nbformat": 4
 },
 "nbformat": 4,
 "nbformat_minor": 2
}

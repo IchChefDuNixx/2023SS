{
 "cells": [
  {
   "cell_type": "code",
   "execution_count": 1,
   "metadata": {
    "tags": []
   },
   "outputs": [],
   "source": [
    "# This is Lecture03 - Exercise 2\n",
    "# of the \"Data Science\" class at Technische Hochschule Rosenheim"
   ]
  },
  {
   "cell_type": "markdown",
   "metadata": {},
   "source": [
    "<img src=\"figures/pokemon-sign.svg\" alt=\"PokemonSign\" align=\"right\" width=\"150\"/>\n",
    "\n",
    "# Pokemon Dataset\n",
    "\n",
    "In this exercise you will continue to analyse the Pokemon dataset."
   ]
  },
  {
   "cell_type": "markdown",
   "metadata": {},
   "source": [
    "### Exercises 3\n",
    "\n",
    "* 3a) load the dataset\n",
    "\n",
    "* 3b) print (in one line) the min, mean, max and median of the hitpoints\n",
    "\n",
    "* 3c) compute a one-dim array containing the sum of Attack and Defense for each Pokemon\n",
    "\n",
    "* 3d) compute a list 'all' containing the sum of all 6 stats for each Pokemon (using a list comprehension)\n",
    "\n",
    "* 3e) use boolean indexing and your 'all' list to find the name of the Pokemon with the highest sum of all 6 stats"
   ]
  },
  {
   "cell_type": "code",
   "execution_count": 2,
   "metadata": {
    "tags": []
   },
   "outputs": [],
   "source": [
    "## ---------- SOLUTION 3a"
   ]
  },
  {
   "cell_type": "code",
   "execution_count": 3,
   "metadata": {},
   "outputs": [],
   "source": [
    "import numpy as np"
   ]
  },
  {
   "cell_type": "code",
   "execution_count": 4,
   "metadata": {},
   "outputs": [],
   "source": [
    "ids = np.load('data/pokemon_ids.npy')\n",
    "names = np.load('data/pokemon_names.npy', allow_pickle=True)\n",
    "stats = np.load('data/pokemon_stats.npy')"
   ]
  },
  {
   "cell_type": "code",
   "execution_count": 5,
   "metadata": {
    "tags": []
   },
   "outputs": [],
   "source": [
    "## ---------- SOLUTION 3b"
   ]
  },
  {
   "cell_type": "code",
   "execution_count": 6,
   "metadata": {},
   "outputs": [
    {
     "name": "stdout",
     "output_type": "stream",
     "text": [
      "HP: min=1, mean=69.25875, max=255, median=65.0\n"
     ]
    }
   ],
   "source": [
    "hp = stats[:, 0]\n",
    "print(f'HP: min={hp.min()}, mean={hp.mean()}, max={hp.max()}, median={np.median(hp)}')"
   ]
  },
  {
   "cell_type": "code",
   "execution_count": 7,
   "metadata": {
    "tags": []
   },
   "outputs": [],
   "source": [
    "## ---------- SOLUTION 3c"
   ]
  },
  {
   "cell_type": "code",
   "execution_count": 8,
   "metadata": {},
   "outputs": [
    {
     "name": "stdout",
     "output_type": "stream",
     "text": [
      "[ 98 125 165 223  95 122 162 241 182 113]\n"
     ]
    }
   ],
   "source": [
    "# some possible solutions:\n",
    "ad = np.add(stats[:, 1], stats[:,2])    # use the np.add function explicitly\n",
    "ad = stats[:, 1] + stats[:,2]           # use the np.add function via infix notation\n",
    "ad = stats[:,1:3].sum(1)[:10]           # use the sum function on the right axis\n",
    "print(ad[:10])"
   ]
  },
  {
   "cell_type": "code",
   "execution_count": 9,
   "metadata": {
    "tags": []
   },
   "outputs": [],
   "source": [
    "## ---------- SOLUTION 3d"
   ]
  },
  {
   "cell_type": "code",
   "execution_count": 10,
   "metadata": {},
   "outputs": [
    {
     "name": "stdout",
     "output_type": "stream",
     "text": [
      "[318, 405, 525, 625, 309, 405, 534, 634, 634, 314]\n"
     ]
    }
   ],
   "source": [
    "all_list = [np.sum(x) for x in stats]\n",
    "print(all_list[:10])"
   ]
  },
  {
   "cell_type": "code",
   "execution_count": 11,
   "metadata": {},
   "outputs": [
    {
     "name": "stdout",
     "output_type": "stream",
     "text": [
      "[318 405 525 625 309 405 534 634 634 314]\n"
     ]
    }
   ],
   "source": [
    "# higher performance using np instead of the comprehension (but we wanted to practise comprehensions!)\n",
    "all_nparray=stats.sum(1)\n",
    "print(all_nparray[:10])"
   ]
  },
  {
   "cell_type": "code",
   "execution_count": 12,
   "metadata": {
    "tags": []
   },
   "outputs": [],
   "source": [
    "## ---------- SOLUTION 3e"
   ]
  },
  {
   "cell_type": "code",
   "execution_count": 13,
   "metadata": {},
   "outputs": [
    {
     "name": "stdout",
     "output_type": "stream",
     "text": [
      "['MewtwoMega Mewtwo X' 'MewtwoMega Mewtwo Y' 'RayquazaMega Rayquaza']\n"
     ]
    }
   ],
   "source": [
    "print(names[all_nparray == all_nparray.max()])"
   ]
  },
  {
   "cell_type": "markdown",
   "metadata": {
    "tags": []
   },
   "source": [
    "### Exercises 4\n",
    "\n",
    "* 4a) find the names of all Pokemon where the sum of defense and special defense is at least twice the sum of attack and special attack (let's call them the 'strong defenders')\n",
    "\n",
    "* 4b) create a 1-dim array 'att_or_def' stating for each Pokemon if it is a 'Defender' or an 'Attacker' depending on the condition from the previous exercise, using the 'where' method.\n",
    "\n",
    "* 4c) create a dict where the key are the names of the Pokemon and the value is 'Defender' or 'Attacker' (hint: use a 'dict' comprehension and the *zip* function)"
   ]
  },
  {
   "cell_type": "code",
   "execution_count": 14,
   "metadata": {
    "tags": []
   },
   "outputs": [],
   "source": [
    "## ---------- SOLUTION 4a"
   ]
  },
  {
   "cell_type": "code",
   "execution_count": 15,
   "metadata": {},
   "outputs": [
    {
     "name": "stdout",
     "output_type": "stream",
     "text": [
      "['Onix' 'Chansey' 'Magikarp' 'Togepi' 'Marill' 'Shuckle' 'Smeargle'\n",
      " 'Azurill' 'Nosepass' 'Feebas' 'Duskull' 'Dusclops' 'Wynaut' 'Regirock'\n",
      " 'Regice' 'Registeel' 'DeoxysDefense Forme' 'Shieldon' 'Bastiodon'\n",
      " 'Bronzor' 'Happiny' 'Mantyke' 'Probopass' 'Ferroseed'\n",
      " 'AegislashShield Forme' 'Carbink']\n"
     ]
    }
   ],
   "source": [
    "# using the numpy sum function (fastest)\n",
    "strong_defenders = np.sum(stats[:,(2,4)], axis=1) >= 2*(np.sum(stats[:,(1,3)], axis=(1)))\n",
    "# using the Python sum function (slower)\n",
    "strong_defenders = stats[:,(2,4)].sum(1) >= 2*(stats[:,(1,3)].sum(1))\n",
    "# using addition instead of sum\n",
    "strong_defenders = stats[:,2]+stats[:,4] >= 2*(stats[:,1]+stats[:,3])\n",
    "\n",
    "print(names[strong_defenders])"
   ]
  },
  {
   "cell_type": "code",
   "execution_count": 16,
   "metadata": {
    "tags": []
   },
   "outputs": [],
   "source": [
    "## ---------- SOLUTION 4b"
   ]
  },
  {
   "cell_type": "code",
   "execution_count": 17,
   "metadata": {},
   "outputs": [],
   "source": [
    "att_or_def = np.where(strong_defenders, 'Defender', 'Attacker')"
   ]
  },
  {
   "cell_type": "code",
   "execution_count": 18,
   "metadata": {
    "tags": []
   },
   "outputs": [],
   "source": [
    "## ---------- SOLUTION 4c"
   ]
  },
  {
   "cell_type": "code",
   "execution_count": 19,
   "metadata": {},
   "outputs": [],
   "source": [
    "ad_dict = {x:y for x, y in zip(names, att_or_def)}       # with a dict comprehension\n",
    "ad_dict = dict(zip(names, att_or_def))                   # with dict/zip"
   ]
  },
  {
   "cell_type": "code",
   "execution_count": 20,
   "metadata": {},
   "outputs": [
    {
     "name": "stdout",
     "output_type": "stream",
     "text": [
      "[('Bulbasaur', 'Attacker'), ('Ivysaur', 'Attacker'), ('Venusaur', 'Attacker'), ('VenusaurMega Venusaur', 'Attacker'), ('Charmander', 'Attacker'), ('Charmeleon', 'Attacker'), ('Charizard', 'Attacker'), ('CharizardMega Charizard X', 'Attacker'), ('CharizardMega Charizard Y', 'Attacker'), ('Squirtle', 'Attacker')]\n"
     ]
    }
   ],
   "source": [
    "print(list(ad_dict.items())[:10])                        # show 10 entries of the dict"
   ]
  },
  {
   "cell_type": "markdown",
   "metadata": {},
   "source": [
    "### Exercises 5\n",
    "\n",
    "At the start of a new game, each player get's random set of Pokemon to start with. For each Pokemon, its chance is 1.5% to be in this list.\n",
    "\n",
    "* 5a) How many Pokemon do you expect in this starting list?\n",
    "* 5b) Generate such a 'my_pokemon' set (make sure you think about and pick a suitable data type!) containing the names of the Pokemon. How many does your set contain?  \n",
    "Hint: **np.random.uniform** may come in handy.\n",
    "* 5c) Compute the total hit points your starter Pokemon can sustain (i.e. the sum of the hitpoints of your starter Pokemon)"
   ]
  },
  {
   "cell_type": "code",
   "execution_count": 21,
   "metadata": {
    "tags": []
   },
   "outputs": [],
   "source": [
    "## ---------- SOLUTION 5a"
   ]
  },
  {
   "cell_type": "code",
   "execution_count": 22,
   "metadata": {},
   "outputs": [
    {
     "data": {
      "text/plain": [
       "10.815"
      ]
     },
     "execution_count": 22,
     "metadata": {},
     "output_type": "execute_result"
    }
   ],
   "source": [
    "# This sounds easy, and it is - but note that we can only have the non-stone-evolved forms in our\n",
    "# list, as the stone-evolved form is temporary, so the correct solution is not 0.015 * len(names) \n",
    "# but rather\n",
    "0.015 * len(np.unique(ids))"
   ]
  },
  {
   "cell_type": "code",
   "execution_count": 23,
   "metadata": {
    "tags": []
   },
   "outputs": [],
   "source": [
    "## ---------- SOLUTION 5b"
   ]
  },
  {
   "cell_type": "code",
   "execution_count": 24,
   "metadata": {},
   "outputs": [],
   "source": [
    "# seed the random number generator to make the following cells reproducible\n",
    "np.random.seed(1)"
   ]
  },
  {
   "cell_type": "code",
   "execution_count": 25,
   "metadata": {},
   "outputs": [],
   "source": [
    "# we will be using a numpy array, because it is powerful and works well. we could use a regular python list as well.\n",
    "# there is also a class 'set' which could be used\n",
    "starter_pokemon_b = np.random.uniform(size=(len(names)))<=0.015"
   ]
  },
  {
   "cell_type": "code",
   "execution_count": 26,
   "metadata": {},
   "outputs": [
    {
     "name": "stdout",
     "output_type": "stream",
     "text": [
      "[2, 98, 149, 196, 250, 441, 443, 487, 538, 545, 563, 569, 677, 690, 739, 744, 765]\n"
     ]
    }
   ],
   "source": [
    "# show the indizes of all potentially chosen starter pokemon\n",
    "idx = [idx for idx in np.arange(0,len(ids))[starter_pokemon_b]]\n",
    "print(idx)"
   ]
  },
  {
   "cell_type": "code",
   "execution_count": 27,
   "metadata": {},
   "outputs": [
    {
     "name": "stdout",
     "output_type": "stream",
     "text": [
      "['Venusaur' 'Cloyster' 'Omanyte' 'AmpharosMega Ampharos' 'Phanpy' 'Starly'\n",
      " 'Staraptor' 'Mime Jr.' 'Mesprit' 'GiratinaOrigin Forme' 'Patrat'\n",
      " 'Liepard' 'Shelmet' 'Vullaby' 'Florges' 'Furfrou' 'Heliolisk']\n"
     ]
    }
   ],
   "source": [
    "print(names[starter_pokemon_b])"
   ]
  },
  {
   "cell_type": "code",
   "execution_count": 28,
   "metadata": {},
   "outputs": [
    {
     "name": "stdout",
     "output_type": "stream",
     "text": [
      "['Venusaur' 'Cloyster' 'Omanyte' 'Phanpy' 'Starly' 'Staraptor' 'Mime Jr.'\n",
      " 'Mesprit' 'Patrat' 'Liepard' 'Shelmet' 'Vullaby' 'Florges' 'Furfrou'\n",
      " 'Heliolisk']\n"
     ]
    }
   ],
   "source": [
    "# filter out all \"form\" pokemon\n",
    "starter_pokemon_idx = [idx for idx in np.arange(0,len(ids))[starter_pokemon_b] if idx==1 or ids[idx-1]!=ids[idx]]\n",
    "starter_pokemon = names[starter_pokemon_idx]\n",
    "print(starter_pokemon)"
   ]
  },
  {
   "cell_type": "code",
   "execution_count": 29,
   "metadata": {},
   "outputs": [
    {
     "data": {
      "text/plain": [
       "15"
      ]
     },
     "execution_count": 29,
     "metadata": {},
     "output_type": "execute_result"
    }
   ],
   "source": [
    "len(starter_pokemon)"
   ]
  },
  {
   "cell_type": "code",
   "execution_count": 30,
   "metadata": {
    "tags": []
   },
   "outputs": [],
   "source": [
    "## ---------- SOLUTION 5c"
   ]
  },
  {
   "cell_type": "code",
   "execution_count": 31,
   "metadata": {},
   "outputs": [
    {
     "name": "stdout",
     "output_type": "stream",
     "text": [
      "924\n"
     ]
    }
   ],
   "source": [
    "# compute the combined health\n",
    "ch = np.sum(stats[:,0][starter_pokemon_idx])\n",
    "# Alternatively, we can use the names to compute the boolean indexing array \n",
    "ch = np.sum(stats[:,0][np.array([(x in starter_pokemon) for x in names])])\n",
    "# Or, even shorter, you do not actually need to convert the boolean array to an np.array\n",
    "#  (the line above may be easier to understand, though)\n",
    "ch = np.sum(stats[:,0][[(x in starter_pokemon) for x in names]])\n",
    "\n",
    "print(ch)"
   ]
  },
  {
   "cell_type": "markdown",
   "metadata": {},
   "source": [
    "---"
   ]
  },
  {
   "cell_type": "code",
   "execution_count": 32,
   "metadata": {},
   "outputs": [],
   "source": [
    "# alternative SOLUTION 5b & 5c using return_index parameter of np.unique"
   ]
  },
  {
   "cell_type": "code",
   "execution_count": 33,
   "metadata": {},
   "outputs": [],
   "source": [
    "uix = np.unique(ids, return_index=True)[1]"
   ]
  },
  {
   "cell_type": "code",
   "execution_count": 34,
   "metadata": {},
   "outputs": [],
   "source": [
    "# compute potential starter (ps) ids, names, stats\n",
    "ps_ids = ids[uix] # this is identical to np.unique(ids, return_index=True)[0] = arange(1, 722)\n",
    "ps_names = names[uix]\n",
    "ps_stats = stats[uix]"
   ]
  },
  {
   "cell_type": "code",
   "execution_count": 35,
   "metadata": {},
   "outputs": [],
   "source": [
    "# init random number generator to make result deterministic\n",
    "np.random.seed(42)\n",
    "# computer starter ids\n",
    "starter_pokemon_b = np.random.uniform(size=(len(ps_ids)))<=0.015"
   ]
  },
  {
   "cell_type": "code",
   "execution_count": 36,
   "metadata": {},
   "outputs": [
    {
     "name": "stdout",
     "output_type": "stream",
     "text": [
      "['Tentacruel' 'Magikarp' 'Dunsparce' 'Snubbull' 'Swablu' 'Cranidos'\n",
      " 'Lumineon' 'Glaceon' 'Tirtouga']\n"
     ]
    }
   ],
   "source": [
    "print(ps_names[starter_pokemon_b])"
   ]
  },
  {
   "cell_type": "code",
   "execution_count": 37,
   "metadata": {},
   "outputs": [
    {
     "data": {
      "text/plain": [
       "560"
      ]
     },
     "execution_count": 37,
     "metadata": {},
     "output_type": "execute_result"
    }
   ],
   "source": [
    "np.sum(ps_stats[:,0][starter_pokemon_b])"
   ]
  },
  {
   "cell_type": "markdown",
   "metadata": {},
   "source": [
    "---"
   ]
  }
 ],
 "metadata": {
  "kernelspec": {
   "display_name": "Python 3 (ipykernel)",
   "language": "python",
   "name": "python3"
  },
  "language_info": {
   "codemirror_mode": {
    "name": "ipython",
    "version": 3
   },
   "file_extension": ".py",
   "mimetype": "text/x-python",
   "name": "python",
   "nbconvert_exporter": "python",
   "pygments_lexer": "ipython3",
   "version": "3.10.8"
  }
 },
 "nbformat": 4,
 "nbformat_minor": 4
}

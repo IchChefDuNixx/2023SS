{
 "cells": [
  {
   "cell_type": "code",
   "execution_count": 3,
   "metadata": {},
   "outputs": [
    {
     "name": "stdout",
     "output_type": "stream",
     "text": [
      "Hi, I'm Felix Freddington (21) and came from Freddingsburgh. I'm interested in Tech2.\n"
     ]
    }
   ],
   "source": [
    "from person import Person, Student\n",
    "\n",
    "felix = Person(\"Felix\", DoB=\"28.11.2001\", hobby=\"Tech\", hobby2=\"Tech2\")\n",
    "felix.introduce()"
   ]
  }
 ],
 "metadata": {
  "kernelspec": {
   "display_name": "Python 3",
   "language": "python",
   "name": "python3"
  },
  "language_info": {
   "codemirror_mode": {
    "name": "ipython",
    "version": 3
   },
   "file_extension": ".py",
   "mimetype": "text/x-python",
   "name": "python",
   "nbconvert_exporter": "python",
   "pygments_lexer": "ipython3",
   "version": "3.10.0"
  },
  "orig_nbformat": 4,
  "vscode": {
   "interpreter": {
    "hash": "e2f04cf2f7544c889a1a0098c1cf78ced2c664ea38df0d27a9b899b5831aa2a5"
   }
  }
 },
 "nbformat": 4,
 "nbformat_minor": 2
}

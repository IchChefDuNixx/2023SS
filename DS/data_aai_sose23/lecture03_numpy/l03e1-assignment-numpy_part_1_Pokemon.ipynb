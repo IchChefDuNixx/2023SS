{
 "cells": [
  {
   "cell_type": "code",
   "execution_count": 1,
   "metadata": {
    "tags": []
   },
   "outputs": [],
   "source": [
    "# This is Lecture03 - Exercise 1\n",
    "# of the \"Data Science\" class at Technische Hochschule Rosenheim"
   ]
  },
  {
   "cell_type": "markdown",
   "metadata": {},
   "source": [
    "# Pokemon Dataset\n",
    "\n",
    "In this exercise you will be analysing a dataset about Pokemon.\n",
    "<img src=\"figures/pokemon.png\" alt=\"Pikatchu\" align=\"right\" width=\"200\"/>\n",
    "\n",
    "### Intro to Pokemon\n",
    "Pokémon is a media franchise managed by The Pokémon Company, a Japanese consortium between Nintendo, Game Freak, and Creatures. While the franchise copyright is shared by all three companies, Nintendo is the sole owner of the trademark. The franchise was created by Satoshi Tajiri in 1995, and is centered on fictional creatures called \"Pokémon\", which humans, known as Pokémon Trainers, catch and train to battle each other for sport.\n",
    "\n",
    "The name Pokémon is the romanized contraction of the Japanese brand Pocket Monsters. The term Pokémon, in addition to referring to the Pokémon franchise itself, also collectively refers to the 721 known fictional species that have made appearances in Pokémon media as of the release of the sixth generation titles Pokémon X and Y. \"Pokémon\" is identical in both the singular and plural, as is each individual species name; it is grammatically correct to say \"one Pokémon\" and \"many Pokémon\", as well as \"one Pikachu\" and \"many Pikachu\". (source: wikipedia.com)"
   ]
  },
  {
   "cell_type": "markdown",
   "metadata": {},
   "source": [
    "### The Dataset\n",
    "You can find the data in three files in the 'data' directory. This are the raw attributes that are used for calculating how much damage an attack will do in the games. This dataset is about the Pokemon games (NOT Pokemon cards or Pokemon Go).\n",
    "\n",
    "1) 'pokemon_ids.npy' contains an int ndarray of the ID for each Pokemon\n",
    "\n",
    "2) 'pokemon_names.npy' contains a string ndarray of the name of each Pokemon (Hint: to `load` this file, you need to set the named parameter `allow_pickle` to `True`, as strings are objects)\n",
    "\n",
    "3) 'pokemon_stats.npy' contains a ndarray with 6 columns for each Pokemon\n",
    "\n",
    "- HP: hit points, or health, defines how much damage a Pokemon can withstand before fainting\n",
    "- Attack: the base modifier for normal attacks (eg. Scratch, Punch)\n",
    "- Defense: the base damage resistance against normal attacks\n",
    "- SP Atk: special attack, the base modifier for special attacks (e.g. fire blast, bubble beam)\n",
    "- SP Def: the base damage resistance against special attacks\n",
    "- Speed: determines which Pokemon attacks first each round\n"
   ]
  },
  {
   "cell_type": "markdown",
   "metadata": {},
   "source": [
    "### Exercises 1\n",
    "\n",
    "* 1a) load the dataset into three numpy arrays 'ids', 'names' and 'stats'. Verfiy the datatypes of each array.\n",
    "\n",
    "* 1b) how many rows do you expect the array to have? verify your assumption!\n",
    "\n",
    "* 1c) inspect the first 10 rows and the last 10 rows - do you notice anything important? Find an explanation for your observation!\n"
   ]
  },
  {
   "cell_type": "code",
   "execution_count": 1,
   "metadata": {},
   "outputs": [],
   "source": [
    "import numpy as np"
   ]
  },
  {
   "cell_type": "code",
   "execution_count": 37,
   "metadata": {},
   "outputs": [
    {
     "name": "stdout",
     "output_type": "stream",
     "text": [
      "<class 'numpy.ndarray'>\n",
      "<class 'numpy.ndarray'>\n",
      "<class 'numpy.ndarray'>\n"
     ]
    }
   ],
   "source": [
    "## ---------- SOLUTION 1a\n",
    "pokemon_ids = np.load(\"pokemon_ids.npy\")\n",
    "pokemon_names = np.load(\"pokemon_names.npy\", allow_pickle=True)\n",
    "pokemon_stats = np.load(\"pokemon_stats.npy\")\n",
    "print(type(pokemon_ids))\n",
    "print(type(pokemon_names))\n",
    "print(type(pokemon_stats))"
   ]
  },
  {
   "cell_type": "code",
   "execution_count": 9,
   "metadata": {
    "tags": []
   },
   "outputs": [
    {
     "name": "stdout",
     "output_type": "stream",
     "text": [
      "800\n",
      "800\n",
      "800\n"
     ]
    }
   ],
   "source": [
    "## ---------- SOLUTION 1b\n",
    "print(len(pokemon_ids))\n",
    "print(len(pokemon_names))\n",
    "print(len(pokemon_stats))"
   ]
  },
  {
   "cell_type": "code",
   "execution_count": 12,
   "metadata": {},
   "outputs": [
    {
     "name": "stdout",
     "output_type": "stream",
     "text": [
      "[1 2 3 3 4 5 6 6 6 7]\n",
      "['Bulbasaur' 'Ivysaur' 'Venusaur' 'VenusaurMega Venusaur' 'Charmander'\n",
      " 'Charmeleon' 'Charizard' 'CharizardMega Charizard X'\n",
      " 'CharizardMega Charizard Y' 'Squirtle']\n",
      "[[ 45  49  49  65  65  45]\n",
      " [ 60  62  63  80  80  60]\n",
      " [ 80  82  83 100 100  80]\n",
      " [ 80 100 123 122 120  80]\n",
      " [ 39  52  43  60  50  65]\n",
      " [ 58  64  58  80  65  80]\n",
      " [ 78  84  78 109  85 100]\n",
      " [ 78 130 111 130  85 100]\n",
      " [ 78 104  78 159 115 100]\n",
      " [ 44  48  65  50  64  43]]\n"
     ]
    }
   ],
   "source": [
    "## ---------- SOLUTION 1c\n",
    "print(pokemon_ids[:10])\n",
    "print(pokemon_names[:10])\n",
    "print(pokemon_stats[:10])"
   ]
  },
  {
   "cell_type": "code",
   "execution_count": 15,
   "metadata": {},
   "outputs": [
    {
     "name": "stdout",
     "output_type": "stream",
     "text": [
      "[714 715 716 717 718 719 719 720 720 721]\n",
      "['Noibat' 'Noivern' 'Xerneas' 'Yveltal' 'Zygarde50% Forme' 'Diancie'\n",
      " 'DiancieMega Diancie' 'HoopaHoopa Confined' 'HoopaHoopa Unbound'\n",
      " 'Volcanion']\n",
      "[[ 40  30  35  45  40  55]\n",
      " [ 85  70  80  97  80 123]\n",
      " [126 131  95 131  98  99]\n",
      " [126 131  95 131  98  99]\n",
      " [108 100 121  81  95  95]\n",
      " [ 50 100 150 100 150  50]\n",
      " [ 50 160 110 160 110 110]\n",
      " [ 80 110  60 150 130  70]\n",
      " [ 80 160  60 170 130  80]\n",
      " [ 80 110 120 130  90  70]]\n"
     ]
    }
   ],
   "source": [
    "print(pokemon_ids[-10:])\n",
    "print(pokemon_names[-10:])\n",
    "print(pokemon_stats[-10:])"
   ]
  },
  {
   "cell_type": "markdown",
   "metadata": {},
   "source": [
    "### Exercises 2\n",
    "\n",
    "* 2a) find the ids and names of all Pokemon with hitpoints above 150\n",
    "* 2b) find the names of all Pokemon that have a higher Attack than Defense (the \"attackers\")"
   ]
  },
  {
   "cell_type": "code",
   "execution_count": 44,
   "metadata": {},
   "outputs": [
    {
     "name": "stdout",
     "output_type": "stream",
     "text": [
      "(113, 'Chansey') (143, 'Snorlax') (202, 'Wobbuffet') (242, 'Blissey') (321, 'Wailord') (594, 'Alomomola')\n"
     ]
    }
   ],
   "source": [
    "## ---------- SOLUTION 2a\n",
    "bool_index = (pokemon_stats[:, 0] > 150)\n",
    "print(*zip(pokemon_ids[bool_index], pokemon_names[bool_index]))"
   ]
  },
  {
   "cell_type": "code",
   "execution_count": 66,
   "metadata": {},
   "outputs": [
    {
     "name": "stdout",
     "output_type": "stream",
     "text": [
      "(2, 433)\n",
      "[[4 5 6 6 6 13 15 15 16 17 18 19 20 21 22 23 24 25 26 31 32 33 34 37 38\n",
      "  39 40 41 42 46 47 48 49 50 51 52 53 54 55 56 57 58 59 60 63 64 65 66 67\n",
      "  68 69 70 71 72 73 77 78 83 84 85 88 89 92 93 94 96 97 98 99 103 106 107\n",
      "  112 115 115 118 119 123 124 125 126 127 127 128 130 130 131 133 134 135\n",
      "  136 141 142 142 143 145 146 147 148 149 150 150 150 155 156 157 158 160\n",
      "  161 162 167 168 169 172 174 177 178 190 192 193 196 198 201 203 209 210\n",
      "  211 212 212 214 214 215 216 217 220 221 223 224 225 228 229 234 238 239\n",
      "  240 243 244 246 247 248 248 250 252 253 254 254 255 256 257 257 258 259\n",
      "  260 260 261 262 264 265 267 274 275 276 277 282 286 289 291 292 293 294\n",
      "  295 296 297 308 309 310 311 313 315 318 319 319 320 321 322 323 323 328\n",
      "  329 330 331 332 335 336 338 339 340 341 342 347 348 352 353 354 354 359\n",
      "  359 362 371 373 373 376 381 381 382 382 383 383 384 384 386 386 386 387\n",
      "  388 389 390 391 392 396 397 398 399 400 402 403 404 405 407 408 409 414\n",
      "  418 419 423 424 425 426 427 428 430 431 432 434 435 441 443 444 445 445\n",
      "  446 447 448 448 453 454 455 459 460 460 461 464 466 467 473 474 475 475\n",
      "  478 482 484 486 487 492 498 499 500 501 502 503 504 505 506 507 508 509\n",
      "  510 511 512 513 514 515 516 519 520 521 522 523 526 527 528 529 530 532\n",
      "  533 534 535 536 537 538 539 542 545 550 551 552 553 554 555 556 559 566\n",
      "  567 569 570 571 572 573 581 584 585 586 587 588 589 590 591 596 602 603\n",
      "  604 610 611 612 613 614 615 617 619 620 621 622 623 624 625 626 627 628\n",
      "  631 633 634 635 636 639 640 641 641 642 642 643 644 645 645 646 646 646\n",
      "  648 649 653 654 656 657 658 661 662 663 666 672 673 674 675 676 681 686\n",
      "  687 694 695 696 697 698 699 701 702 704 705 706 708 709 716 717 719 720\n",
      "  720]\n",
      " ['Charmander' 'Charmeleon' 'Charizard' 'CharizardMega Charizard X'\n",
      "  'CharizardMega Charizard Y' 'Weedle' 'Beedrill' 'BeedrillMega Beedrill'\n",
      "  'Pidgey' 'Pidgeotto' 'Pidgeot' 'Rattata' 'Raticate' 'Spearow' 'Fearow'\n",
      "  'Ekans' 'Arbok' 'Pikachu' 'Raichu' 'Nidoqueen' 'Nidoran♂' 'Nidorino'\n",
      "  'Nidoking' 'Vulpix' 'Ninetales' 'Jigglypuff' 'Wigglytuff' 'Zubat'\n",
      "  'Golbat' 'Paras' 'Parasect' 'Venonat' 'Venomoth' 'Diglett' 'Dugtrio'\n",
      "  'Meowth' 'Persian' 'Psyduck' 'Golduck' 'Mankey' 'Primeape' 'Growlithe'\n",
      "  'Arcanine' 'Poliwag' 'Abra' 'Kadabra' 'Alakazam' 'Machop' 'Machoke'\n",
      "  'Machamp' 'Bellsprout' 'Weepinbell' 'Victreebel' 'Tentacool'\n",
      "  'Tentacruel' 'Ponyta' 'Rapidash' \"Farfetch'd\" 'Doduo' 'Dodrio' 'Grimer'\n",
      "  'Muk' 'Gastly' 'Haunter' 'Gengar' 'Drowzee' 'Hypno' 'Krabby' 'Kingler'\n",
      "  'Exeggutor' 'Hitmonlee' 'Hitmonchan' 'Rhydon' 'Kangaskhan'\n",
      "  'KangaskhanMega Kangaskhan' 'Goldeen' 'Seaking' 'Scyther' 'Jynx'\n",
      "  'Electabuzz' 'Magmar' 'Pinsir' 'PinsirMega Pinsir' 'Tauros' 'Gyarados'\n",
      "  'GyaradosMega Gyarados' 'Lapras' 'Eevee' 'Vaporeon' 'Jolteon' 'Flareon'\n",
      "  'Kabutops' 'Aerodactyl' 'AerodactylMega Aerodactyl' 'Snorlax' 'Zapdos'\n",
      "  'Moltres' 'Dratini' 'Dragonair' 'Dragonite' 'Mewtwo'\n",
      "  'MewtwoMega Mewtwo X' 'MewtwoMega Mewtwo Y' 'Cyndaquil' 'Quilava'\n",
      "  'Typhlosion' 'Totodile' 'Feraligatr' 'Sentret' 'Furret' 'Spinarak'\n",
      "  'Ariados' 'Crobat' 'Pichu' 'Igglybuff' 'Natu' 'Xatu' 'Aipom' 'Sunflora'\n",
      "  'Yanma' 'Espeon' 'Murkrow' 'Unown' 'Girafarig' 'Snubbull' 'Granbull'\n",
      "  'Qwilfish' 'Scizor' 'ScizorMega Scizor' 'Heracross'\n",
      "  'HeracrossMega Heracross' 'Sneasel' 'Teddiursa' 'Ursaring' 'Swinub'\n",
      "  'Piloswine' 'Remoraid' 'Octillery' 'Delibird' 'Houndour' 'Houndoom'\n",
      "  'Stantler' 'Smoochum' 'Elekid' 'Magby' 'Raikou' 'Entei' 'Larvitar'\n",
      "  'Pupitar' 'Tyranitar' 'TyranitarMega Tyranitar' 'Ho-oh' 'Treecko'\n",
      "  'Grovyle' 'Sceptile' 'SceptileMega Sceptile' 'Torchic' 'Combusken'\n",
      "  'Blaziken' 'BlazikenMega Blaziken' 'Mudkip' 'Marshtomp' 'Swampert'\n",
      "  'SwampertMega Swampert' 'Poochyena' 'Mightyena' 'Linoone' 'Wurmple'\n",
      "  'Beautifly' 'Nuzleaf' 'Shiftry' 'Taillow' 'Swellow'\n",
      "  'GardevoirMega Gardevoir' 'Breloom' 'Slaking' 'Ninjask' 'Shedinja'\n",
      "  'Whismur' 'Loudred' 'Exploud' 'Makuhita' 'Hariyama'\n",
      "  'MedichamMega Medicham' 'Electrike' 'Manectric' 'Plusle' 'Volbeat'\n",
      "  'Roselia' 'Carvanha' 'Sharpedo' 'SharpedoMega Sharpedo' 'Wailmer'\n",
      "  'Wailord' 'Numel' 'Camerupt' 'CameruptMega Camerupt' 'Trapinch'\n",
      "  'Vibrava' 'Flygon' 'Cacnea' 'Cacturne' 'Zangoose' 'Seviper' 'Solrock'\n",
      "  'Barboach' 'Whiscash' 'Corphish' 'Crawdaunt' 'Anorith' 'Armaldo'\n",
      "  'Kecleon' 'Shuppet' 'Banette' 'BanetteMega Banette' 'Absol'\n",
      "  'AbsolMega Absol' 'GlalieMega Glalie' 'Bagon' 'Salamence'\n",
      "  'SalamenceMega Salamence' 'Metagross' 'Latios' 'LatiosMega Latios'\n",
      "  'Kyogre' 'KyogrePrimal Kyogre' 'Groudon' 'GroudonPrimal Groudon'\n",
      "  'Rayquaza' 'RayquazaMega Rayquaza' 'DeoxysNormal Forme'\n",
      "  'DeoxysAttack Forme' 'DeoxysSpeed Forme' 'Turtwig' 'Grotle' 'Torterra'\n",
      "  'Chimchar' 'Monferno' 'Infernape' 'Starly' 'Staravia' 'Staraptor'\n",
      "  'Bidoof' 'Bibarel' 'Kricketune' 'Shinx' 'Luxio' 'Luxray' 'Roserade'\n",
      "  'Cranidos' 'Rampardos' 'Mothim' 'Buizel' 'Floatzel' 'Gastrodon'\n",
      "  'Ambipom' 'Drifloon' 'Drifblim' 'Buneary' 'LopunnyMega Lopunny'\n",
      "  'Honchkrow' 'Glameow' 'Purugly' 'Stunky' 'Skuntank' 'Chatot' 'Gible'\n",
      "  'Gabite' 'Garchomp' 'GarchompMega Garchomp' 'Munchlax' 'Riolu'\n",
      "  'Lucario' 'LucarioMega Lucario' 'Croagunk' 'Toxicroak' 'Carnivine'\n",
      "  'Snover' 'Abomasnow' 'AbomasnowMega Abomasnow' 'Weavile' 'Rhyperior'\n",
      "  'Electivire' 'Magmortar' 'Mamoswine' 'Porygon-Z' 'Gallade'\n",
      "  'GalladeMega Gallade' 'Froslass' 'Azelf' 'Palkia' 'Regigigas'\n",
      "  'GiratinaOrigin Forme' 'ShayminSky Forme' 'Tepig' 'Pignite' 'Emboar'\n",
      "  'Oshawott' 'Dewott' 'Samurott' 'Patrat' 'Watchog' 'Lillipup' 'Herdier'\n",
      "  'Stoutland' 'Purrloin' 'Liepard' 'Pansage' 'Simisage' 'Pansear'\n",
      "  'Simisear' 'Panpour' 'Simipour' 'Pidove' 'Tranquill' 'Unfezant'\n",
      "  'Blitzle' 'Zebstrika' 'Gigalith' 'Woobat' 'Swoobat' 'Drilbur'\n",
      "  'Excadrill' 'Timburr' 'Gurdurr' 'Conkeldurr' 'Tympole' 'Palpitoad'\n",
      "  'Seismitoad' 'Throh' 'Sawk' 'Leavanny' 'Scolipede' 'Basculin' 'Sandile'\n",
      "  'Krokorok' 'Krookodile' 'Darumaka' 'DarmanitanStandard Mode' 'Maractus'\n",
      "  'Scraggy' 'Archen' 'Archeops' 'Garbodor' 'Zorua' 'Zoroark' 'Minccino'\n",
      "  'Cinccino' 'Swanna' 'Vanilluxe' 'Deerling' 'Sawsbuck' 'Emolga'\n",
      "  'Karrablast' 'Escavalier' 'Foongus' 'Amoonguss' 'Galvantula' 'Tynamo'\n",
      "  'Eelektrik' 'Eelektross' 'Axew' 'Fraxure' 'Haxorus' 'Cubchoo' 'Beartic'\n",
      "  'Cryogonal' 'Accelgor' 'Mienfoo' 'Mienshao' 'Druddigon' 'Golett'\n",
      "  'Golurk' 'Pawniard' 'Bisharp' 'Bouffalant' 'Rufflet' 'Braviary'\n",
      "  'Heatmor' 'Deino' 'Zweilous' 'Hydreigon' 'Larvesta' 'Terrakion'\n",
      "  'Virizion' 'TornadusIncarnate Forme' 'TornadusTherian Forme'\n",
      "  'ThundurusIncarnate Forme' 'ThundurusTherian Forme' 'Reshiram' 'Zekrom'\n",
      "  'LandorusIncarnate Forme' 'LandorusTherian Forme' 'Kyurem'\n",
      "  'KyuremBlack Kyurem' 'KyuremWhite Kyurem' 'MeloettaPirouette Forme'\n",
      "  'Genesect' 'Fennekin' 'Braixen' 'Froakie' 'Frogadier' 'Greninja'\n",
      "  'Fletchling' 'Fletchinder' 'Talonflame' 'Vivillon' 'Skiddo' 'Gogoat'\n",
      "  'Pancham' 'Pangoro' 'Furfrou' 'AegislashBlade Forme' 'Inkay' 'Malamar'\n",
      "  'Helioptile' 'Heliolisk' 'Tyrunt' 'Tyrantrum' 'Amaura' 'Aurorus'\n",
      "  'Hawlucha' 'Dedenne' 'Goomy' 'Sliggoo' 'Goodra' 'Phantump' 'Trevenant'\n",
      "  'Xerneas' 'Yveltal' 'DiancieMega Diancie' 'HoopaHoopa Confined'\n",
      "  'HoopaHoopa Unbound']]\n"
     ]
    }
   ],
   "source": [
    "## ---------- SOLUTION 2b\n",
    "bool_index = (pokemon_stats[:, 1] > pokemon_stats[:, 2])\n",
    "pokemon_attacker = np.array((pokemon_ids[bool_index], pokemon_names[bool_index]))\n",
    "print(pokemon_attacker.shape)\n",
    "print(pokemon_attacker)"
   ]
  },
  {
   "cell_type": "markdown",
   "metadata": {},
   "source": [
    "---"
   ]
  }
 ],
 "metadata": {
  "kernelspec": {
   "display_name": "Python 3 (ipykernel)",
   "language": "python",
   "name": "python3"
  },
  "language_info": {
   "codemirror_mode": {
    "name": "ipython",
    "version": 3
   },
   "file_extension": ".py",
   "mimetype": "text/x-python",
   "name": "python",
   "nbconvert_exporter": "python",
   "pygments_lexer": "ipython3",
   "version": "3.10.10"
  }
 },
 "nbformat": 4,
 "nbformat_minor": 4
}

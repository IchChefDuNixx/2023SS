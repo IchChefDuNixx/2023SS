{
 "cells": [
  {
   "cell_type": "code",
   "execution_count": 314,
   "metadata": {
    "tags": []
   },
   "outputs": [],
   "source": [
    "# This is Lecture03 - Exercise 2\n",
    "# of the \"Data Science\" class at Technische Hochschule Rosenheim"
   ]
  },
  {
   "cell_type": "markdown",
   "metadata": {},
   "source": [
    "<img src=\"figures/pokemon-sign.svg\" alt=\"PokemonSign\" align=\"right\" width=\"150\"/>\n",
    "\n",
    "# Pokemon Dataset\n",
    "\n",
    "In this exercise you will continue to analyse the Pokemon dataset."
   ]
  },
  {
   "cell_type": "markdown",
   "metadata": {},
   "source": [
    "### Exercises 3\n",
    "\n",
    "* 3a) load the dataset\n",
    "\n",
    "* 3b) print (in one line) the min, mean, max and median of the hitpoints\n",
    "\n",
    "* 3c) compute a one-dim array containing the sum of Attack and Defense for each Pokemon\n",
    "\n",
    "* 3d) compute a list 'all' containing the sum of all 6 stats for each Pokemon (using a list comprehension)\n",
    "\n",
    "* 3e) use boolean indexing and your 'all' list to find the name of the Pokemon with the highest sum of all 6 stats"
   ]
  },
  {
   "cell_type": "code",
   "execution_count": 315,
   "metadata": {},
   "outputs": [],
   "source": [
    "import numpy as np"
   ]
  },
  {
   "cell_type": "code",
   "execution_count": 316,
   "metadata": {
    "tags": []
   },
   "outputs": [
    {
     "data": {
      "text/plain": [
       "array([[ 45,  49,  49,  65,  65,  45],\n",
       "       [ 60,  62,  63,  80,  80,  60],\n",
       "       [ 80,  82,  83, 100, 100,  80],\n",
       "       ...,\n",
       "       [ 80, 110,  60, 150, 130,  70],\n",
       "       [ 80, 160,  60, 170, 130,  80],\n",
       "       [ 80, 110, 120, 130,  90,  70]], dtype=int64)"
      ]
     },
     "execution_count": 316,
     "metadata": {},
     "output_type": "execute_result"
    }
   ],
   "source": [
    "## ---------- SOLUTION 3a\n",
    "pokemon_ids = np.load(\"pokemon_ids.npy\")\n",
    "pokemon_names = np.load(\"pokemon_names.npy\", allow_pickle=True)\n",
    "pokemon_stats = np.load(\"pokemon_stats.npy\") # HP, ATK, DEF, SP ATK, SP DEF, SPEED\n",
    "pokemon_stats"
   ]
  },
  {
   "cell_type": "code",
   "execution_count": 317,
   "metadata": {
    "tags": []
   },
   "outputs": [
    {
     "name": "stdout",
     "output_type": "stream",
     "text": [
      "1 69.25875 255\n"
     ]
    }
   ],
   "source": [
    "## ---------- SOLUTION 3b\n",
    "pokemon_hp = pokemon_stats[:,0]\n",
    "print(np.min(pokemon_hp), np.mean(pokemon_hp), np.max(pokemon_hp))"
   ]
  },
  {
   "cell_type": "code",
   "execution_count": 318,
   "metadata": {
    "tags": []
   },
   "outputs": [
    {
     "name": "stdout",
     "output_type": "stream",
     "text": [
      "800 [ 98 125 165 223  95 122 162 241 182 113 143 183 223  65  75  95  65  75\n",
      " 130 190  85 115 155 160  91 141  90 155 104 154  95 145 160 210  99 129\n",
      " 179  97 129 179  93 143  81 151  65 115  80 150 105 135 165 125 175 105\n",
      " 125  80 130  80 130 100 160 115 165 115 190  90 130 190  35  65  95 115\n",
      " 130 170 210 110 140 170  75 135 180 210 250 140 170 130 185 255 105 155\n",
      " 120 130 180 100 150 130 180 165 275  65  95 125 145 205  93 143 195 245\n",
      "  80 120 120 180 145 190 173 184 130 160 210 180 250  10 170 175 225 110\n",
      " 160 127 157 100 160 110 190  85 140 152 225 275 195  65 204 264 165  96\n",
      " 105 125 125 190 130 140 185 170 220 170 220 175 185 175 190 109 149 229\n",
      " 200 290 220 200 114 142 182  95 122 162 129 160 205  80 140  60 100  50\n",
      "  85 100 160 170  76 116  55  53  45  85 125  95 145  80 110 160 200 175\n",
      "  70 130 215 150  75  95 125 125  60 130 110  90 170 125 175 127 155 120\n",
      " 120  91 145 155 230 140 180 285 355 130 195 170 230 290 240 200 300 150\n",
      " 130 205  80 170  90 180 140 100 180 100 110 220  90 140 180 190 120 240\n",
      " 170 157  55  70 190  45 100 112 185  20 160 200 190 114 154 244 314 220\n",
      " 220 200  80 110 150 185 100 145 190 240 120 155 200 260  90 160  71 131\n",
      "  80  90 120  90 120  60 100 140  90 110 160  85 145  60 150  50  70 130\n",
      " 150  62 122 100 210 120 160 260 135 135 135  74 114 154  90 180  60 180\n",
      "  90 130 150 210 170 230 170 230 290 370  95 135 185  85 135 155  90  90\n",
      " 128 102 105  96 156 110 160 210 105 135 100 170 220 225  60 110 120 145\n",
      " 120 180 125 175 100 160 220 175 160 120 180  91 151 145 205  95 175 118\n",
      " 178 145 225  35 139 140 160 110 180 240 130 200 151 120 190 210  71 100\n",
      " 160 200  90 130 170 149 209 189 220  85 135 195 215 275 135 175 265 295\n",
      " 300 150 225 170 220 170 230 190 240 290 340 240 280 200 200 200 230 185\n",
      " 132 174 214 102 130 175 104 134 174  85 125 190  85 145  66 136  99 134\n",
      " 199  65 135 165 225 160 220  74 144 184 164 144  72 182 115 100 160  80\n",
      " 130  96 151 166  84 124 110 160 230 120 177  97 146  80 110 160 110 205\n",
      " 175  70  10 110 200 115 155 225 285 125 110 180 233 150 230 140 200 101\n",
      " 171 172 105 145  70 112 167 237 185 185 180 270 225 190 162 145 162 240\n",
      " 170 220 210 150 190 260 200 235 150 127 172 172 172 172 172 205 210 195\n",
      " 240 220 196 270 220 220 190 160 200 180 200 178 240 200 100 135 170 108\n",
      " 148 188 100 135 185  94 154 105 145 200  87 138 101 161 101 161 101 161\n",
      "  70 140 105 139 195  92 163 160 210 265  88 112 125 195 146 186 135 190\n",
      " 235  90 120 170 185 200 123 153 183 104 154 189  87 152  85 135 157 107\n",
      " 127 197 135 195 135 153 150 220 145 205 138 115 195 181 241 157 205 112\n",
      " 177 105 165  90 155  80 115 150  70  90 140  94 150 100 130 180 110 170\n",
      " 135 120 240 100 155  90 130 155  97 137 141 225 125 175 215  95 155 195\n",
      " 110 150  85 100 145 147 187 237 110 190  80 125 110 150 135 185 210 124\n",
      " 204 155 225 205 133 198 130 170 163 221 115 155 195 140 125 219 219 162\n",
      " 185 180 185 175 220 270 215 235 220 270 210 162 162 154 218 215 126 173\n",
      " 229  85 117 141  96 115 162  74 133  93 128 152  75  82 102 108 140  77\n",
      "  92 133 113 162 144 202 140 102 124 124 180 260 200 200 112 144 114 166\n",
      " 107 180 119 220 120 165 115 161  71 107 166 240 109 149 130 167 115 200\n",
      "  85 128 170 171 118 186 136 136 136 136 212 207 217 222 154 301  65 150\n",
      " 226 226 221 250 270 170 220 230]\n"
     ]
    }
   ],
   "source": [
    "## ---------- SOLUTION 3c\n",
    "pokemon_sum_atk_def = np.sum(pokemon_stats[:, 1:3], axis=1)\n",
    "print(len(pokemon_sum_atk_def), pokemon_sum_atk_def)"
   ]
  },
  {
   "cell_type": "code",
   "execution_count": 319,
   "metadata": {
    "tags": []
   },
   "outputs": [
    {
     "name": "stdout",
     "output_type": "stream",
     "text": [
      "800 [318 405 525 625 309 405 534 634 634 314 405 530 630 195 205 395 195 205\n",
      " 395 495 251 349 479 579 253 413 262 442 288 438 320 485 300 450 275 365\n",
      " 505 273 365 505 323 483 299 505 270 435 245 455 320 395 490 285 405 305\n",
      " 450 265 405 290 440 320 500 305 455 350 555 300 385 510 310 400 500 590\n",
      " 305 405 505 300 390 490 335 515 300 390 495 410 500 315 490 590 325 465\n",
      " 352 310 460 325 475 325 500 305 525 310 405 500 600 385 328 483 325 475\n",
      " 330 480 325 520 320 425 455 455 385 340 490 345 485 450 435 490 590 295\n",
      " 440 320 450 340 520 460 500 455 490 495 500 600 490 200 540 640 535 288\n",
      " 325 525 525 525 395 355 495 355 495 515 615 540 580 580 580 300 420 600\n",
      " 680 780 780 600 318 405 525 309 405 534 314 405 530 215 415 262 442 265\n",
      " 390 250 390 535 330 460 205 218 210 245 405 320 470 280 365 510 610 490\n",
      " 250 420 410 500 250 340 460 360 180 425 390 210 430 525 525 405 490 435\n",
      " 336 405 455 290 465 415 430 510 610 300 450 430 500 600 505 500 600 430\n",
      " 330 500 250 410 250 450 380 300 480 330 465 465 330 500 600 540 330 500\n",
      " 515 465 250 210 455 305 360 365 490 540 580 580 580 300 410 600 700 680\n",
      " 680 600 310 405 530 630 310 405 530 630 310 405 535 635 220 420 240 420\n",
      " 195 205 395 205 385 220 340 480 220 340 480 270 430 270 430 198 278 518\n",
      " 618 269 414 295 460 280 440 670 266 456 236 240 360 490 237 474 190 375\n",
      " 260 380 380 480 380 480 330 430 530 630 280 410 510 295 475 575 405 405\n",
      " 400 400 400 302 467 305 460 560 400 500 305 460 560 470 330 470 360 290\n",
      " 340 520 335 475 310 490 590 458 458 440 440 288 468 308 468 300 500 355\n",
      " 495 355 495 200 540 420 440 295 455 555 295 455 460 425 465 565 260 300\n",
      " 480 580 290 410 530 345 485 485 485 330 300 420 600 700 300 420 600 700\n",
      " 580 580 580 600 700 600 700 670 770 670 770 680 780 600 600 600 600 600\n",
      " 318 405 525 309 405 534 314 405 530 245 340 485 250 410 194 384 263 363\n",
      " 523 280 515 350 495 350 495 224 424 424 424 424 244 474 405 330 495 275\n",
      " 450 325 475 482 348 498 350 480 580 495 505 310 452 285 329 479 300 500\n",
      " 290 310 220 411 485 300 410 600 700 390 285 525 625 330 525 330 500 300\n",
      " 490 454 330 460 345 334 494 594 510 535 515 535 535 540 540 545 515 525\n",
      " 525 510 530 535 518 618 525 525 480 440 520 520 520 520 520 580 580 580\n",
      " 680 680 600 670 680 680 600 480 600 600 600 600 720 600 308 413 528 308\n",
      " 418 528 308 413 528 255 420 275 370 500 281 446 316 498 316 498 316 498\n",
      " 292 487 264 358 488 295 497 280 390 515 313 425 328 508 445 545 305 405\n",
      " 505 294 384 509 465 465 310 380 500 260 360 485 280 480 280 480 460 292\n",
      " 351 519 315 480 540 461 325 475 348 488 490 303 483 355 495 401 567 329\n",
      " 474 330 510 300 470 290 390 490 290 370 490 305 473 305 395 535 335 475\n",
      " 428 315 495 294 464 335 480 470 319 472 305 489 300 440 520 275 405 515\n",
      " 335 485 275 370 520 320 410 540 305 485 485 305 495 471 350 510 485 303\n",
      " 483 340 490 490 350 510 370 510 484 484 300 420 600 360 550 580 580 580\n",
      " 580 580 580 580 680 680 600 600 660 700 700 580 580 600 600 600 313 405\n",
      " 530 307 409 534 314 405 530 237 423 278 382 499 200 213 411 369 507 303\n",
      " 371 552 350 531 348 495 472 355 466 466 325 448 520 520 341 462 341 480\n",
      " 288 482 306 500 320 494 330 500 289 481 362 521 362 521 525 500 431 500\n",
      " 300 452 600 470 309 474 335 335 335 335 494 494 494 494 304 514 245 535\n",
      " 680 680 600 600 700 600 680 600]\n"
     ]
    }
   ],
   "source": [
    "## ---------- SOLUTION 3d\n",
    "pokemon_all = np.array([row.sum() for row in pokemon_stats])\n",
    "print(len(pokemon_all), pokemon_all)"
   ]
  },
  {
   "cell_type": "code",
   "execution_count": 320,
   "metadata": {
    "tags": []
   },
   "outputs": [
    {
     "name": "stdout",
     "output_type": "stream",
     "text": [
      "['MewtwoMega Mewtwo X' 'MewtwoMega Mewtwo Y' 'RayquazaMega Rayquaza']\n"
     ]
    }
   ],
   "source": [
    "## ---------- SOLUTION 3e\n",
    "boolean_index = (pokemon_all == np.max(pokemon_all))\n",
    "print(pokemon_names[boolean_index])"
   ]
  },
  {
   "cell_type": "markdown",
   "metadata": {
    "tags": []
   },
   "source": [
    "### Exercises 4\n",
    "\n",
    "* 4a) find the names of all Pokemon where the sum of defense and special defense is at least twice the sum of attack and special attack (let's call them the 'strong defenders')\n",
    "\n",
    "* 4b) create a 1-dim array 'att_or_def' stating for each Pokemon if it is a 'Defender' or an 'Attacker' depending on the condition from the previous exercise, using the 'where' method.\n",
    "\n",
    "* 4c) create a dict where the key are the names of the Pokemon and the value is 'Defender' or 'Attacker' (hint: use a 'dict' comprehension and the *zip* function)"
   ]
  },
  {
   "cell_type": "code",
   "execution_count": 321,
   "metadata": {
    "tags": []
   },
   "outputs": [
    {
     "name": "stdout",
     "output_type": "stream",
     "text": [
      "['Onix' 'Chansey' 'Magikarp' 'Togepi' 'Marill' 'Shuckle' 'Smeargle'\n",
      " 'Azurill' 'Nosepass' 'Feebas' 'Duskull' 'Dusclops' 'Wynaut' 'Regirock'\n",
      " 'Regice' 'Registeel' 'DeoxysDefense Forme' 'Shieldon' 'Bastiodon'\n",
      " 'Bronzor' 'Happiny' 'Mantyke' 'Probopass' 'Ferroseed'\n",
      " 'AegislashShield Forme' 'Carbink']\n"
     ]
    }
   ],
   "source": [
    "## ---------- SOLUTION 4a\n",
    "boolean_index = (pokemon_stats[:,2] + pokemon_stats[:,4] >= 2*(pokemon_stats[:,1] + pokemon_stats[:,3]))\n",
    "print(pokemon_names[boolean_index])"
   ]
  },
  {
   "cell_type": "code",
   "execution_count": 322,
   "metadata": {
    "tags": []
   },
   "outputs": [],
   "source": [
    "## ---------- SOLUTION 4b\n",
    "# np.where( CONDITION, RESULT_IF_TRUE, RESULT_IF_FALSE)\n",
    "condition_atk = \"pokemon_stats[:,1] + pokemon_stats[:,3]\"\n",
    "conditoin_def = \"pokemon_stats[:,2] + pokemon_stats[:,4]\"\n",
    "pokemon_atk_or_def = np.where(eval(condition_atk) >= 2*eval(conditoin_def), \"Strong Attacker\",\n",
    "                              np.where(eval(condition_atk) > eval(conditoin_def), \"Attacker\",\n",
    "                                       np.where(eval(condition_atk) == eval(conditoin_def), \"Balanced\",\n",
    "                                                np.where(eval(condition_atk)*2 <= eval(conditoin_def), \"Strong Defender\", \"Defender\"))))\n",
    "# print(pokemon_atk_or_def)"
   ]
  },
  {
   "cell_type": "code",
   "execution_count": 323,
   "metadata": {
    "tags": []
   },
   "outputs": [
    {
     "name": "stdout",
     "output_type": "stream",
     "text": [
      "{'Bulbasaur': 'Balanced', 'Ivysaur': 'Defender', 'Venusaur': 'Defender', 'VenusaurMega Venusaur': 'Defender', 'Charmander': 'Attacker', 'Charmeleon': 'Attacker', 'Charizard': 'Attacker', 'CharizardMega Charizard X': 'Attacker', 'CharizardMega Charizard Y': 'Attacker', 'Squirtle': 'Defender', 'Wartortle': 'Defender', 'Blastoise': 'Defender', 'BlastoiseMega Blastoise': 'Attacker', 'Caterpie': 'Defender', 'Metapod': 'Defender', 'Butterfree': 'Attacker', 'Weedle': 'Attacker', 'Kakuna': 'Defender', 'Beedrill': 'Attacker', 'BeedrillMega Beedrill': 'Attacker', 'Pidgey': 'Attacker', 'Pidgeotto': 'Attacker', 'Pidgeot': 'Attacker', 'PidgeotMega Pidgeot': 'Attacker', 'Rattata': 'Attacker', 'Raticate': 'Attacker', 'Spearow': 'Attacker', 'Fearow': 'Attacker', 'Ekans': 'Attacker', 'Arbok': 'Attacker', 'Pikachu': 'Attacker', 'Raichu': 'Attacker', 'Sandshrew': 'Defender', 'Sandslash': 'Defender', 'Nidoran♀': 'Defender', 'Nidorina': 'Defender', 'Nidoqueen': 'Defender', 'Nidoran♂': 'Attacker', 'Nidorino': 'Attacker', 'Nidoking': 'Attacker', 'Clefairy': 'Defender', 'Clefable': 'Attacker', 'Vulpix': 'Defender', 'Ninetales': 'Defender', 'Jigglypuff': 'Strong Attacker', 'Wigglytuff': 'Attacker', 'Zubat': 'Balanced', 'Golbat': 'Balanced', 'Oddish': 'Attacker', 'Gloom': 'Attacker', 'Vileplume': 'Attacker', 'Paras': 'Attacker', 'Parasect': 'Defender', 'Venonat': 'Defender', 'Venomoth': 'Attacker', 'Diglett': 'Attacker', 'Dugtrio': 'Attacker', 'Meowth': 'Attacker', 'Persian': 'Attacker', 'Psyduck': 'Attacker', 'Golduck': 'Attacker', 'Mankey': 'Attacker', 'Primeape': 'Attacker', 'Growlithe': 'Attacker', 'Arcanine': 'Attacker', 'Poliwag': 'Attacker', 'Poliwhirl': 'Balanced', 'Poliwrath': 'Defender', 'Abra': 'Attacker', 'Kadabra': 'Attacker', 'Alakazam': 'Attacker', 'AlakazamMega Alakazam': 'Attacker', 'Machop': 'Attacker', 'Machoke': 'Attacker', 'Machamp': 'Attacker', 'Bellsprout': 'Strong Attacker', 'Weepinbell': 'Attacker', 'Victreebel': 'Attacker', 'Tentacool': 'Defender', 'Tentacruel': 'Defender', 'Geodude': 'Defender', 'Graveler': 'Defender', 'Golem': 'Defender', 'Ponyta': 'Attacker', 'Rapidash': 'Attacker', 'Slowpoke': 'Balanced', 'Slowbro': 'Defender', 'SlowbroMega Slowbro': 'Defender', 'Magnemite': 'Attacker', 'Magneton': 'Attacker', \"Farfetch'd\": 'Attacker', 'Doduo': 'Attacker', 'Dodrio': 'Attacker', 'Seel': 'Defender', 'Dewgong': 'Defender', 'Grimer': 'Attacker', 'Muk': 'Defender', 'Shellder': 'Defender', 'Cloyster': 'Defender', 'Gastly': 'Strong Attacker', 'Haunter': 'Attacker', 'Gengar': 'Attacker', 'GengarMega Gengar': 'Attacker', 'Onix': 'Strong Defender', 'Drowzee': 'Defender', 'Hypno': 'Defender', 'Krabby': 'Attacker', 'Kingler': 'Attacker', 'Voltorb': 'Defender', 'Electrode': 'Defender', 'Exeggcute': 'Defender', 'Exeggutor': 'Attacker', 'Cubone': 'Defender', 'Marowak': 'Defender', 'Hitmonlee': 'Defender', 'Hitmonchan': 'Defender', 'Lickitung': 'Defender', 'Koffing': 'Defender', 'Weezing': 'Defender', 'Rhyhorn': 'Defender', 'Rhydon': 'Attacker', 'Chansey': 'Strong Defender', 'Tangela': 'Balanced', 'Kangaskhan': 'Defender', 'KangaskhanMega Kangaskhan': 'Defender', 'Horsea': 'Attacker', 'Seadra': 'Attacker', 'Goldeen': 'Defender', 'Seaking': 'Attacker', 'Staryu': 'Attacker', 'Starmie': 'Attacker', 'Mr. Mime': 'Defender', 'Scyther': 'Attacker', 'Jynx': 'Attacker', 'Electabuzz': 'Attacker', 'Magmar': 'Attacker', 'Pinsir': 'Attacker', 'PinsirMega Pinsir': 'Attacker', 'Tauros': 'Defender', 'Magikarp': 'Strong Defender', 'Gyarados': 'Attacker', 'GyaradosMega Gyarados': 'Defender', 'Lapras': 'Defender', 'Ditto': 'Balanced', 'Eevee': 'Defender', 'Vaporeon': 'Attacker', 'Jolteon': 'Attacker', 'Flareon': 'Attacker', 'Porygon': 'Balanced', 'Omanyte': 'Defender', 'Omastar': 'Defender', 'Kabuto': 'Balanced', 'Kabutops': 'Attacker', 'Aerodactyl': 'Attacker', 'AerodactylMega Aerodactyl': 'Attacker', 'Snorlax': 'Balanced', 'Articuno': 'Defender', 'Zapdos': 'Attacker', 'Moltres': 'Attacker', 'Dratini': 'Attacker', 'Dragonair': 'Attacker', 'Dragonite': 'Attacker', 'Mewtwo': 'Attacker', 'MewtwoMega Mewtwo X': 'Attacker', 'MewtwoMega Mewtwo Y': 'Attacker', 'Mew': 'Balanced', 'Chikorita': 'Defender', 'Bayleef': 'Defender', 'Meganium': 'Defender', 'Cyndaquil': 'Attacker', 'Quilava': 'Attacker', 'Typhlosion': 'Attacker', 'Totodile': 'Defender', 'Croconaw': 'Defender', 'Feraligatr': 'Attacker', 'Sentret': 'Attacker', 'Furret': 'Attacker', 'Hoothoot': 'Defender', 'Noctowl': 'Defender', 'Ledyba': 'Defender', 'Ledian': 'Defender', 'Spinarak': 'Attacker', 'Ariados': 'Attacker', 'Crobat': 'Balanced', 'Chinchou': 'Balanced', 'Lanturn': 'Balanced', 'Pichu': 'Attacker', 'Cleffa': 'Defender', 'Igglybuff': 'Strong Attacker', 'Togepi': 'Strong Defender', 'Togetic': 'Defender', 'Natu': 'Attacker', 'Xatu': 'Attacker', 'Mareep': 'Attacker', 'Flaaffy': 'Attacker', 'Ampharos': 'Attacker', 'AmpharosMega Ampharos': 'Attacker', 'Bellossom': 'Defender', 'Marill': 'Strong Defender', 'Azumarill': 'Defender', 'Sudowoodo': 'Defender', 'Politoed': 'Defender', 'Hoppip': 'Defender', 'Skiploom': 'Defender', 'Jumpluff': 'Defender', 'Aipom': 'Balanced', 'Sunkern': 'Balanced', 'Sunflora': 'Attacker', 'Yanma': 'Attacker', 'Wooper': 'Balanced', 'Quagsire': 'Balanced', 'Espeon': 'Attacker', 'Umbreon': 'Defender', 'Murkrow': 'Strong Attacker', 'Slowking': 'Defender', 'Misdreavus': 'Balanced', 'Unown': 'Attacker', 'Wobbuffet': 'Defender', 'Girafarig': 'Attacker', 'Pineco': 'Defender', 'Forretress': 'Defender', 'Dunsparce': 'Balanced', 'Gligar': 'Defender', 'Steelix': 'Defender', 'SteelixMega Steelix': 'Defender', 'Snubbull': 'Attacker', 'Granbull': 'Attacker', 'Qwilfish': 'Attacker', 'Scizor': 'Attacker', 'ScizorMega Scizor': 'Defender', 'Shuckle': 'Strong Defender', 'Heracross': 'Defender', 'HeracrossMega Heracross': 'Attacker', 'Sneasel': 'Balanced', 'Teddiursa': 'Attacker', 'Ursaring': 'Attacker', 'Slugma': 'Attacker', 'Magcargo': 'Defender', 'Swinub': 'Attacker', 'Piloswine': 'Attacker', 'Corsola': 'Defender', 'Remoraid': 'Attacker', 'Octillery': 'Attacker', 'Delibird': 'Attacker', 'Mantine': 'Defender', 'Skarmory': 'Defender', 'Houndour': 'Attacker', 'Houndoom': 'Attacker', 'HoundoomMega Houndoom': 'Attacker', 'Kingdra': 'Balanced', 'Phanpy': 'Balanced', 'Donphan': 'Balanced', 'Porygon2': 'Balanced', 'Stantler': 'Attacker', 'Smeargle': 'Strong Defender', 'Tyrogue': 'Balanced', 'Hitmontop': 'Defender', 'Smoochum': 'Attacker', 'Elekid': 'Attacker', 'Magby': 'Attacker', 'Miltank': 'Defender', 'Blissey': 'Defender', 'Raikou': 'Attacker', 'Entei': 'Attacker', 'Suicune': 'Defender', 'Larvitar': 'Attacker', 'Pupitar': 'Attacker', 'Tyranitar': 'Attacker', 'TyranitarMega Tyranitar': 'Defender', 'Lugia': 'Defender', 'Ho-oh': 'Defender', 'Celebi': 'Balanced', 'Treecko': 'Attacker', 'Grovyle': 'Attacker', 'Sceptile': 'Attacker', 'SceptileMega Sceptile': 'Attacker', 'Torchic': 'Attacker', 'Combusken': 'Attacker', 'Blaziken': 'Attacker', 'BlazikenMega Blaziken': 'Attacker', 'Mudkip': 'Attacker', 'Marshtomp': 'Attacker', 'Swampert': 'Attacker', 'SwampertMega Swampert': 'Attacker', 'Poochyena': 'Attacker', 'Mightyena': 'Attacker', 'Zigzagoon': 'Defender', 'Linoone': 'Defender', 'Wurmple': 'Balanced', 'Silcoon': 'Defender', 'Beautifly': 'Attacker', 'Cascoon': 'Defender', 'Dustox': 'Defender', 'Lotad': 'Defender', 'Lombre': 'Defender', 'Ludicolo': 'Defender', 'Seedot': 'Defender', 'Nuzleaf': 'Attacker', 'Shiftry': 'Attacker', 'Taillow': 'Attacker', 'Swellow': 'Attacker', 'Wingull': 'Attacker', 'Pelipper': 'Defender', 'Ralts': 'Attacker', 'Kirlia': 'Attacker', 'Gardevoir': 'Attacker', 'GardevoirMega Gardevoir': 'Attacker', 'Surskit': 'Defender', 'Masquerain': 'Defender', 'Shroomish': 'Defender', 'Breloom': 'Attacker', 'Slakoth': 'Balanced', 'Vigoroth': 'Balanced', 'Slaking': 'Attacker', 'Nincada': 'Defender', 'Ninjask': 'Attacker', 'Shedinja': 'Attacker', 'Whismur': 'Strong Attacker', 'Loudred': 'Attacker', 'Exploud': 'Attacker', 'Makuhita': 'Attacker', 'Hariyama': 'Attacker', 'Azurill': 'Strong Defender', 'Nosepass': 'Strong Defender', 'Skitty': 'Balanced', 'Delcatty': 'Balanced', 'Sableye': 'Balanced', 'SableyeMega Sableye': 'Defender', 'Mawile': 'Balanced', 'MawileMega Mawile': 'Defender', 'Aron': 'Defender', 'Lairon': 'Defender', 'Aggron': 'Defender', 'AggronMega Aggron': 'Defender', 'Meditite': 'Defender', 'Medicham': 'Defender', 'MedichamMega Medicham': 'Attacker', 'Electrike': 'Attacker', 'Manectric': 'Attacker', 'ManectricMega Manectric': 'Attacker', 'Plusle': 'Attacker', 'Minun': 'Defender', 'Volbeat': 'Defender', 'Illumise': 'Defender', 'Roselia': 'Attacker', 'Gulpin': 'Defender', 'Swalot': 'Defender', 'Carvanha': 'Strong Attacker', 'Sharpedo': 'Strong Attacker', 'SharpedoMega Sharpedo': 'Attacker', 'Wailmer': 'Strong Attacker', 'Wailord': 'Strong Attacker', 'Numel': 'Attacker', 'Camerupt': 'Attacker', 'CameruptMega Camerupt': 'Attacker', 'Torkoal': 'Defender', 'Spoink': 'Defender', 'Grumpig': 'Defender', 'Spinda': 'Balanced', 'Trapinch': 'Attacker', 'Vibrava': 'Attacker', 'Flygon': 'Attacker', 'Cacnea': 'Strong Attacker', 'Cacturne': 'Attacker', 'Swablu': 'Defender', 'Altaria': 'Defender', 'AltariaMega Altaria': 'Attacker', 'Zangoose': 'Attacker', 'Seviper': 'Attacker', 'Lunatone': 'Balanced', 'Solrock': 'Balanced', 'Barboach': 'Attacker', 'Whiscash': 'Attacker', 'Corphish': 'Attacker', 'Crawdaunt': 'Attacker', 'Baltoy': 'Defender', 'Claydol': 'Defender', 'Lileep': 'Defender', 'Cradily': 'Defender', 'Anorith': 'Attacker', 'Armaldo': 'Attacker', 'Feebas': 'Strong Defender', 'Milotic': 'Defender', 'Castform': 'Balanced', 'Kecleon': 'Defender', 'Shuppet': 'Strong Attacker', 'Banette': 'Attacker', 'BanetteMega Banette': 'Attacker', 'Duskull': 'Strong Defender', 'Dusclops': 'Strong Defender', 'Tropius': 'Defender', 'Chimecho': 'Defender', 'Absol': 'Attacker', 'AbsolMega Absol': 'Strong Attacker', 'Wynaut': 'Strong Defender', 'Snorunt': 'Balanced', 'Glalie': 'Balanced', 'GlalieMega Glalie': 'Attacker', 'Spheal': 'Defender', 'Sealeo': 'Defender', 'Walrein': 'Defender', 'Clamperl': 'Defender', 'Huntail': 'Attacker', 'Gorebyss': 'Attacker', 'Relicanth': 'Defender', 'Luvdisc': 'Defender', 'Bagon': 'Attacker', 'Shelgon': 'Attacker', 'Salamence': 'Attacker', 'SalamenceMega Salamence': 'Attacker', 'Beldum': 'Defender', 'Metang': 'Defender', 'Metagross': 'Attacker', 'MetagrossMega Metagross': 'Defender', 'Regirock': 'Strong Defender', 'Regice': 'Strong Defender', 'Registeel': 'Strong Defender', 'Latias': 'Defender', 'LatiasMega Latias': 'Defender', 'Latios': 'Attacker', 'LatiosMega Latios': 'Attacker', 'Kyogre': 'Attacker', 'KyogrePrimal Kyogre': 'Attacker', 'Groudon': 'Attacker', 'GroudonPrimal Groudon': 'Attacker', 'Rayquaza': 'Attacker', 'RayquazaMega Rayquaza': 'Attacker', 'Jirachi': 'Balanced', 'DeoxysNormal Forme': 'Strong Attacker', 'DeoxysAttack Forme': 'Strong Attacker', 'DeoxysDefense Forme': 'Strong Defender', 'DeoxysSpeed Forme': 'Attacker', 'Turtwig': 'Defender', 'Grotle': 'Defender', 'Torterra': 'Defender', 'Chimchar': 'Attacker', 'Monferno': 'Attacker', 'Infernape': 'Attacker', 'Piplup': 'Attacker', 'Prinplup': 'Attacker', 'Empoleon': 'Attacker', 'Starly': 'Attacker', 'Staravia': 'Attacker', 'Staraptor': 'Attacker', 'Bidoof': 'Balanced', 'Bibarel': 'Attacker', 'Kricketot': 'Defender', 'Kricketune': 'Attacker', 'Shinx': 'Attacker', 'Luxio': 'Attacker', 'Luxray': 'Attacker', 'Budew': 'Defender', 'Roserade': 'Attacker', 'Cranidos': 'Strong Attacker', 'Rampardos': 'Strong Attacker', 'Shieldon': 'Strong Defender', 'Bastiodon': 'Strong Defender', 'Burmy': 'Defender', 'WormadamPlant Cloak': 'Defender', 'WormadamSandy Cloak': 'Defender', 'WormadamTrash Cloak': 'Defender', 'Mothim': 'Attacker', 'Combee': 'Defender', 'Vespiquen': 'Defender', 'Pachirisu': 'Defender', 'Buizel': 'Attacker', 'Floatzel': 'Attacker', 'Cherubi': 'Defender', 'Cherrim': 'Defender', 'Shellos': 'Defender', 'Gastrodon': 'Attacker', 'Ambipom': 'Attacker', 'Drifloon': 'Attacker', 'Drifblim': 'Attacker', 'Buneary': 'Attacker', 'Lopunny': 'Defender', 'LopunnyMega Lopunny': 'Balanced', 'Mismagius': 'Balanced', 'Honchkrow': 'Strong Attacker', 'Glameow': 'Attacker', 'Purugly': 'Attacker', 'Chingling': 'Defender', 'Stunky': 'Attacker', 'Skuntank': 'Attacker', 'Bronzor': 'Strong Defender', 'Bronzong': 'Defender', 'Bonsly': 'Defender', 'Mime Jr.': 'Defender', 'Happiny': 'Strong Defender', 'Chatot': 'Attacker', 'Spiritomb': 'Defender', 'Gible': 'Attacker', 'Gabite': 'Attacker', 'Garchomp': 'Attacker', 'GarchompMega Garchomp': 'Attacker', 'Munchlax': 'Balanced', 'Riolu': 'Attacker', 'Lucario': 'Attacker', 'LucarioMega Lucario': 'Attacker', 'Hippopotas': 'Defender', 'Hippowdon': 'Defender', 'Skorupi': 'Defender', 'Drapion': 'Defender', 'Croagunk': 'Attacker', 'Toxicroak': 'Attacker', 'Carnivine': 'Attacker', 'Finneon': 'Defender', 'Lumineon': 'Defender', 'Mantyke': 'Strong Defender', 'Snover': 'Attacker', 'Abomasnow': 'Attacker', 'AbomasnowMega Abomasnow': 'Attacker', 'Weavile': 'Attacker', 'Magnezone': 'Defender', 'Lickilicky': 'Defender', 'Rhyperior': 'Attacker', 'Tangrowth': 'Attacker', 'Electivire': 'Attacker', 'Magmortar': 'Attacker', 'Togekiss': 'Defender', 'Yanmega': 'Attacker', 'Leafeon': 'Defender', 'Glaceon': 'Defender', 'Gliscor': 'Defender', 'Mamoswine': 'Attacker', 'Porygon-Z': 'Attacker', 'Gallade': 'Attacker', 'GalladeMega Gallade': 'Attacker', 'Probopass': 'Strong Defender', 'Dusknoir': 'Defender', 'Froslass': 'Attacker', 'Rotom': 'Defender', 'RotomHeat Rotom': 'Defender', 'RotomWash Rotom': 'Defender', 'RotomFrost Rotom': 'Defender', 'RotomFan Rotom': 'Defender', 'RotomMow Rotom': 'Defender', 'Uxie': 'Defender', 'Mesprit': 'Balanced', 'Azelf': 'Attacker', 'Dialga': 'Attacker', 'Palkia': 'Attacker', 'Heatran': 'Attacker', 'Regigigas': 'Attacker', 'GiratinaAltered Forme': 'Defender', 'GiratinaOrigin Forme': 'Attacker', 'Cresselia': 'Defender', 'Phione': 'Balanced', 'Manaphy': 'Balanced', 'Darkrai': 'Attacker', 'ShayminLand Forme': 'Balanced', 'ShayminSky Forme': 'Attacker', 'Arceus': 'Balanced', 'Victini': 'Balanced', 'Snivy': 'Defender', 'Servine': 'Defender', 'Serperior': 'Defender', 'Tepig': 'Attacker', 'Pignite': 'Attacker', 'Emboar': 'Attacker', 'Oshawott': 'Attacker', 'Dewott': 'Attacker', 'Samurott': 'Attacker', 'Patrat': 'Attacker', 'Watchog': 'Attacker', 'Lillipup': 'Defender', 'Herdier': 'Defender', 'Stoutland': 'Defender', 'Purrloin': 'Attacker', 'Liepard': 'Attacker', 'Pansage': 'Attacker', 'Simisage': 'Attacker', 'Pansear': 'Attacker', 'Simisear': 'Attacker', 'Panpour': 'Attacker', 'Simipour': 'Attacker', 'Munna': 'Defender', 'Musharna': 'Defender', 'Pidove': 'Attacker', 'Tranquill': 'Attacker', 'Unfezant': 'Attacker', 'Blitzle': 'Attacker', 'Zebstrika': 'Attacker', 'Roggenrola': 'Defender', 'Boldore': 'Attacker', 'Gigalith': 'Defender', 'Woobat': 'Attacker', 'Swoobat': 'Attacker', 'Drilbur': 'Attacker', 'Excadrill': 'Attacker', 'Audino': 'Defender', 'AudinoMega Audino': 'Defender', 'Timburr': 'Attacker', 'Gurdurr': 'Attacker', 'Conkeldurr': 'Attacker', 'Tympole': 'Attacker', 'Palpitoad': 'Attacker', 'Seismitoad': 'Attacker', 'Throh': 'Defender', 'Sawk': 'Attacker', 'Sewaddle': 'Defender', 'Swadloon': 'Defender', 'Leavanny': 'Attacker', 'Venipede': 'Defender', 'Whirlipede': 'Defender', 'Scolipede': 'Defender', 'Cottonee': 'Defender', 'Whimsicott': 'Defender', 'Petilil': 'Attacker', 'Lilligant': 'Attacker', 'Basculin': 'Attacker', 'Sandile': 'Attacker', 'Krokorok': 'Attacker', 'Krookodile': 'Attacker', 'Darumaka': 'Attacker', 'DarmanitanStandard Mode': 'Attacker', 'DarmanitanZen Mode': 'Defender', 'Maractus': 'Attacker', 'Dwebble': 'Defender', 'Crustle': 'Defender', 'Scraggy': 'Defender', 'Scrafty': 'Defender', 'Sigilyph': 'Attacker', 'Yamask': 'Defender', 'Cofagrigus': 'Defender', 'Tirtouga': 'Defender', 'Carracosta': 'Defender', 'Archen': 'Strong Attacker', 'Archeops': 'Attacker', 'Trubbish': 'Defender', 'Garbodor': 'Defender', 'Zorua': 'Attacker', 'Zoroark': 'Attacker', 'Minccino': 'Attacker', 'Cinccino': 'Attacker', 'Gothita': 'Defender', 'Gothorita': 'Defender', 'Gothitelle': 'Defender', 'Solosis': 'Attacker', 'Duosion': 'Attacker', 'Reuniclus': 'Attacker', 'Ducklett': 'Defender', 'Swanna': 'Attacker', 'Vanillite': 'Attacker', 'Vanillish': 'Attacker', 'Vanilluxe': 'Attacker', 'Deerling': 'Balanced', 'Sawsbuck': 'Attacker', 'Emolga': 'Attacker', 'Karrablast': 'Attacker', 'Escavalier': 'Defender', 'Foongus': 'Attacker', 'Amoonguss': 'Attacker', 'Frillish': 'Defender', 'Jellicent': 'Defender', 'Alomomola': 'Defender', 'Joltik': 'Attacker', 'Galvantula': 'Attacker', 'Ferroseed': 'Strong Defender', 'Ferrothorn': 'Defender', 'Klink': 'Defender', 'Klang': 'Defender', 'Klinklang': 'Defender', 'Tynamo': 'Attacker', 'Eelektrik': 'Attacker', 'Eelektross': 'Attacker', 'Elgyem': 'Attacker', 'Beheeyem': 'Attacker', 'Litwick': 'Defender', 'Lampent': 'Attacker', 'Chandelure': 'Attacker', 'Axew': 'Attacker', 'Fraxure': 'Attacker', 'Haxorus': 'Attacker', 'Cubchoo': 'Attacker', 'Beartic': 'Attacker', 'Cryogonal': 'Defender', 'Shelmet': 'Defender', 'Accelgor': 'Attacker', 'Stunfisk': 'Defender', 'Mienfoo': 'Attacker', 'Mienshao': 'Attacker', 'Druddigon': 'Balanced', 'Golett': 'Attacker', 'Golurk': 'Attacker', 'Pawniard': 'Attacker', 'Bisharp': 'Attacker', 'Bouffalant': 'Defender', 'Rufflet': 'Attacker', 'Braviary': 'Attacker', 'Vullaby': 'Defender', 'Mandibuzz': 'Defender', 'Heatmor': 'Attacker', 'Durant': 'Defender', 'Deino': 'Attacker', 'Zweilous': 'Attacker', 'Hydreigon': 'Attacker', 'Larvesta': 'Attacker', 'Volcarona': 'Attacker', 'Cobalion': 'Defender', 'Terrakion': 'Attacker', 'Virizion': 'Defender', 'TornadusIncarnate Forme': 'Attacker', 'TornadusTherian Forme': 'Attacker', 'ThundurusIncarnate Forme': 'Attacker', 'ThundurusTherian Forme': 'Attacker', 'Reshiram': 'Attacker', 'Zekrom': 'Attacker', 'LandorusIncarnate Forme': 'Attacker', 'LandorusTherian Forme': 'Attacker', 'Kyurem': 'Attacker', 'KyuremBlack Kyurem': 'Attacker', 'KyuremWhite Kyurem': 'Attacker', 'KeldeoOrdinary Forme': 'Attacker', 'KeldeoResolute Forme': 'Attacker', 'MeloettaAria Forme': 'Balanced', 'MeloettaPirouette Forme': 'Attacker', 'Genesect': 'Attacker', 'Chespin': 'Defender', 'Quilladin': 'Defender', 'Chesnaught': 'Defender', 'Fennekin': 'Attacker', 'Braixen': 'Attacker', 'Delphox': 'Attacker', 'Froakie': 'Attacker', 'Frogadier': 'Attacker', 'Greninja': 'Attacker', 'Bunnelby': 'Defender', 'Diggersby': 'Defender', 'Fletchling': 'Attacker', 'Fletchinder': 'Attacker', 'Talonflame': 'Attacker', 'Scatterbug': 'Defender', 'Spewpa': 'Defender', 'Vivillon': 'Attacker', 'Litleo': 'Attacker', 'Pyroar': 'Attacker', 'Flabébé': 'Defender', 'Floette': 'Defender', 'Florges': 'Defender', 'Skiddo': 'Attacker', 'Gogoat': 'Attacker', 'Pancham': 'Attacker', 'Pangoro': 'Attacker', 'Furfrou': 'Defender', 'Espurr': 'Defender', 'MeowsticMale': 'Defender', 'MeowsticFemale': 'Defender', 'Honedge': 'Defender', 'Doublade': 'Defender', 'AegislashBlade Forme': 'Strong Attacker', 'AegislashShield Forme': 'Strong Defender', 'Spritzee': 'Defender', 'Aromatisse': 'Attacker', 'Swirlix': 'Defender', 'Slurpuff': 'Attacker', 'Inkay': 'Defender', 'Malamar': 'Defender', 'Binacle': 'Defender', 'Barbaracle': 'Defender', 'Skrelp': 'Balanced', 'Dragalge': 'Defender', 'Clauncher': 'Defender', 'Clawitzer': 'Attacker', 'Helioptile': 'Attacker', 'Heliolisk': 'Attacker', 'Tyrunt': 'Attacker', 'Tyrantrum': 'Attacker', 'Amaura': 'Attacker', 'Aurorus': 'Attacker', 'Sylveon': 'Defender', 'Hawlucha': 'Attacker', 'Dedenne': 'Attacker', 'Carbink': 'Strong Defender', 'Goomy': 'Defender', 'Sliggoo': 'Defender', 'Goodra': 'Defender', 'Klefki': 'Defender', 'Phantump': 'Attacker', 'Trevenant': 'Attacker', 'PumpkabooAverage Size': 'Defender', 'PumpkabooSmall Size': 'Defender', 'PumpkabooLarge Size': 'Defender', 'PumpkabooSuper Size': 'Defender', 'GourgeistAverage Size': 'Defender', 'GourgeistSmall Size': 'Defender', 'GourgeistLarge Size': 'Defender', 'GourgeistSuper Size': 'Defender', 'Bergmite': 'Defender', 'Avalugg': 'Defender', 'Noibat': 'Balanced', 'Noivern': 'Attacker', 'Xerneas': 'Attacker', 'Yveltal': 'Attacker', 'Zygarde50% Forme': 'Defender', 'Diancie': 'Defender', 'DiancieMega Diancie': 'Attacker', 'HoopaHoopa Confined': 'Attacker', 'HoopaHoopa Unbound': 'Attacker', 'Volcanion': 'Attacker'}\n"
     ]
    }
   ],
   "source": [
    "## ---------- SOLUTION 4c\n",
    "pokemon_atk_or_def_dict = {pokemon : specialty for pokemon, specialty in zip(pokemon_names, pokemon_atk_or_def)}\n",
    "print(pokemon_atk_or_def_dict)"
   ]
  },
  {
   "attachments": {},
   "cell_type": "markdown",
   "metadata": {},
   "source": [
    "### Exercises 5\n",
    "\n",
    "At the start of a new game, each player get's a random set of Pokemon to start with. For each Pokemon, its chance is 1.5% to be in this list.\n",
    "\n",
    "* 5a) How many Pokemon do you expect in this starting list?\n",
    "* 5b) Generate such a 'my_pokemon' set (make sure you think about and pick a suitable data type!) containing the names of the Pokemon. How many does your set contain?  \n",
    "Hint: **np.random.uniform** may come in handy.\n",
    "* 5c) Compute the total hit points your starter Pokemon can sustain (i.e. the sum of the hitpoints of your starter Pokemon)"
   ]
  },
  {
   "cell_type": "code",
   "execution_count": 324,
   "metadata": {
    "tags": []
   },
   "outputs": [
    {
     "name": "stdout",
     "output_type": "stream",
     "text": [
      "avg 10.815\n"
     ]
    }
   ],
   "source": [
    "## ---------- SOLUTION 5a\n",
    "# TODO: done\n",
    "# exclude temporary mega evolutions and other forms\n",
    "print(\"avg\", len(np.unique(pokemon_ids))*0.015)"
   ]
  },
  {
   "cell_type": "code",
   "execution_count": 325,
   "metadata": {
    "tags": []
   },
   "outputs": [
    {
     "data": {
      "text/plain": [
       "(10,\n",
       " [('Igglybuff', 173),\n",
       "  ('Houndour', 227),\n",
       "  ('Silcoon', 265),\n",
       "  ('Manectric', 309),\n",
       "  ('Chatot', 440),\n",
       "  ('Drapion', 451),\n",
       "  ('Braviary', 627),\n",
       "  ('TornadusIncarnate Forme', 640),\n",
       "  ('Klefki', 706),\n",
       "  ('Trevenant', 708)])"
      ]
     },
     "execution_count": 325,
     "metadata": {},
     "output_type": "execute_result"
    }
   ],
   "source": [
    "## ---------- SOLUTION 5b\n",
    "pokemon_starter = np.unique(pokemon_ids)\n",
    "\n",
    "my_pokemon_ids = []\n",
    "my_pokemon_names = []\n",
    "for i, id in enumerate(pokemon_ids):\n",
    "    if id not in my_pokemon_ids:\n",
    "        my_pokemon_ids.append(id)\n",
    "        my_pokemon_names.append(pokemon_names[i])\n",
    "\n",
    "lottery_mask = np.random.uniform(size=len(my_pokemon_names)) <= 0.015\n",
    "my_pokemon = [(my_pokemon_names[id-1], id-1) for id in my_pokemon_ids if lottery_mask[id-1]]\n",
    "len(my_pokemon), my_pokemon"
   ]
  },
  {
   "cell_type": "code",
   "execution_count": 326,
   "metadata": {
    "tags": []
   },
   "outputs": [
    {
     "name": "stdout",
     "output_type": "stream",
     "text": [
      "65\n",
      "130\n",
      "180\n",
      "240\n",
      "324\n",
      "364\n",
      "419\n",
      "529\n",
      "629\n",
      "718\n"
     ]
    }
   ],
   "source": [
    "## ---------- SOLUTION 5c\n",
    "hp_sum = 0\n",
    "for pokemon in my_pokemon:\n",
    "    hp_sum += pokemon_stats[pokemon[1]][0]\n",
    "    print(hp_sum)\n"
   ]
  },
  {
   "cell_type": "markdown",
   "metadata": {},
   "source": [
    "---"
   ]
  }
 ],
 "metadata": {
  "kernelspec": {
   "display_name": "Python 3 (ipykernel)",
   "language": "python",
   "name": "python3"
  },
  "language_info": {
   "codemirror_mode": {
    "name": "ipython",
    "version": 3
   },
   "file_extension": ".py",
   "mimetype": "text/x-python",
   "name": "python",
   "nbconvert_exporter": "python",
   "pygments_lexer": "ipython3",
   "version": "3.10.0"
  }
 },
 "nbformat": 4,
 "nbformat_minor": 4
}

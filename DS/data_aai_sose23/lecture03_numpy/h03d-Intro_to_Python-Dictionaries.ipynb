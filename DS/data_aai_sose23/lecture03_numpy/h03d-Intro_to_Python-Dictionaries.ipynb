{
 "cells": [
  {
   "cell_type": "code",
   "execution_count": 157,
   "metadata": {},
   "outputs": [],
   "source": [
    "# This is Homework03d (Intro to Python: dictionaries)\n",
    "# of the \"Data Science\" class at Technische Hochschule Rosenheim\n",
    "# acknowledgement: this notebook is based on material from http://introtopython.org/"
   ]
  },
  {
   "cell_type": "markdown",
   "metadata": {},
   "source": [
    "Dictionaries\n",
    "===\n",
    "Dictionaries allow us to store connected bits of information. For example, you might store a person's name and age together. They are very similar to Java Maps."
   ]
  },
  {
   "cell_type": "markdown",
   "metadata": {},
   "source": [
    "Contents\n",
    "===\n",
    "- [What are dictionaries?](#What-are-dictionaries?)\n",
    "    - [General Syntax](#General-Syntax)\n",
    "    - [Example](#Example)\n",
    "    - [Exercises](#Exercises-what)\n",
    "- [Common operations with dictionaries](#Common-operations-with-dictionaries)\n",
    "    - [Adding new key-value pairs](#Adding-new-key-value-pairs)\n",
    "    - [Modifying values in a dictionary](#Modifying-values-in-a-dictionary)\n",
    "    - [Removing key-value pairs](#Removing-key-value-pairs)\n",
    "    - [Modifying keys in a dictionary](#Modifying-keys-in-a-dictionary)\n",
    "    - [Exercises](#Exercises-operations)\n",
    "- [Looping through a dictionary](#Looping-through-a-dictionary)\n",
    "    - [Looping through all key-value pairs](#Looping-through-all-key-value-pairs)\n",
    "    - [Looping through all keys in a dictionary](#Looping-through-all-keys-in-a-dictionary)\n",
    "    - [Looping through all values in a dictionary](#Looping-through-all-values-in-a-dictionary)\n",
    "    - [Looping through a dictionary in order](#Looping-through-a-dictionary-in-order)\n",
    "    - [Exercises](#Exercises-looping)\n",
    "- [Nesting](#Nesting)\n",
    "    - [Lists in a dictionary](#Lists-in-a-dictionary)\n",
    "    - [Dictionaries in a dictionary](#Dictionaries-in-a-dictionary)\n",
    "    - [An important note about nesting](#An-important-note-about-nesting)\n",
    "    - [Exercises](#Exercises-nesting)\n",
    "- [Overall Challenges](#Overall-Challenges)"
   ]
  },
  {
   "cell_type": "markdown",
   "metadata": {},
   "source": [
    "What are dictionaries?\n",
    "===\n",
    "Dictionaries are a way to store information that is connected in some way. Dictionaries store information in *key-value* pairs, so that any one piece of information in a dictionary is connected to at least one other piece of information.\n",
    "\n",
    "Dictionaries do not store their information in any particular order, so you may not get your information back in the same order you entered it."
   ]
  },
  {
   "cell_type": "markdown",
   "metadata": {},
   "source": [
    "General Syntax\n",
    "---\n",
    "A general dictionary in Python looks something like this:"
   ]
  },
  {
   "cell_type": "markdown",
   "metadata": {},
   "source": [
    "```\n",
    "dictionary_name = {key_1: value_1, key_2: value_2, key_3: value_3}\n",
    "```"
   ]
  },
  {
   "cell_type": "markdown",
   "metadata": {},
   "source": [
    "Since the keys and values in dictionaries can be long, we often write just one key-value pair on a line. You might see dictionaries that look more like this:"
   ]
  },
  {
   "cell_type": "markdown",
   "metadata": {},
   "source": [
    "```\n",
    "dictionary_name = {key_1: value_1,\n",
    "                   key_2: value_2,\n",
    "                   key_3: value_3,\n",
    "                   }\n",
    "```"
   ]
  },
  {
   "cell_type": "markdown",
   "metadata": {},
   "source": [
    "This is a bit easier to read, especially if the values are long."
   ]
  },
  {
   "cell_type": "markdown",
   "metadata": {},
   "source": [
    "Example\n",
    "---\n",
    "A simple example involves modeling an actual dictionary."
   ]
  },
  {
   "cell_type": "code",
   "execution_count": 158,
   "metadata": {},
   "outputs": [],
   "source": [
    "python_words = {'list': 'A collection of values that are not connected, but have an order.',\n",
    "                'dictionary': 'A collection of key-value pairs.',\n",
    "                'function': 'A named set of instructions that defines a set of actions in Python.',\n",
    "                }"
   ]
  },
  {
   "cell_type": "markdown",
   "metadata": {},
   "source": [
    "We can get individual items out of the dictionary, by giving the dictionary's name, and the key in square brackets:"
   ]
  },
  {
   "cell_type": "code",
   "execution_count": 159,
   "metadata": {},
   "outputs": [
    {
     "name": "stdout",
     "output_type": "stream",
     "text": [
      "\n",
      "Word: list\n",
      "Meaning: A collection of values that are not connected, but have an order.\n",
      "\n",
      "Word: dictionary\n",
      "Meaning: A collection of key-value pairs.\n",
      "\n",
      "Word: function\n",
      "Meaning: A named set of instructions that defines a set of actions in Python.\n"
     ]
    }
   ],
   "source": [
    "python_words = {'list': 'A collection of values that are not connected, but have an order.',\n",
    "                'dictionary': 'A collection of key-value pairs.',\n",
    "                'function': 'A named set of instructions that defines a set of actions in Python.',\n",
    "                }\n",
    "\n",
    "print(\"\\nWord: %s\" % 'list')\n",
    "print(\"Meaning: %s\" % python_words['list'])\n",
    "      \n",
    "print(\"\\nWord: %s\" % 'dictionary')\n",
    "print(\"Meaning: %s\" % python_words['dictionary'])\n",
    "\n",
    "print(\"\\nWord: %s\" % 'function')\n",
    "print(\"Meaning: %s\" % python_words['function'])"
   ]
  },
  {
   "cell_type": "markdown",
   "metadata": {},
   "source": [
    "This code looks pretty repetitive, and it is. Dictionaries have their own for-loop syntax, but since there are two kinds of information in dictionaries, the structure is a bit more complicated than it is for lists. Here is how to use a for loop with a dictionary:"
   ]
  },
  {
   "cell_type": "code",
   "execution_count": 160,
   "metadata": {},
   "outputs": [
    {
     "name": "stdout",
     "output_type": "stream",
     "text": [
      "\n",
      "Word: list\n",
      "Meaning: A collection of values that are not connected, but have an order.\n",
      "\n",
      "Word: dictionary\n",
      "Meaning: A collection of key-value pairs.\n",
      "\n",
      "Word: function\n",
      "Meaning: A named set of instructions that defines a set of actions in Python.\n"
     ]
    }
   ],
   "source": [
    "python_words = {'list': 'A collection of values that are not connected, but have an order.',\n",
    "                'dictionary': 'A collection of key-value pairs.',\n",
    "                'function': 'A named set of instructions that defines a set of actions in Python.',\n",
    "                }\n",
    "\n",
    "# Print out the items in the dictionary.\n",
    "for word, meaning in python_words.items():\n",
    "    print(\"\\nWord: %s\" % word)\n",
    "    print(\"Meaning: %s\" % meaning)"
   ]
  },
  {
   "cell_type": "markdown",
   "metadata": {},
   "source": [
    "The output is identical, but we did it in 3 lines instead of 6. If we had 100 terms in our dictionary, we would still be able to print them out with just 3 lines.\n",
    "\n",
    "The only tricky part about using for loops with dictionaries is figuring out what to call those first two variables. The general syntax for this for loop is:"
   ]
  },
  {
   "cell_type": "markdown",
   "metadata": {},
   "source": [
    "````\n",
    "for key_name, value_name in dictionary_name.items():\n",
    "    print(key_name) # The key is stored in whatever you called the 1st variable.\n",
    "    print(value_name) # The value associated with that key is in your 2dn variable.\n",
    "```"
   ]
  },
  {
   "cell_type": "markdown",
   "metadata": {},
   "source": [
    "<a id=\"Exercises-what\"></a>\n",
    "Exercise\n",
    "---\n",
    "#### Pet Names\n",
    "- Create a dictionary to hold information about pets. Each key is an animal's name, and each value is the kind of animal.\n",
    "    - For example, 'ziggy': 'canary'\n",
    "- Put at least 3 key-value pairs in your dictionary.\n",
    "- Use a for loop to print out a series of statements such as \"Willie is a dog.\""
   ]
  },
  {
   "cell_type": "code",
   "execution_count": 161,
   "metadata": {},
   "outputs": [
    {
     "name": "stdout",
     "output_type": "stream",
     "text": [
      "Ziggy is a canary.\n",
      "Buddy is a dog.\n",
      "Mittens is a cat.\n"
     ]
    }
   ],
   "source": [
    "pets = {'Ziggy': 'canary',\n",
    "        'Buddy': 'dog',\n",
    "        'Mittens': 'cat'}\n",
    "\n",
    "for name, type in pets.items():\n",
    "    print(f\"{name} is a {type}.\")"
   ]
  },
  {
   "cell_type": "markdown",
   "metadata": {},
   "source": [
    "Common operations with dictionaries\n",
    "===\n",
    "There are a few common things you will want to do with dictionaries. These include adding new key-value pairs, modifying information in the dictionary, and removing items from dictionaries."
   ]
  },
  {
   "cell_type": "markdown",
   "metadata": {},
   "source": [
    "Adding new key-value pairs\n",
    "---\n",
    "To add a new key-value pair, you give the dictionary name followed by the new key in square brackets, and set that equal to the new value. We will show this by starting with an empty dictionary, and re-creating the dictionary from the example above."
   ]
  },
  {
   "cell_type": "code",
   "execution_count": 162,
   "metadata": {},
   "outputs": [
    {
     "name": "stdout",
     "output_type": "stream",
     "text": [
      "\n",
      "Word: list\n",
      "Meaning: A collection of values that are not connected, but have an order.\n",
      "\n",
      "Word: dictionary\n",
      "Meaning: A collection of key-value pairs.\n",
      "\n",
      "Word: function\n",
      "Meaning: A named set of instructions that defines a set of actions in Python.\n"
     ]
    }
   ],
   "source": [
    "# Create an empty dictionary.\n",
    "python_words = {}\n",
    "\n",
    "# Fill the dictionary, pair by pair.\n",
    "python_words['list'] ='A collection of values that are not connected, but have an order.'\n",
    "python_words['dictionary'] = 'A collection of key-value pairs.'\n",
    "python_words['function'] = 'A named set of instructions that defines a set of actions in Python.'\n",
    "\n",
    "# Print out the items in the dictionary.\n",
    "for word, meaning in python_words.items():\n",
    "    print(\"\\nWord: %s\" % word)\n",
    "    print(\"Meaning: %s\" % meaning)"
   ]
  },
  {
   "cell_type": "markdown",
   "metadata": {},
   "source": [
    "Modifying values in a dictionary\n",
    "---\n",
    "At some point you may want to modify one of the values in your dictionary. Modifying a value in a dictionary is pretty similar to modifying an element in a list. You give the name of the dictionary and then the key in square brackets, and set that equal to the new value."
   ]
  },
  {
   "cell_type": "code",
   "execution_count": 163,
   "metadata": {},
   "outputs": [
    {
     "name": "stdout",
     "output_type": "stream",
     "text": [
      "dictionary: A collection of key-value pairs.\n",
      "\n",
      "dictionary: A collection of key-value pairs. Each key can be used to access its corresponding value.\n"
     ]
    }
   ],
   "source": [
    "python_words = {'list': 'A collection of values that are not connected, but have an order.',\n",
    "                'dictionary': 'A collection of key-value pairs.',\n",
    "                'function': 'A named set of instructions that defines a set of actions in Python.',\n",
    "                }\n",
    "\n",
    "print('dictionary: ' + python_words['dictionary'])\n",
    "    \n",
    "# Clarify one of the meanings.\n",
    "python_words['dictionary'] = 'A collection of key-value pairs. Each key can be used to access its corresponding value.'\n",
    "\n",
    "print('\\ndictionary: ' + python_words['dictionary'])"
   ]
  },
  {
   "cell_type": "markdown",
   "metadata": {},
   "source": [
    "Removing key-value pairs\n",
    "---\n",
    "You may want to remove some key-value pairs from one of your dictionaries at some point. You can do this using the same `del` command you learned to use with lists. To remove a key-value pair, you give the `del` command, followed by the name of the dictionary, with the key that you want to delete. This removes the key and the value as a pair."
   ]
  },
  {
   "cell_type": "code",
   "execution_count": 164,
   "metadata": {},
   "outputs": [
    {
     "name": "stdout",
     "output_type": "stream",
     "text": [
      "\n",
      "\n",
      "These are the Python words I know:\n",
      "\n",
      "Word: list\n",
      "Meaning: A collection of values that are not connected, but have an order.\n",
      "\n",
      "Word: dictionary\n",
      "Meaning: A collection of key-value pairs.\n",
      "\n",
      "Word: function\n",
      "Meaning: A named set of instructions that defines a set of actions in Python.\n",
      "\n",
      "\n",
      "These are the Python words I know:\n",
      "\n",
      "Word: dictionary\n",
      "Meaning: A collection of key-value pairs.\n",
      "\n",
      "Word: function\n",
      "Meaning: A named set of instructions that defines a set of actions in Python.\n"
     ]
    }
   ],
   "source": [
    "python_words = {'list': 'A collection of values that are not connected, but have an order.',\n",
    "                'dictionary': 'A collection of key-value pairs.',\n",
    "                'function': 'A named set of instructions that defines a set of actions in Python.',\n",
    "                }\n",
    "\n",
    "# Show the current set of words and meanings.\n",
    "print(\"\\n\\nThese are the Python words I know:\")\n",
    "for word, meaning in python_words.items():\n",
    "    print(\"\\nWord: %s\" % word)\n",
    "    print(\"Meaning: %s\" % meaning)\n",
    "    \n",
    "# Remove the word 'list' and its meaning.\n",
    "del python_words['list']\n",
    "\n",
    "# Show the current set of words and meanings.\n",
    "print(\"\\n\\nThese are the Python words I know:\")\n",
    "for word, meaning in python_words.items():\n",
    "    print(\"\\nWord: %s\" % word)\n",
    "    print(\"Meaning: %s\" % meaning)"
   ]
  },
  {
   "cell_type": "markdown",
   "metadata": {},
   "source": [
    "If you were going to work with this code, you would certainly want to put the code for displaying the dictionary into a function. Let's see what this looks like:"
   ]
  },
  {
   "cell_type": "code",
   "execution_count": 165,
   "metadata": {},
   "outputs": [
    {
     "name": "stdout",
     "output_type": "stream",
     "text": [
      "\n",
      "\n",
      "These are the Python words I know:\n",
      "\n",
      "Word: list\n",
      "Meaning: A collection of values that are not connected, but have an order.\n",
      "\n",
      "Word: dictionary\n",
      "Meaning: A collection of key-value pairs.\n",
      "\n",
      "Word: function\n",
      "Meaning: A named set of instructions that defines a set of actions in Python.\n",
      "\n",
      "\n",
      "These are the Python words I know:\n",
      "\n",
      "Word: dictionary\n",
      "Meaning: A collection of key-value pairs.\n",
      "\n",
      "Word: function\n",
      "Meaning: A named set of instructions that defines a set of actions in Python.\n"
     ]
    }
   ],
   "source": [
    "def show_words_meanings(python_words):\n",
    "    # This function takes in a dictionary of python words and meanings,\n",
    "    #  and prints out each word with its meaning.\n",
    "    print(\"\\n\\nThese are the Python words I know:\")\n",
    "    for word, meaning in python_words.items():\n",
    "        print(\"\\nWord: %s\" % word)\n",
    "        print(\"Meaning: %s\" % meaning)\n",
    "        \n",
    "\n",
    "python_words = {'list': 'A collection of values that are not connected, but have an order.',\n",
    "                'dictionary': 'A collection of key-value pairs.',\n",
    "                'function': 'A named set of instructions that defines a set of actions in Python.',\n",
    "                }\n",
    "\n",
    "show_words_meanings(python_words)\n",
    "    \n",
    "# Remove the word 'list' and its meaning.\n",
    "del python_words['list']\n",
    "\n",
    "show_words_meanings(python_words)"
   ]
  },
  {
   "cell_type": "markdown",
   "metadata": {},
   "source": [
    "As long as we have a nice clean function to work with, let's clean up our output a little:"
   ]
  },
  {
   "cell_type": "code",
   "execution_count": 166,
   "metadata": {},
   "outputs": [
    {
     "name": "stdout",
     "output_type": "stream",
     "text": [
      "\n",
      "\n",
      "These are the Python words I know:\n",
      "\n",
      "list: A collection of values that are not connected, but have an order.\n",
      "\n",
      "dictionary: A collection of key-value pairs.\n",
      "\n",
      "function: A named set of instructions that defines a set of actions in Python.\n",
      "\n",
      "\n",
      "These are the Python words I know:\n",
      "\n",
      "dictionary: A collection of key-value pairs.\n",
      "\n",
      "function: A named set of instructions that defines a set of actions in Python.\n"
     ]
    }
   ],
   "source": [
    "def show_words_meanings(python_words):\n",
    "    # This function takes in a dictionary of python words and meanings,\n",
    "    #  and prints out each word with its meaning.\n",
    "    print(\"\\n\\nThese are the Python words I know:\")\n",
    "    for word, meaning in python_words.items():\n",
    "        print(\"\\n%s: %s\" % (word, meaning))\n",
    "        \n",
    "\n",
    "python_words = {'list': 'A collection of values that are not connected, but have an order.',\n",
    "                'dictionary': 'A collection of key-value pairs.',\n",
    "                'function': 'A named set of instructions that defines a set of actions in Python.',\n",
    "                }\n",
    "\n",
    "show_words_meanings(python_words)\n",
    "    \n",
    "# Remove the word 'list' and its meaning.\n",
    "del python_words['list']\n",
    "\n",
    "show_words_meanings(python_words)"
   ]
  },
  {
   "cell_type": "markdown",
   "metadata": {},
   "source": [
    "This is much more realistic code."
   ]
  },
  {
   "cell_type": "markdown",
   "metadata": {},
   "source": [
    "Modifying keys in a dictionary\n",
    "---\n",
    "Modifying a value in a dictionary was straightforward, because nothing else depends on the value. Modifying a key is a little harder, because each key is used to unlock a value. We can change a key in two steps:\n",
    "\n",
    "- Make a new key, and copy the value to the new key.\n",
    "- Delete the old key, which also deletes the old value.\n",
    "\n",
    "Here's what this looks like. We will use a dictionary with just one key-value pair, to keep things simple."
   ]
  },
  {
   "cell_type": "code",
   "execution_count": 167,
   "metadata": {},
   "outputs": [
    {
     "name": "stdout",
     "output_type": "stream",
     "text": [
      "{'list': 'A collection of values that are not connected, but have an order.'}\n"
     ]
    }
   ],
   "source": [
    "# We have a spelling mistake!\n",
    "python_words = {'lisst': 'A collection of values that are not connected, but have an order.'}\n",
    "\n",
    "# Create a new, correct key, and connect it to the old value.\n",
    "#  Then delete the old key.\n",
    "python_words['list'] = python_words['lisst']\n",
    "del python_words['lisst']\n",
    "\n",
    "# Print the dictionary, to show that the key has changed.\n",
    "print(python_words)"
   ]
  },
  {
   "cell_type": "markdown",
   "metadata": {},
   "source": [
    "<a id=\"Exercises-operations\"></a>\n",
    "Exercise\n",
    "---\n",
    "#### Pet Names 2\n",
    "- Make a copy of your program from [Pet Names](#exercises_what).\n",
    "    - Use a for loop to print out a series of statements such as \"Willie is a dog.\"\n",
    "    - Modify one of the values in your dictionary. You could clarify to name a breed, or you could change an animal from a cat to a dog.\n",
    "        - Use a for loop to print out a series of statements such as \"Willie is a dog.\"\n",
    "    - Add a new key-value pair to your dictionary.\n",
    "        - Use a for loop to print out a series of statements such as \"Willie is a dog.\"\n",
    "    - Remove one of the key-value pairs from your dictionary.\n",
    "        - Use a for loop to print out a series of statements such as \"Willie is a dog.\"\n",
    "- Use a function to do all of the looping and printing in this problem.\n"
   ]
  },
  {
   "cell_type": "code",
   "execution_count": 168,
   "metadata": {},
   "outputs": [
    {
     "name": "stdout",
     "output_type": "stream",
     "text": [
      "Ziggy is a canary.\n",
      "Buddy is a dog.\n",
      "Mittens is a cat.\n",
      "\n",
      "Ziggy is a canary.\n",
      "Buddy is a Woof.\n",
      "Mittens is a cat.\n",
      "\n",
      "Ziggy is a canary.\n",
      "Buddy is a Woof.\n",
      "Mittens is a cat.\n",
      "Hailey is a Horse.\n",
      "\n",
      "Ziggy is a canary.\n",
      "Buddy is a Woof.\n",
      "Hailey is a Horse.\n",
      "\n",
      "Ziggy is a canary.\n",
      "Hailey is a Horse.\n",
      "Bruh is a Woof.\n",
      "\n"
     ]
    }
   ],
   "source": [
    "pets_dict = {'Ziggy': 'canary',\n",
    "        'Buddy': 'dog',\n",
    "        'Mittens': 'cat'}\n",
    "\n",
    "def print_pets(pets):\n",
    "    for name, type in pets.items():\n",
    "        print(f\"{name} is a {type}.\")\n",
    "    print(\"\")\n",
    "        \n",
    "print_pets(pets_dict)\n",
    "\n",
    "pets_dict[\"Buddy\"] = \"Woof\"\n",
    "print_pets(pets_dict)\n",
    "\n",
    "pets_dict[\"Hailey\"] = \"Horse\"\n",
    "print_pets(pets_dict)\n",
    "\n",
    "del pets_dict[\"Mittens\"]\n",
    "print_pets(pets_dict)\n",
    "\n",
    "pets_dict[\"Bruh\"] = pets_dict[\"Buddy\"]\n",
    "del pets_dict[\"Buddy\"]\n",
    "print_pets(pets_dict)\n"
   ]
  },
  {
   "cell_type": "markdown",
   "metadata": {},
   "source": [
    "Looping through a dictionary\n",
    "===\n",
    "Since dictionaries are really about connecting bits of information, you will often use them in the ways described above, where you add key-value pairs whenever you receive some new information, and then you retrieve the key-value pairs that you care about. Sometimes, however, you will want to loop through the entire dictionary. There are several ways to do this:\n",
    "\n",
    "- You can loop through all key-value pairs;\n",
    "- You can loop through the keys, and pull out the values for any keys that you care about;\n",
    "- You can loop through the values."
   ]
  },
  {
   "cell_type": "markdown",
   "metadata": {},
   "source": [
    "Looping through all key-value pairs\n",
    "---\n",
    "This is the kind of loop that was shown in the first example. Here's what this loop looks like, in a general format:"
   ]
  },
  {
   "cell_type": "code",
   "execution_count": 169,
   "metadata": {},
   "outputs": [
    {
     "name": "stdout",
     "output_type": "stream",
     "text": [
      "\n",
      "Key: key_1\n",
      "Value: value_1\n",
      "\n",
      "Key: key_2\n",
      "Value: value_2\n",
      "\n",
      "Key: key_3\n",
      "Value: value_3\n"
     ]
    }
   ],
   "source": [
    "my_dict = {'key_1': 'value_1',\n",
    "    'key_2': 'value_2',\n",
    "    'key_3': 'value_3',\n",
    "    }\n",
    "\n",
    "for key, value in my_dict.items():\n",
    "    print('\\nKey: %s' % key)\n",
    "    print('Value: %s' % value)"
   ]
  },
  {
   "cell_type": "markdown",
   "metadata": {},
   "source": [
    "This works because the method `.items()` pulls all key-value pairs from a dictionary into a list of tuples:"
   ]
  },
  {
   "cell_type": "code",
   "execution_count": 170,
   "metadata": {},
   "outputs": [
    {
     "name": "stdout",
     "output_type": "stream",
     "text": [
      "dict_items([('key_1', 'value_1'), ('key_2', 'value_2'), ('key_3', 'value_3')])\n"
     ]
    }
   ],
   "source": [
    "my_dict = {'key_1': 'value_1',\n",
    "    'key_2': 'value_2',\n",
    "    'key_3': 'value_3',\n",
    "    }\n",
    "\n",
    "print(my_dict.items())"
   ]
  },
  {
   "cell_type": "markdown",
   "metadata": {},
   "source": [
    "The syntax `for key, value in my_dict.items():` does the work of looping through this list of tuples, and pulling the first and second item from each tuple for us.\n",
    "\n",
    "There is nothing special about any of these variable names, so Python code that uses this syntax becomes really readable. Rather than create a new example of this loop, let's just look at the original example again to see this in a meaningful context:"
   ]
  },
  {
   "cell_type": "code",
   "execution_count": 171,
   "metadata": {},
   "outputs": [
    {
     "name": "stdout",
     "output_type": "stream",
     "text": [
      "\n",
      "Word: list\n",
      "Meaning: A collection of values that are not connected, but have an order.\n",
      "\n",
      "Word: dictionary\n",
      "Meaning: A collection of key-value pairs.\n",
      "\n",
      "Word: function\n",
      "Meaning: A named set of instructions that defines a set of actions in Python.\n"
     ]
    }
   ],
   "source": [
    "python_words = {'list': 'A collection of values that are not connected, but have an order.',\n",
    "                'dictionary': 'A collection of key-value pairs.',\n",
    "                'function': 'A named set of instructions that defines a set of actions in Python.',\n",
    "                }\n",
    "\n",
    "for word, meaning in python_words.items():\n",
    "    print(\"\\nWord: %s\" % word)\n",
    "    print(\"Meaning: %s\" % meaning)"
   ]
  },
  {
   "cell_type": "markdown",
   "metadata": {},
   "source": [
    "Looping through all keys in a dictionary\n",
    "---\n",
    "Python provides a clear syntax for looping through just the keys in a dictionary:"
   ]
  },
  {
   "cell_type": "code",
   "execution_count": 172,
   "metadata": {},
   "outputs": [
    {
     "name": "stdout",
     "output_type": "stream",
     "text": [
      "Key: key_1\n",
      "Key: key_2\n",
      "Key: key_3\n"
     ]
    }
   ],
   "source": [
    "my_dict = {'key_1': 'value_1',\n",
    "    'key_2': 'value_2',\n",
    "    'key_3': 'value_3',\n",
    "    }\n",
    "\n",
    "for key in my_dict.keys():\n",
    "    print('Key: %s' % key)"
   ]
  },
  {
   "cell_type": "markdown",
   "metadata": {},
   "source": [
    "This is actually the default behavior of looping through the dictionary itself. So you can leave out the `.keys()` part, and get the exact same behavior:"
   ]
  },
  {
   "cell_type": "code",
   "execution_count": 173,
   "metadata": {},
   "outputs": [
    {
     "name": "stdout",
     "output_type": "stream",
     "text": [
      "Key: key_1\n",
      "Key: key_2\n",
      "Key: key_3\n"
     ]
    }
   ],
   "source": [
    "my_dict = {'key_1': 'value_1',\n",
    "    'key_2': 'value_2',\n",
    "    'key_3': 'value_3',\n",
    "    }\n",
    "\n",
    "for key in my_dict:\n",
    "    print('Key: %s' % key)"
   ]
  },
  {
   "cell_type": "markdown",
   "metadata": {},
   "source": [
    "The only advantage of using the `.keys()` in the code is a little bit of clarity. But anyone who knows Python reasonably well is going to recognize what the second version does. In the rest of our code, we will leave out the `.keys()` when we want this behavior.\n",
    "\n",
    "You can pull out the value of any key that you are interested in within your loop, using the standard notation for accessing a dictionary value from a key:"
   ]
  },
  {
   "cell_type": "code",
   "execution_count": 174,
   "metadata": {},
   "outputs": [
    {
     "name": "stdout",
     "output_type": "stream",
     "text": [
      "Key: key_1\n",
      "Key: key_2\n",
      "  The value for key_2 is value_2.\n",
      "Key: key_3\n"
     ]
    }
   ],
   "source": [
    "my_dict = {'key_1': 'value_1',\n",
    "    'key_2': 'value_2',\n",
    "    'key_3': 'value_3',\n",
    "    }\n",
    "\n",
    "for key in my_dict:\n",
    "    print('Key: %s' % key)\n",
    "    if key == 'key_2':\n",
    "        print(\"  The value for key_2 is %s.\" % my_dict[key])"
   ]
  },
  {
   "cell_type": "markdown",
   "metadata": {},
   "source": [
    "Let's show how we might use this in our Python words program. This kind of loop provides a straightforward way to show only the words in the dictionary:"
   ]
  },
  {
   "cell_type": "code",
   "execution_count": 175,
   "metadata": {},
   "outputs": [
    {
     "name": "stdout",
     "output_type": "stream",
     "text": [
      "The following Python words have been defined:\n",
      "- list\n",
      "- dictionary\n",
      "- function\n"
     ]
    }
   ],
   "source": [
    "python_words = {'list': 'A collection of values that are not connected, but have an order.',\n",
    "                'dictionary': 'A collection of key-value pairs.',\n",
    "                'function': 'A named set of instructions that defines a set of actions in Python.',\n",
    "                }\n",
    "\n",
    "# Show the words that are currently in the dictionary.\n",
    "print(\"The following Python words have been defined:\")\n",
    "for word in python_words:\n",
    "    print(\"- %s\" % word)"
   ]
  },
  {
   "cell_type": "markdown",
   "metadata": {},
   "source": [
    "We can extend this slightly to make a program that lets you look up words. We first let the user choose a word. When the user has chosen a word, we get the meaning for that word, and display it:"
   ]
  },
  {
   "cell_type": "code",
   "execution_count": 176,
   "metadata": {},
   "outputs": [
    {
     "name": "stdout",
     "output_type": "stream",
     "text": [
      "The following Python words have been defined:\n",
      "- list\n",
      "- dictionary\n",
      "- function\n"
     ]
    },
    {
     "ename": "KeyError",
     "evalue": "''",
     "output_type": "error",
     "traceback": [
      "\u001b[1;31m---------------------------------------------------------------------------\u001b[0m",
      "\u001b[1;31mKeyError\u001b[0m                                  Traceback (most recent call last)",
      "\u001b[1;32mc:\\Users\\Felix\\Desktop\\auf-zu-win-11\\th\\2023SS\\DS\\data_aai_sose23\\lecture03_numpy\\h03d-Intro_to_Python-Dictionaries.ipynb Cell 52\u001b[0m in \u001b[0;36m<cell line: 13>\u001b[1;34m()\u001b[0m\n\u001b[0;32m     <a href='vscode-notebook-cell:/c%3A/Users/Felix/Desktop/auf-zu-win-11/th/2023SS/DS/data_aai_sose23/lecture03_numpy/h03d-Intro_to_Python-Dictionaries.ipynb#Y102sZmlsZQ%3D%3D?line=10'>11</a>\u001b[0m \u001b[39m# Allow the user to choose a word, and then display the meaning for that word.\u001b[39;00m\n\u001b[0;32m     <a href='vscode-notebook-cell:/c%3A/Users/Felix/Desktop/auf-zu-win-11/th/2023SS/DS/data_aai_sose23/lecture03_numpy/h03d-Intro_to_Python-Dictionaries.ipynb#Y102sZmlsZQ%3D%3D?line=11'>12</a>\u001b[0m requested_word \u001b[39m=\u001b[39m \u001b[39minput\u001b[39m(\u001b[39m\"\u001b[39m\u001b[39m\\n\u001b[39;00m\u001b[39mWhat word would you like to learn about? \u001b[39m\u001b[39m\"\u001b[39m)\n\u001b[1;32m---> <a href='vscode-notebook-cell:/c%3A/Users/Felix/Desktop/auf-zu-win-11/th/2023SS/DS/data_aai_sose23/lecture03_numpy/h03d-Intro_to_Python-Dictionaries.ipynb#Y102sZmlsZQ%3D%3D?line=12'>13</a>\u001b[0m \u001b[39mprint\u001b[39m(\u001b[39m\"\u001b[39m\u001b[39m\\n\u001b[39;00m\u001b[39m%s\u001b[39;00m\u001b[39m: \u001b[39m\u001b[39m%s\u001b[39;00m\u001b[39m\"\u001b[39m \u001b[39m%\u001b[39m (requested_word, python_words[requested_word]))\n",
      "\u001b[1;31mKeyError\u001b[0m: ''"
     ]
    }
   ],
   "source": [
    "python_words = {'list': 'A collection of values that are not connected, but have an order.',\n",
    "                'dictionary': 'A collection of key-value pairs.',\n",
    "                'function': 'A named set of instructions that defines a set of actions in Python.',\n",
    "                }\n",
    "\n",
    "# Show the words that are currently in the dictionary.\n",
    "print(\"The following Python words have been defined:\")\n",
    "for word in python_words:\n",
    "    print(\"- %s\" % word)\n",
    "    \n",
    "# Allow the user to choose a word, and then display the meaning for that word.\n",
    "requested_word = input(\"\\nWhat word would you like to learn about? \")\n",
    "print(\"\\n%s: %s\" % (requested_word, python_words[requested_word]))"
   ]
  },
  {
   "cell_type": "markdown",
   "metadata": {},
   "source": [
    "This allows the user to select one word that has been defined. If we enclose the input part of the program in a while loop, the user can see as many definitions as they'd like:"
   ]
  },
  {
   "cell_type": "code",
   "execution_count": null,
   "metadata": {},
   "outputs": [],
   "source": [
    "python_words = {'list': 'A collection of values that are not connected, but have an order.',\n",
    "                'dictionary': 'A collection of key-value pairs.',\n",
    "                'function': 'A named set of instructions that defines a set of actions in Python.',\n",
    "                }\n",
    "\n",
    "# Show the words that are currently in the dictionary.\n",
    "print(\"The following Python words have been defined:\")\n",
    "for word in python_words:\n",
    "    print(\"- %s\" % word)\n",
    "\n",
    "requested_word = ''\n",
    "while requested_word != 'quit':\n",
    "    # Allow the user to choose a word, and then display the meaning for that word.\n",
    "    requested_word = input(\"\\nWhat word would you like to learn about? (or 'quit') \")\n",
    "    if requested_word in python_words.keys():\n",
    "        print(\"\\n  %s: %s\" % (requested_word, python_words[requested_word]))\n",
    "    else:\n",
    "        # Handle misspellings, and words not yet stored.\n",
    "        print(\"\\n  Sorry, I don't know that word.\")"
   ]
  },
  {
   "cell_type": "markdown",
   "metadata": {},
   "source": [
    "This allows the user to ask for as many meanings as they want, but it takes the word \"quit\" as a requested word. Let's add an `elif` clause to clean up this behavior:"
   ]
  },
  {
   "cell_type": "code",
   "execution_count": null,
   "metadata": {},
   "outputs": [],
   "source": [
    "python_words = {'list': 'A collection of values that are not connected, but have an order.',\n",
    "                'dictionary': 'A collection of key-value pairs.',\n",
    "                'function': 'A named set of instructions that defines a set of actions in Python.',\n",
    "                }\n",
    "\n",
    "# Show the words that are currently in the dictionary.\n",
    "print(\"The following Python words have been defined:\")\n",
    "for word in python_words:\n",
    "    print(\"- %s\" % word)\n",
    "\n",
    "requested_word = ''\n",
    "while requested_word != 'quit':\n",
    "    # Allow the user to choose a word, and then display the meaning for that word.\n",
    "    requested_word = input(\"\\nWhat word would you like to learn about? (or 'quit') \")\n",
    "    if requested_word in python_words.keys():\n",
    "        # This is a word we know, so show the meaning.\n",
    "        print(\"\\n  %s: %s\" % (requested_word, python_words[requested_word]))\n",
    "    elif requested_word != 'quit':\n",
    "        # This is not in python_words, and it's not 'quit'.\n",
    "        print(\"\\n  Sorry, I don't know that word.\")\n",
    "    else:\n",
    "        # The word is quit.\n",
    "        print(\"\\n  Bye!\")"
   ]
  },
  {
   "cell_type": "markdown",
   "metadata": {},
   "source": [
    "Looping through all values in a dictionary\n",
    "---\n",
    "Python provides a straightforward syntax for looping through all the values in a dictionary, as well:"
   ]
  },
  {
   "cell_type": "code",
   "execution_count": null,
   "metadata": {},
   "outputs": [],
   "source": [
    "my_dict = {'key_1': 'value_1',\n",
    "    'key_2': 'value_2',\n",
    "    'key_3': 'value_3',\n",
    "    }\n",
    "\n",
    "for value in my_dict.values():\n",
    "    print('Value: %s' % value)"
   ]
  },
  {
   "cell_type": "markdown",
   "metadata": {},
   "source": [
    "We can use this loop syntax to have a little fun with the dictionary example, by making a little quiz program. The program will display a meaning, and ask the user to guess the word that matches that meaning. Let's start out by showing all the meanings in the dictionary:"
   ]
  },
  {
   "cell_type": "code",
   "execution_count": null,
   "metadata": {},
   "outputs": [],
   "source": [
    "python_words = {'list': 'A collection of values that are not connected, but have an order.',\n",
    "                'dictionary': 'A collection of key-value pairs.',\n",
    "                'function': 'A named set of instructions that defines a set of actions in Python.',\n",
    "                }\n",
    "\n",
    "for meaning in python_words.values():\n",
    "    print(\"Meaning: %s\" % meaning)"
   ]
  },
  {
   "cell_type": "markdown",
   "metadata": {},
   "source": [
    "Now we can add a prompt after each meaning, asking the user to guess the word:"
   ]
  },
  {
   "cell_type": "code",
   "execution_count": null,
   "metadata": {},
   "outputs": [],
   "source": [
    "python_words = {'list': 'A collection of values that are not connected, but have an order.',\n",
    "                'dictionary': 'A collection of key-value pairs.',\n",
    "                'function': 'A named set of instructions that defines a set of actions in Python.',\n",
    "                }\n",
    "\n",
    "# Print each meaning, one at a time, and ask the user\n",
    "#  what word they think it is.\n",
    "for meaning in python_words.values():\n",
    "    print(\"\\nMeaning: %s\" % meaning)\n",
    "    \n",
    "    guessed_word = input(\"What word do you think this is? \")\n",
    "    \n",
    "    # The guess is correct if the guessed word's meaning matches the current meaning.\n",
    "    if guessed_word in python_words and python_words[guessed_word] == meaning:\n",
    "        print(\"You got it!\")\n",
    "    else:\n",
    "        print(\"Sorry, that's just not the right word.\")"
   ]
  },
  {
   "cell_type": "markdown",
   "metadata": {},
   "source": [
    "This is starting to work, but we can see from the output that the user does not get the chance to take a second guess if they guess wrong for any meaning. We can use a while loop around the guessing code, to let the user guess until they get it right:"
   ]
  },
  {
   "cell_type": "code",
   "execution_count": null,
   "metadata": {},
   "outputs": [],
   "source": [
    "python_words = {'list': 'A collection of values that are not connected, but have an order.',\n",
    "                'dictionary': 'A collection of key-value pairs.',\n",
    "                'function': 'A named set of instructions that defines a set of actions in Python.',\n",
    "                }\n",
    "\n",
    "# Print each meaning, one at a time, and ask the user\n",
    "#  what word they think it is.\n",
    "for meaning in python_words.values():\n",
    "    print(\"\\nMeaning: %s\" % meaning)\n",
    "    \n",
    "    # Assume the guess is not correct; keep guessing until correct.\n",
    "    correct = False\n",
    "    while not correct:\n",
    "        guessed_word = input(\"\\nWhat word do you think this is? \")\n",
    "    \n",
    "        # The guess is correct if the guessed word's meaning matches the current meaning.\n",
    "        if guessed_word in python_words and python_words[guessed_word] == meaning:\n",
    "            print(\"You got it!\")\n",
    "            correct = True\n",
    "        else:\n",
    "            print(\"Sorry, that's just not the right word.\")"
   ]
  },
  {
   "cell_type": "markdown",
   "metadata": {},
   "source": [
    "This is better. Now, if the guess is incorrect, the user is caught in a loop that they can only exit by guessing correctly. The final revision to this code is to show the user a list of words to choose from when they are asked to guess:"
   ]
  },
  {
   "cell_type": "code",
   "execution_count": null,
   "metadata": {},
   "outputs": [],
   "source": [
    "python_words = {'list': 'A collection of values that are not connected, but have an order.',\n",
    "                'dictionary': 'A collection of key-value pairs.',\n",
    "                'function': 'A named set of instructions that defines a set of actions in Python.',\n",
    "                }\n",
    "\n",
    "def show_words(python_words):\n",
    "    # A simple function to show the words in the dictionary.\n",
    "    display_message = \"\"\n",
    "    for word in python_words.keys():\n",
    "        display_message += word + '  '\n",
    "    print(display_message)\n",
    "\n",
    "# Print each meaning, one at a time, and ask the user\n",
    "#  what word they think it is.\n",
    "for meaning in python_words.values():\n",
    "    print(\"\\n%s\" % meaning)\n",
    "\n",
    "    # Assume the guess is not correct; keep guessing until correct.\n",
    "    correct = False\n",
    "    while not correct:\n",
    "        \n",
    "        print(\"\\nWhat word do you think this is?\")\n",
    "        show_words(python_words)\n",
    "        guessed_word = input(\"- \")    \n",
    "        \n",
    "        # The guess is correct if the guessed word's meaning matches the current meaning.\n",
    "        if guessed_word in python_words and python_words[guessed_word] == meaning:\n",
    "            print(\"You got it!\")\n",
    "            correct = True\n",
    "        else:\n",
    "            print(\"Sorry, that's just not the right word.\")"
   ]
  },
  {
   "cell_type": "markdown",
   "metadata": {},
   "source": [
    "Looping through a dictionary in order\n",
    "===\n",
    "Dictionaries are quite useful because they allow bits of information to be connected. One of the problems with dictionaries, however, is that they are not stored in any particular order. When you retrieve all of the keys or values in your dictionary, you can't be sure what order you will get them back. There is a quick and easy way to do this, however, when you want them in a particular order.\n",
    "\n",
    "Let's take a look at the order that results from a simple call to *dictionary.keys()*:"
   ]
  },
  {
   "cell_type": "code",
   "execution_count": null,
   "metadata": {},
   "outputs": [],
   "source": [
    "python_words = {'list': 'A collection of values that are not connected, but have an order.',\n",
    "                'dictionary': 'A collection of key-value pairs.',\n",
    "                'function': 'A named set of instructions that defines a set of actions in Python.',\n",
    "                }\n",
    "\n",
    "for word in python_words.keys():\n",
    "    print(word)"
   ]
  },
  {
   "cell_type": "markdown",
   "metadata": {},
   "source": [
    "The resulting list is not in order. The list of keys can be put in order by passing the list into the *sorted()* function, in the line that initiates the for loop:"
   ]
  },
  {
   "cell_type": "code",
   "execution_count": null,
   "metadata": {},
   "outputs": [],
   "source": [
    "python_words = {'list': 'A collection of values that are not connected, but have an order.',\n",
    "                'dictionary': 'A collection of key-value pairs.',\n",
    "                'function': 'A named set of instructions that defines a set of actions in Python.',\n",
    "                }\n",
    "\n",
    "for word in sorted(python_words.keys()):\n",
    "    print(word)"
   ]
  },
  {
   "cell_type": "markdown",
   "metadata": {},
   "source": [
    "This approach can be used to work with the keys and values in order. For example, the words and meanings can be printed in alphabetical order by word:"
   ]
  },
  {
   "cell_type": "code",
   "execution_count": null,
   "metadata": {},
   "outputs": [],
   "source": [
    "python_words = {'list': 'A collection of values that are not connected, but have an order.',\n",
    "                'dictionary': 'A collection of key-value pairs.',\n",
    "                'function': 'A named set of instructions that defines a set of actions in Python.',\n",
    "                }\n",
    "\n",
    "for word in sorted(python_words.keys()):\n",
    "    print(\"%s: %s\" % (word.title(), python_words[word]))"
   ]
  },
  {
   "cell_type": "markdown",
   "metadata": {},
   "source": [
    "In this example, the keys have been put into alphabetical order in the for loop only; Python has not changed the way the dictionary is stored at all. So the next time the dictionary is accessed, the keys could be returned in any order. There is no way to permanently specify an order for the items in an ordinary dictionary, but if you want to do this you can use the [OrderedDict](http://docs.python.org/3.3/library/collections.html#ordereddict-objects) structure."
   ]
  },
  {
   "cell_type": "markdown",
   "metadata": {},
   "source": [
    "<a id=\"Exercises-looping\"></a>\n",
    "Exercises\n",
    "---\n",
    "#### Mountain Heights\n",
    "- Wikipedia has a list of the [tallest mountains in the world](http://en.wikipedia.org/wiki/List_of_mountains_by_elevation), with each mountain's elevation. Pick five mountains from this list.\n",
    "    - Create a dictionary with the mountain names as keys, and the elevations as values.\n",
    "    - Print out just the mountains' names, by looping through the keys of your dictionary.\n",
    "    - Print out just the mountains' elevations, by looping through the values of your dictionary.\n",
    "    - Print out a series of statements telling how tall each mountain is: \"Everest is 8848 meters tall.\"\n",
    "- Revise your output, if necessary.\n",
    "    - Make sure there is an introductory sentence describing the output for each loop you write.\n",
    "    - Make sure there is a blank line between each group of statements.\n",
    "\n",
    "#### Mountain Heights 2\n",
    "- Revise your final output from Mountain Heights, so that the information is listed in alphabetical order by each mountain's name.\n",
    "    - That is, print out a series of statements telling how tall each mountain is: \"Everest is 8848 meters tall.\"\n",
    "    - Make sure your output is in alphabetical order."
   ]
  },
  {
   "cell_type": "code",
   "execution_count": 214,
   "metadata": {},
   "outputs": [
    {
     "name": "stdout",
     "output_type": "stream",
     "text": [
      "these are all the mountains with a peak above 8000m:\n",
      "Mount Everest\n",
      "K2\n",
      "Kangchenjunga\n",
      "Lhotse\n",
      "Makalu\n",
      "Cho Oyu\n",
      "Dhaulagiri\n",
      "Manaslu\n",
      "Nanga Parbat\n",
      "Annapurna\n",
      "Gasherbrum I (Hidden peak; K5)\n",
      "Broad Peak\n",
      "Gasherbrum II (K4)\n",
      "Shishapangma\n",
      "\n",
      "these are their respective elevations:\n",
      "8848\n",
      "8612\n",
      "8586\n",
      "8516\n",
      "8485\n",
      "8188\n",
      "8167\n",
      "8163\n",
      "8126\n",
      "8091\n",
      "8080\n",
      "8051\n",
      "8035\n",
      "8027\n",
      "\n",
      "and here is a combined list in alphabetical order:\n",
      "Annapurna is 8091 meters tall.\n",
      "Broad Peak is 8051 meters tall.\n",
      "Cho Oyu is 8188 meters tall.\n",
      "Dhaulagiri is 8167 meters tall.\n",
      "Gasherbrum I (Hidden peak; K5) is 8080 meters tall.\n",
      "Gasherbrum II (K4) is 8035 meters tall.\n",
      "K2 is 8612 meters tall.\n",
      "Kangchenjunga is 8586 meters tall.\n",
      "Lhotse is 8516 meters tall.\n",
      "Makalu is 8485 meters tall.\n",
      "Manaslu is 8163 meters tall.\n",
      "Mount Everest is 8848 meters tall.\n",
      "Nanga Parbat is 8126 meters tall.\n",
      "Shishapangma is 8027 meters tall.\n"
     ]
    }
   ],
   "source": [
    "mountains = [\"Mount Everest, 8,848\",\n",
    "\"K2, 8,612\",\n",
    "\"Kangchenjunga, 8,586\",\n",
    "\"Lhotse, 8,516\",\n",
    "\"Makalu, 8,485\",\n",
    "\"Cho Oyu, 8,188\",\n",
    "\"Dhaulagiri, 8,167\",\n",
    "\"Manaslu, 8,163\",\n",
    "\"Nanga Parbat, 8,126\",\n",
    "\"Annapurna, 8,091\",\n",
    "\"Gasherbrum I (Hidden peak; K5), 8,080\",\n",
    "\"Broad Peak, 8,051\",\n",
    "\"Gasherbrum II (K4), 8,035\",\n",
    "\"Shishapangma, 8,027\"]\n",
    "\n",
    "mountains_dict = {}\n",
    "for peak in mountains:\n",
    "    tempName, tempHeight = peak.split(\", \")\n",
    "    mountains_dict[tempName] = tempHeight.replace(\",\",\"\")\n",
    "\n",
    "print(\"these are all the mountains with a peak above 8000m:\")\n",
    "for mountain in mountains_dict:\n",
    "    print(mountain)\n",
    "\n",
    "print(\"\\nthese are their respective elevations:\")\n",
    "for mountain in mountains_dict.values():\n",
    "    print(mountain)\n",
    "    \n",
    "print(\"\\nand here is a combined list in alphabetical order:\")\n",
    "for mountain, elevation in sorted(mountains_dict.items()):\n",
    "    print(f\"{mountain} is {elevation} meters tall.\")"
   ]
  },
  {
   "cell_type": "markdown",
   "metadata": {},
   "source": [
    "Nesting\n",
    "===\n",
    "Nesting is one of the most powerful concepts we have come to so far. Nesting involves putting a list or dictionary inside another list or dictionary. We will look at two examples here, lists inside of a dictionary and dictionaries inside of a dictionary. With nesting, the kind of information we can model in our programs is expanded greatly."
   ]
  },
  {
   "cell_type": "markdown",
   "metadata": {},
   "source": [
    "Lists in a dictionary\n",
    "---\n",
    "A dictionary connects two pieces of information. Those two pieces of information can be any kind of data structure in Python. Let's keep using strings for our keys, but let's try giving a list as a value.\n",
    "\n",
    "The first example will involve storing a number of people's favorite numbers. The keys consist of people's names, and the values are lists of each person's favorite numbers. In this first example, we will access each person's list one at a time."
   ]
  },
  {
   "cell_type": "code",
   "execution_count": 215,
   "metadata": {},
   "outputs": [
    {
     "name": "stdout",
     "output_type": "stream",
     "text": [
      "Eric's favorite numbers are:\n",
      "[3, 11, 19, 23, 42]\n",
      "\n",
      "Ever's favorite numbers are:\n",
      "[2, 4, 5]\n",
      "\n",
      "Willie's favorite numbers are:\n",
      "[5, 35, 120]\n"
     ]
    }
   ],
   "source": [
    "# This program stores people's favorite numbers, and displays them.\n",
    "favorite_numbers = {'eric': [3, 11, 19, 23, 42],\n",
    "                    'ever': [2, 4, 5],\n",
    "                    'willie': [5, 35, 120],\n",
    "                    }\n",
    "\n",
    "# Display each person's favorite numbers.\n",
    "print(\"Eric's favorite numbers are:\")\n",
    "print(favorite_numbers['eric'])\n",
    "\n",
    "print(\"\\nEver's favorite numbers are:\")\n",
    "print(favorite_numbers['ever'])\n",
    "\n",
    "print(\"\\nWillie's favorite numbers are:\")\n",
    "print(favorite_numbers['willie'])"
   ]
  },
  {
   "cell_type": "markdown",
   "metadata": {},
   "source": [
    "We are really just working our way through each key in the dictionary, so let's use a for loop to go through the keys in the dictionary:"
   ]
  },
  {
   "cell_type": "code",
   "execution_count": 216,
   "metadata": {},
   "outputs": [
    {
     "name": "stdout",
     "output_type": "stream",
     "text": [
      "\n",
      "Eric's favorite numbers are:\n",
      "[3, 11, 19, 23, 42]\n",
      "\n",
      "Ever's favorite numbers are:\n",
      "[2, 4, 5]\n",
      "\n",
      "Willie's favorite numbers are:\n",
      "[5, 35, 120]\n"
     ]
    }
   ],
   "source": [
    "# This program stores people's favorite numbers, and displays them.\n",
    "favorite_numbers = {'eric': [3, 11, 19, 23, 42],\n",
    "                    'ever': [2, 4, 5],\n",
    "                    'willie': [5, 35, 120],\n",
    "                    }\n",
    "\n",
    "# Display each person's favorite numbers.\n",
    "for name in favorite_numbers:\n",
    "    print(\"\\n%s's favorite numbers are:\" % name.title())\n",
    "    print(favorite_numbers[name])      "
   ]
  },
  {
   "cell_type": "markdown",
   "metadata": {},
   "source": [
    "This works, but we'd rather not print raw Python in our output. Let's use a for loop to print the favorite numbers individually, rather than in a Python list."
   ]
  },
  {
   "cell_type": "code",
   "execution_count": 217,
   "metadata": {},
   "outputs": [
    {
     "name": "stdout",
     "output_type": "stream",
     "text": [
      "\n",
      "Eric's favorite numbers are:\n",
      "3\n",
      "11\n",
      "19\n",
      "23\n",
      "42\n",
      "\n",
      "Ever's favorite numbers are:\n",
      "2\n",
      "4\n",
      "5\n",
      "\n",
      "Willie's favorite numbers are:\n",
      "5\n",
      "35\n",
      "120\n"
     ]
    }
   ],
   "source": [
    "# This program stores people's favorite numbers, and displays them.\n",
    "favorite_numbers = {'eric': [3, 11, 19, 23, 42],\n",
    "                    'ever': [2, 4, 5],\n",
    "                    'willie': [5, 35, 120],\n",
    "                    }\n",
    "\n",
    "# Display each person's favorite numbers.\n",
    "for name in favorite_numbers:\n",
    "    print(\"\\n%s's favorite numbers are:\" % name.title())\n",
    "    # Each value is itself a list, so we need another for loop\n",
    "    #  to work with the list.\n",
    "    for favorite_number in favorite_numbers[name]:\n",
    "        print(favorite_number)        "
   ]
  },
  {
   "cell_type": "markdown",
   "metadata": {},
   "source": [
    "Dictionaries in a dictionary\n",
    "---\n",
    "The most powerful nesting concept we will cover right now is nesting a dictionary inside of a dictionary.\n",
    "\n",
    "To demonstrate this, let's make a dictionary of pets, with some information about each pet. The keys for this dictionary will consist of the pet's name. The values will include information such as the kind of animal, the owner, and whether the pet has been vaccinated."
   ]
  },
  {
   "cell_type": "code",
   "execution_count": 218,
   "metadata": {},
   "outputs": [
    {
     "name": "stdout",
     "output_type": "stream",
     "text": [
      "Here is what I know about Willie:\n",
      "kind: dog\n",
      "owner: eric\n",
      "vaccinated: True\n",
      "\n",
      "Here is what I know about Walter:\n",
      "kind: cockroach\n",
      "owner: eric\n",
      "vaccinated: False\n",
      "\n",
      "Here is what I know about Peso:\n",
      "kind: dog\n",
      "owner: chloe\n",
      "vaccinated: True\n"
     ]
    }
   ],
   "source": [
    "# This program stores information about pets. For each pet,\n",
    "#   we store the kind of animal, the owner's name, and\n",
    "#   the breed.\n",
    "pets = {'willie': {'kind': 'dog', 'owner': 'eric', 'vaccinated': True},\n",
    "        'walter': {'kind': 'cockroach', 'owner': 'eric', 'vaccinated': False},\n",
    "        'peso': {'kind': 'dog', 'owner': 'chloe', 'vaccinated': True},\n",
    "        }\n",
    "\n",
    "# Let's show all the information for each pet.\n",
    "print(\"Here is what I know about Willie:\")\n",
    "print(\"kind: \" + pets['willie']['kind'])\n",
    "print(\"owner: \" + pets['willie']['owner'])\n",
    "print(\"vaccinated: \" + str(pets['willie']['vaccinated']))\n",
    "\n",
    "print(\"\\nHere is what I know about Walter:\")\n",
    "print(\"kind: \" + pets['walter']['kind'])\n",
    "print(\"owner: \" + pets['walter']['owner'])\n",
    "print(\"vaccinated: \" + str(pets['walter']['vaccinated']))\n",
    "\n",
    "print(\"\\nHere is what I know about Peso:\")\n",
    "print(\"kind: \" + pets['peso']['kind'])\n",
    "print(\"owner: \" + pets['peso']['owner'])\n",
    "print(\"vaccinated: \" + str(pets['peso']['vaccinated']))"
   ]
  },
  {
   "cell_type": "markdown",
   "metadata": {},
   "source": [
    "Clearly this is some repetitive code, but it shows exactly how we access information in a nested dictionary. In the first set of `print` statements, we use the name 'willie' to unlock the 'kind' of animal he is, the 'owner' he has, and whether or not he is 'vaccinated'. We have to wrap the vaccination value in the `str` function so that Python knows we want the words 'True' and 'False', not the values `True` and `False`. We then do the same thing for each animal.\n",
    "\n",
    "Let's rewrite this program, using a for loop to go through the dictionary's keys:"
   ]
  },
  {
   "cell_type": "code",
   "execution_count": 219,
   "metadata": {},
   "outputs": [
    {
     "name": "stdout",
     "output_type": "stream",
     "text": [
      "\n",
      "Here is what I know about Willie:\n",
      "kind: dog\n",
      "owner: eric\n",
      "vaccinated: True\n",
      "\n",
      "Here is what I know about Walter:\n",
      "kind: cockroach\n",
      "owner: eric\n",
      "vaccinated: False\n",
      "\n",
      "Here is what I know about Peso:\n",
      "kind: dog\n",
      "owner: chloe\n",
      "vaccinated: True\n"
     ]
    }
   ],
   "source": [
    "# This program stores information about pets. For each pet,\n",
    "#   we store the kind of animal, the owner's name, and\n",
    "#   the breed.\n",
    "pets = {'willie': {'kind': 'dog', 'owner': 'eric', 'vaccinated': True},\n",
    "        'walter': {'kind': 'cockroach', 'owner': 'eric', 'vaccinated': False},\n",
    "        'peso': {'kind': 'dog', 'owner': 'chloe', 'vaccinated': True},\n",
    "        }\n",
    "\n",
    "# Let's show all the information for each pet.\n",
    "for pet_name, pet_information in pets.items():\n",
    "    print(\"\\nHere is what I know about %s:\" % pet_name.title())\n",
    "    print(\"kind: \" + pet_information['kind'])\n",
    "    print(\"owner: \" + pet_information['owner'])\n",
    "    print(\"vaccinated: \" + str(pet_information['vaccinated']))"
   ]
  },
  {
   "cell_type": "markdown",
   "metadata": {},
   "source": [
    "This code is much shorter and easier to maintain. But even this code will not keep up with our dictionary. If we add more information to the dictionary later, we will have to update our print statements. Let's put a second for loop inside the first loop in order to run through all the information about each pet:"
   ]
  },
  {
   "cell_type": "code",
   "execution_count": 220,
   "metadata": {},
   "outputs": [
    {
     "name": "stdout",
     "output_type": "stream",
     "text": [
      "\n",
      "Here is what I know about Willie:\n",
      "kind: dog\n",
      "owner: eric\n",
      "vaccinated: True\n",
      "\n",
      "Here is what I know about Walter:\n",
      "kind: cockroach\n",
      "owner: eric\n",
      "vaccinated: False\n",
      "\n",
      "Here is what I know about Peso:\n",
      "kind: dog\n",
      "owner: chloe\n",
      "vaccinated: True\n"
     ]
    }
   ],
   "source": [
    "# This program stores information about pets. For each pet,\n",
    "#   we store the kind of animal, the owner's name, and\n",
    "#   the breed.\n",
    "pets = {'willie': {'kind': 'dog', 'owner': 'eric', 'vaccinated': True},\n",
    "        'walter': {'kind': 'cockroach', 'owner': 'eric', 'vaccinated': False},\n",
    "        'peso': {'kind': 'dog', 'owner': 'chloe', 'vaccinated': True},\n",
    "        }\n",
    "\n",
    "# Let's show all the information for each pet.\n",
    "for pet_name, pet_information in pets.items():\n",
    "    print(\"\\nHere is what I know about %s:\" % pet_name.title())\n",
    "    # Each animal's dictionary is in 'information'\n",
    "    for key, value in pet_information.items():\n",
    "        print(key + \": \" + str(value))"
   ]
  },
  {
   "cell_type": "markdown",
   "metadata": {},
   "source": [
    "This nested loop can look pretty complicated:\n",
    "\n",
    "- The first loop gives us all the keys in the main dictionary, which consist of the name of each pet.\n",
    "- Each of these names can be used to 'unlock' the dictionary of each pet.\n",
    "- The inner loop goes through the dictionary for that individual pet, and pulls out all of the keys in that individual pet's dictionary.\n",
    "- We print the key, which tells us the kind of information we are about to see, and the value for that key.\n",
    "- You can see that we could improve the formatting in the output.\n",
    "    - We could capitalize the owner's name.\n",
    "    - We could print 'yes' or 'no', instead of True and False.\n",
    "    \n",
    "Let's show one last version that uses some if statements to clean up our data for printing:"
   ]
  },
  {
   "cell_type": "code",
   "execution_count": 221,
   "metadata": {},
   "outputs": [
    {
     "name": "stdout",
     "output_type": "stream",
     "text": [
      "\n",
      "Here is what I know about Willie:\n",
      "  kind: dog\n",
      "  owner: Eric\n",
      "  vaccinated: yes\n",
      "\n",
      "Here is what I know about Walter:\n",
      "  kind: cockroach\n",
      "  owner: Eric\n",
      "  vaccinated: no\n",
      "\n",
      "Here is what I know about Peso:\n",
      "  kind: dog\n",
      "  owner: Chloe\n",
      "  vaccinated: yes\n"
     ]
    }
   ],
   "source": [
    "# This program stores information about pets. For each pet,\n",
    "#   we store the kind of animal, the owner's name, and\n",
    "#   the breed.\n",
    "pets = {'willie': {'kind': 'dog', 'owner': 'eric', 'vaccinated': True},\n",
    "        'walter': {'kind': 'cockroach', 'owner': 'eric', 'vaccinated': False},\n",
    "        'peso': {'kind': 'dog', 'owner': 'chloe', 'vaccinated': True},\n",
    "        }\n",
    "\n",
    "# Let's show all the information for each pet.\n",
    "for pet_name, pet_information in pets.items():\n",
    "    print(\"\\nHere is what I know about %s:\" % pet_name.title())\n",
    "    # Each animal's dictionary is in pet_information\n",
    "    for key in pet_information:\n",
    "        if key == 'owner':\n",
    "            # Capitalize the owner's name.\n",
    "            print(\"  \" + key + \": \" + pet_information[key].title())\n",
    "        elif key == 'vaccinated':\n",
    "            # Print 'yes' for True, and 'no' for False.\n",
    "            if pet_information['vaccinated']:\n",
    "                print('  vaccinated: yes')\n",
    "            else:\n",
    "                print('  vaccinated: no')\n",
    "        else:\n",
    "            # No special formatting needed for this key.\n",
    "            print(\"  \" + key + \": \" + pet_information[key])"
   ]
  },
  {
   "cell_type": "markdown",
   "metadata": {},
   "source": [
    "This code is a lot longer, and now we have nested if statements as well as nested for loops. But keep in mind, this structure would work if there were 1000 pets in our dictionary, and it would work if we were storing 1000 pieces of information about each pet. One level of nesting lets us model an incredible array of information."
   ]
  },
  {
   "cell_type": "markdown",
   "metadata": {},
   "source": [
    "An important note about nesting\n",
    "---\n",
    "While one level of nesting is really useful, nesting much deeper than that gets really complicated, really quickly. There are other structures such as classes which can be even more useful for modeling information. In addition to this, we can use Python to store information in a database (databases are great, aren't they! :-)), which is the proper tool for storing deeply nested information.\n",
    "\n",
    "Often times when you are storing information in a database you will pull a small set of that information out and put it into a dictionary, or a slightly nested structure, and then work with it. But you will rarely, if ever, work with Python data structures nested more than one level deep."
   ]
  },
  {
   "cell_type": "markdown",
   "metadata": {},
   "source": [
    "<a id=\"Exercises-nesting\"></a>\n",
    "Exercises\n",
    "---\n",
    "#### Mountain Heights 3\n",
    "- This is an extension of [Mountain Heights](#exercise_mountain_heights).\n",
    "    - The list of [tallest mountains in the world](http://en.wikipedia.org/wiki/List_of_mountains_by_elevation) provided all elevations in meters. Convert each of these elevations to feet, given that a meter is approximately 3.28 feet. You can do these calculations by hand at this point.\n",
    "    - Create a new dictionary, where the keys of the dictionary are still the mountains' names. This time however, the values of the dictionary should be a list of each mountain's elevation in meters, and then in feet: {'everest': [8848, 29029]}\n",
    "    - Print out just the mountains' names, by looping through the keys of your dictionary.\n",
    "    - Print out just the mountains' elevations in meters, by looping through the values of your dictionary and pulling out the first number from each list.\n",
    "    - Print out just the mountains' elevations in feet, by looping through the values of your dictionary and pulling out the second number from each list.\n",
    "    - Print out a series of statements telling how tall each mountain is: \"Everest is 8848 meters tall, or 29029 feet.\"\n",
    "- Bonus:\n",
    "    - Start with your original program from [Mountain Heights](#exercise_mountain_heights). Write a function that reads through the elevations in meters, and returns a list of elevations in feet. Use this list to create the nested dictionary described above.\n",
    "\n",
    "#### Mountain Heights 4\n",
    "- This is one more extension of Mountain Heights.\n",
    "    - Create a new dictionary, where the keys of the dictionary are once again the mountains' names. This time, the values of the dictionary are another dictionary. This dictionary should contain the elevation in either meters or feet, and the range that contains the mountain. For example: {'everest': {'elevation': 8848, 'range': 'himalaya'}}.\n",
    "    - Print out just the mountains' names.\n",
    "    - Print out just the mountains' elevations.\n",
    "    - Print out just the range for each mountain.\n",
    "    - Print out a series of statements that say everything you know about each mountain: \"Everest is an 8848-meter tall mountain in the Himalaya range.\""
   ]
  },
  {
   "cell_type": "code",
   "execution_count": 322,
   "metadata": {},
   "outputs": [
    {
     "name": "stdout",
     "output_type": "stream",
     "text": [
      "The Mount Everest is an 8848-meter tall mountain in the Himalayas range.\n",
      "The K2 is an 8612-meter tall mountain in the Karakoram range.\n",
      "The Kangchenjunga is an 8586-meter tall mountain in the Himalayas range.\n",
      "The Lhotse is an 8516-meter tall mountain in the Himalayas range.\n",
      "The Makalu is an 8485-meter tall mountain in the Himalayas range.\n",
      "The Cho Oyu is an 8188-meter tall mountain in the Himalayas range.\n",
      "The Dhaulagiri is an 8167-meter tall mountain in the Himalayas range.\n",
      "The Manaslu is an 8163-meter tall mountain in the Himalayas range.\n",
      "The Nanga Parbat is an 8126-meter tall mountain in the Himalayas range.\n",
      "The Annapurna is an 8091-meter tall mountain in the Himalayas range.\n",
      "The Gasherbrum I (Hidden peak; K5) is an 8080-meter tall mountain in the Karakoram range.\n",
      "The Broad Peak is an 8051-meter tall mountain in the Karakoram range.\n",
      "The Gasherbrum II (K4) is an 8035-meter tall mountain in the Karakoram range.\n",
      "The Shishapangma is an 8027-meter tall mountain in the Himalayas range.\n"
     ]
    }
   ],
   "source": [
    "mountains_dict_feet = mountains_dict.copy()\n",
    "for mountain, elevation in mountains_dict.items():\n",
    "    mountains_dict_feet[mountain] = round(int(elevation)*3.28084)\n",
    "#     print(mountains_dict_feet[mountain])\n",
    "# print(\"\")    \n",
    "    \n",
    "mountains_meter_and_feet = {}\n",
    "for (mountain, meter), feet in zip(mountains_dict.items(), mountains_dict_feet.values()):\n",
    "    mountains_meter_and_feet[mountain] = (int(meter), feet)  \n",
    "\n",
    "# for mountain in mountains_meter_and_feet:\n",
    "#     print(mountain)\n",
    "# print(\"\")   \n",
    "\n",
    "# for m, f in mountains_meter_and_feet.values():\n",
    "#     print(m, f)\n",
    "# print(\"\")   \n",
    "\n",
    "# for mountain in mountains_meter_and_feet:\n",
    "#     print(f\"{mountain} is {mountains_meter_and_feet[mountain][0]} meters or {mountains_meter_and_feet[mountain][1]} feet tall.\")\n",
    "# print(\"\") \n",
    "    \n",
    "def add_feet_to_dict(input_dict):\n",
    "    feet_pics_list = [(int(peak), round(int(peak)*3.28084)) for peak in input_dict.values()]\n",
    "    result_dict = {}\n",
    "    for i, key in enumerate(input_dict):\n",
    "        result_dict[key] = feet_pics_list[i]\n",
    "        i += 1\n",
    "    return result_dict\n",
    "    \n",
    "add_feet_to_dict(mountains_dict)\n",
    "\n",
    "mountains_range = [\"Mount Everest, 8848, Himalayas\",\n",
    "\"K2, 8612, Karakoram\",\n",
    "\"Kangchenjunga, 8586, Himalayas\",\n",
    "\"Lhotse, 8516, Himalayas\",\n",
    "\"Makalu, 8485, Himalayas\",\n",
    "\"Cho Oyu, 8188, Himalayas\",\n",
    "\"Dhaulagiri, 8167, Himalayas\",\n",
    "\"Manaslu, 8163, Himalayas\",\n",
    "\"Nanga Parbat, 8126, Himalayas\",\n",
    "\"Annapurna, 8091, Himalayas\",\n",
    "\"Gasherbrum I (Hidden peak; K5), 8080, Karakoram\",\n",
    "\"Broad Peak, 8051, Karakoram\",\n",
    "\"Gasherbrum II (K4), 8035, Karakoram\",\n",
    "\"Shishapangma, 8027, Himalayas\"]\n",
    "\n",
    "mountain_range_dict = {}\n",
    "\n",
    "for mountain in mountains_range:\n",
    "    name, height, range = mountain.split(\", \")\n",
    "    mountain_range_dict[name] = {\"elevation\" : height, \"range\" : range}\n",
    "    \n",
    "for key, value in zip(mountain_range_dict.keys(), mountain_range_dict.values()):\n",
    "    print(f\"The {key} is an {value['elevation']}-meter tall mountain in the {value['range']} range.\")"
   ]
  },
  {
   "cell_type": "markdown",
   "metadata": {},
   "source": [
    "---"
   ]
  }
 ],
 "metadata": {
  "kernelspec": {
   "display_name": "Python 3",
   "language": "python",
   "name": "python3"
  },
  "language_info": {
   "codemirror_mode": {
    "name": "ipython",
    "version": 3
   },
   "file_extension": ".py",
   "mimetype": "text/x-python",
   "name": "python",
   "nbconvert_exporter": "python",
   "pygments_lexer": "ipython3",
   "version": "3.10.0"
  },
  "vscode": {
   "interpreter": {
    "hash": "e2f04cf2f7544c889a1a0098c1cf78ced2c664ea38df0d27a9b899b5831aa2a5"
   }
  }
 },
 "nbformat": 4,
 "nbformat_minor": 4
}

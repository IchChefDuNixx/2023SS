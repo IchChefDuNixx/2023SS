{
 "cells": [
  {
   "cell_type": "code",
   "execution_count": 1,
   "metadata": {
    "tags": []
   },
   "outputs": [],
   "source": [
    "# This is Lecture03 - Exercise 1\n",
    "# of the \"Data Science\" class at Technische Hochschule Rosenheim"
   ]
  },
  {
   "cell_type": "markdown",
   "metadata": {},
   "source": [
    "# Pokemon Dataset\n",
    "\n",
    "In this exercise you will be analysing a dataset about Pokemon.\n",
    "<img src=\"figures/pokemon.png\" alt=\"Pikatchu\" align=\"right\" width=\"200\"/>\n",
    "\n",
    "### Intro to Pokemon\n",
    "Pokémon is a media franchise managed by The Pokémon Company, a Japanese consortium between Nintendo, Game Freak, and Creatures. While the franchise copyright is shared by all three companies, Nintendo is the sole owner of the trademark. The franchise was created by Satoshi Tajiri in 1995, and is centered on fictional creatures called \"Pokémon\", which humans, known as Pokémon Trainers, catch and train to battle each other for sport.\n",
    "\n",
    "The name Pokémon is the romanized contraction of the Japanese brand Pocket Monsters. The term Pokémon, in addition to referring to the Pokémon franchise itself, also collectively refers to the 721 known fictional species that have made appearances in Pokémon media as of the release of the sixth generation titles Pokémon X and Y. \"Pokémon\" is identical in both the singular and plural, as is each individual species name; it is grammatically correct to say \"one Pokémon\" and \"many Pokémon\", as well as \"one Pikachu\" and \"many Pikachu\". (source: wikipedia.com)"
   ]
  },
  {
   "cell_type": "markdown",
   "metadata": {},
   "source": [
    "### The Dataset\n",
    "You can find the data in three files in the 'data' directory. This are the raw attributes that are used for calculating how much damage an attack will do in the games. This dataset is about the Pokemon games (NOT Pokemon cards or Pokemon Go).\n",
    "\n",
    "1) 'pokemon_ids.npy' contains an int ndarray of the ID for each Pokemon\n",
    "\n",
    "2) 'pokemon_names.npy' contains a string ndarray of the name of each Pokemon (Hint: to `load` this file, you need to set the named parameter `allow_pickle` to `True`, as strings are objects)\n",
    "\n",
    "3) 'pokemon_stats.npy' contains a ndarray with 6 columns for each Pokemon\n",
    "\n",
    "- HP: hit points, or health, defines how much damage a Pokemon can withstand before fainting\n",
    "- Attack: the base modifier for normal attacks (eg. Scratch, Punch)\n",
    "- Defense: the base damage resistance against normal attacks\n",
    "- SP Atk: special attack, the base modifier for special attacks (e.g. fire blast, bubble beam)\n",
    "- SP Def: the base damage resistance against special attacks\n",
    "- Speed: determines which Pokemon attacks first each round\n"
   ]
  },
  {
   "cell_type": "markdown",
   "metadata": {},
   "source": [
    "### Exercises 1\n",
    "\n",
    "* 1a) load the dataset into three numpy arrays 'ids', 'names' and 'stats'. Verfiy the datatypes of each array.\n",
    "\n",
    "* 1b) how many rows do you expect the array to have? verify your assumption!\n",
    "\n",
    "* 1c) inspect the first 10 rows and the last 10 rows - do you notice anything important? Find an explanation for your observation!\n"
   ]
  },
  {
   "cell_type": "code",
   "execution_count": 2,
   "metadata": {},
   "outputs": [],
   "source": [
    "## ---------- SOLUTION 1a"
   ]
  },
  {
   "cell_type": "code",
   "execution_count": 3,
   "metadata": {},
   "outputs": [],
   "source": [
    "import numpy as np"
   ]
  },
  {
   "cell_type": "code",
   "execution_count": 4,
   "metadata": {},
   "outputs": [],
   "source": [
    "ids = np.load('data/pokemon_ids.npy')"
   ]
  },
  {
   "cell_type": "code",
   "execution_count": 5,
   "metadata": {},
   "outputs": [],
   "source": [
    "names = np.load('data/pokemon_names.npy', allow_pickle=True)"
   ]
  },
  {
   "cell_type": "code",
   "execution_count": 6,
   "metadata": {},
   "outputs": [],
   "source": [
    "stats = np.load('data/pokemon_stats.npy')"
   ]
  },
  {
   "cell_type": "code",
   "execution_count": 7,
   "metadata": {},
   "outputs": [
    {
     "name": "stdout",
     "output_type": "stream",
     "text": [
      "int64 object int64\n"
     ]
    }
   ],
   "source": [
    "print(ids.dtype, names.dtype, stats.dtype)"
   ]
  },
  {
   "cell_type": "code",
   "execution_count": 8,
   "metadata": {
    "tags": []
   },
   "outputs": [],
   "source": [
    "## ---------- SOLUTION 1b"
   ]
  },
  {
   "cell_type": "code",
   "execution_count": 9,
   "metadata": {},
   "outputs": [],
   "source": [
    "# we expect 721 rows"
   ]
  },
  {
   "cell_type": "code",
   "execution_count": 10,
   "metadata": {},
   "outputs": [
    {
     "name": "stdout",
     "output_type": "stream",
     "text": [
      "800 800 800\n"
     ]
    }
   ],
   "source": [
    "print(len(names), len(stats), len(ids))"
   ]
  },
  {
   "cell_type": "code",
   "execution_count": 11,
   "metadata": {},
   "outputs": [
    {
     "name": "stdout",
     "output_type": "stream",
     "text": [
      "(800,) (800, 6) (800,)\n"
     ]
    }
   ],
   "source": [
    "print(names.shape, stats.shape, ids.shape)"
   ]
  },
  {
   "cell_type": "code",
   "execution_count": 12,
   "metadata": {},
   "outputs": [],
   "source": [
    "# oops, we got 800 rows!!! this is strange!!!"
   ]
  },
  {
   "cell_type": "code",
   "execution_count": 13,
   "metadata": {},
   "outputs": [],
   "source": [
    "## ---------- SOLUTION 1c"
   ]
  },
  {
   "cell_type": "code",
   "execution_count": 14,
   "metadata": {},
   "outputs": [
    {
     "name": "stdout",
     "output_type": "stream",
     "text": [
      "['Bulbasaur' 'Ivysaur' 'Venusaur' 'VenusaurMega Venusaur' 'Charmander'\n",
      " 'Charmeleon' 'Charizard' 'CharizardMega Charizard X'\n",
      " 'CharizardMega Charizard Y' 'Squirtle']\n",
      "['Noibat' 'Noivern' 'Xerneas' 'Yveltal' 'Zygarde50% Forme' 'Diancie'\n",
      " 'DiancieMega Diancie' 'HoopaHoopa Confined' 'HoopaHoopa Unbound'\n",
      " 'Volcanion']\n"
     ]
    }
   ],
   "source": [
    "print(names[:10])\n",
    "print(names[-10:])"
   ]
  },
  {
   "cell_type": "code",
   "execution_count": 15,
   "metadata": {},
   "outputs": [
    {
     "name": "stdout",
     "output_type": "stream",
     "text": [
      "[1 2 3 3 4 5 6 6 6 7]\n",
      "[714 715 716 717 718 719 719 720 720 721]\n"
     ]
    }
   ],
   "source": [
    "print(ids[:10])\n",
    "print(ids[-10:])"
   ]
  },
  {
   "cell_type": "code",
   "execution_count": 16,
   "metadata": {},
   "outputs": [
    {
     "name": "stdout",
     "output_type": "stream",
     "text": [
      "[[ 45  49  49  65  65  45]\n",
      " [ 60  62  63  80  80  60]\n",
      " [ 80  82  83 100 100  80]\n",
      " [ 80 100 123 122 120  80]\n",
      " [ 39  52  43  60  50  65]\n",
      " [ 58  64  58  80  65  80]\n",
      " [ 78  84  78 109  85 100]\n",
      " [ 78 130 111 130  85 100]\n",
      " [ 78 104  78 159 115 100]\n",
      " [ 44  48  65  50  64  43]]\n",
      "[[ 40  30  35  45  40  55]\n",
      " [ 85  70  80  97  80 123]\n",
      " [126 131  95 131  98  99]\n",
      " [126 131  95 131  98  99]\n",
      " [108 100 121  81  95  95]\n",
      " [ 50 100 150 100 150  50]\n",
      " [ 50 160 110 160 110 110]\n",
      " [ 80 110  60 150 130  70]\n",
      " [ 80 160  60 170 130  80]\n",
      " [ 80 110 120 130  90  70]]\n"
     ]
    }
   ],
   "source": [
    "print(stats[:10])\n",
    "print(stats[-10:])"
   ]
  },
  {
   "cell_type": "code",
   "execution_count": 17,
   "metadata": {},
   "outputs": [],
   "source": [
    "# to notice: the ID is not unique, there seem to be \"similar\" pokemon with the same ID \n",
    "# (\"mega evolutions\"). \n",
    "# We do have 721 IDs as expected, but 800 rows\n",
    "# Doing some research, we find out, that some Pokemon can be temporarily changed to a different form \n",
    "# (for one fight) with a \"mega stone\" - after the fight, they revert to the original form. These temporary\n",
    "# forms have the same ID."
   ]
  },
  {
   "cell_type": "markdown",
   "metadata": {},
   "source": [
    "### Exercises 2\n",
    "\n",
    "* 2a) find the ids and names of all Pokemon with hitpoints above 150\n",
    "* 2b) find the names of all Pokemon that have a higher Attack than Defense (the \"attackers\")"
   ]
  },
  {
   "cell_type": "code",
   "execution_count": 18,
   "metadata": {},
   "outputs": [],
   "source": [
    "## ---------- SOLUTION 2a"
   ]
  },
  {
   "cell_type": "code",
   "execution_count": 19,
   "metadata": {},
   "outputs": [],
   "source": [
    "hp = stats[:, 0] # create a 1-dim array of the hp values"
   ]
  },
  {
   "cell_type": "code",
   "execution_count": 20,
   "metadata": {},
   "outputs": [],
   "source": [
    "large_hp_idx = (hp>150) # create a boolean 1-dim array of the hps above 150 for indexing"
   ]
  },
  {
   "cell_type": "code",
   "execution_count": 21,
   "metadata": {},
   "outputs": [
    {
     "name": "stdout",
     "output_type": "stream",
     "text": [
      "[113 143 202 242 321 594]\n",
      "['Chansey' 'Snorlax' 'Wobbuffet' 'Blissey' 'Wailord' 'Alomomola']\n"
     ]
    }
   ],
   "source": [
    "print(ids[large_hp_idx])\n",
    "print(names[large_hp_idx])"
   ]
  },
  {
   "cell_type": "code",
   "execution_count": 22,
   "metadata": {},
   "outputs": [],
   "source": [
    "## ---------- SOLUTION 2b"
   ]
  },
  {
   "cell_type": "code",
   "execution_count": 23,
   "metadata": {},
   "outputs": [],
   "source": [
    "# concise solution\n",
    "attacker_idx = stats[:, 1] > stats[:, 2]"
   ]
  },
  {
   "cell_type": "code",
   "execution_count": 24,
   "metadata": {},
   "outputs": [],
   "source": [
    "# easier to understand solution\n",
    "attack = stats[:, 1]\n",
    "defense = stats[:, 2]\n",
    "attacker_idx = attack > defense"
   ]
  },
  {
   "cell_type": "code",
   "execution_count": 25,
   "metadata": {},
   "outputs": [
    {
     "name": "stdout",
     "output_type": "stream",
     "text": [
      "We have 433 attackers, the first 20 are: ['Charmander' 'Charmeleon' 'Charizard' 'CharizardMega Charizard X'\n",
      " 'CharizardMega Charizard Y' 'Weedle' 'Beedrill' 'BeedrillMega Beedrill'\n",
      " 'Pidgey' 'Pidgeotto' 'Pidgeot' 'Rattata' 'Raticate' 'Spearow' 'Fearow'\n",
      " 'Ekans' 'Arbok' 'Pikachu' 'Raichu' 'Nidoqueen']\n"
     ]
    }
   ],
   "source": [
    "print(f'We have {attacker_idx.sum()} attackers, the first 20 are: {names[attacker_idx][:20]}')"
   ]
  },
  {
   "cell_type": "markdown",
   "metadata": {},
   "source": [
    "---"
   ]
  }
 ],
 "metadata": {
  "kernelspec": {
   "display_name": "Python 3 (ipykernel)",
   "language": "python",
   "name": "python3"
  },
  "language_info": {
   "codemirror_mode": {
    "name": "ipython",
    "version": 3
   },
   "file_extension": ".py",
   "mimetype": "text/x-python",
   "name": "python",
   "nbconvert_exporter": "python",
   "pygments_lexer": "ipython3",
   "version": "3.10.8"
  }
 },
 "nbformat": 4,
 "nbformat_minor": 4
}

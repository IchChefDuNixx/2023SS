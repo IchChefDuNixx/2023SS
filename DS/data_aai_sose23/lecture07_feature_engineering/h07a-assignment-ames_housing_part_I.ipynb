{
 "cells": [
  {
   "cell_type": "code",
   "execution_count": null,
   "metadata": {
    "tags": []
   },
   "outputs": [],
   "source": [
    "# This is Homework 07a (Ames Housing Part I - EDA and Cleaning) \n",
    "# of the \"Data Science\" class at Technische Hochschule Rosenheim"
   ]
  },
  {
   "cell_type": "code",
   "execution_count": null,
   "metadata": {
    "tags": []
   },
   "outputs": [],
   "source": [
    "# imports\n",
    "import numpy as np\n",
    "import pandas as pd\n",
    "import matplotlib.pyplot as plt\n",
    "import seaborn as sns\n",
    "%matplotlib inline"
   ]
  },
  {
   "cell_type": "code",
   "execution_count": null,
   "metadata": {},
   "outputs": [],
   "source": [
    "# make the plots look nice\n",
    "sns.set(style=\"darkgrid\")\n",
    "snscolor='mediumseagreen'\n",
    "sns.set(font_scale=0.7) "
   ]
  },
  {
   "cell_type": "markdown",
   "metadata": {},
   "source": [
    "# The Ames Housing Dataset - Part I\n",
    "\n",
    "The data set contains information from the Ames Assessor’s Office used in computing assessed values for individual residential properties sold in Ames, IA from 2006 to 2010. The data has 82 columns which include 23 nominal, 23 ordinal, 14 discrete, and 20 continuous variables (and 2 additional observation identifiers). Quality of the data is overall good, but there may be some outliers. \n",
    "\n",
    "You can find a detailed description of all attributes in `'data/DataDocBrief.txt'`. \n",
    "\n",
    "**Start by studying the attributes!**\n",
    "\n",
    "We intend to use this data to predict the value (`SalePrice`) of a property given its attributes. Clearly, the above ground living area (`GrLivArea`, in German: Wohnfläche) will be the most important indicator, but many others will influence the price as well. "
   ]
  },
  {
   "cell_type": "markdown",
   "metadata": {},
   "source": [
    "## Load and explore the data"
   ]
  },
  {
   "cell_type": "code",
   "execution_count": null,
   "metadata": {},
   "outputs": [],
   "source": [
    "# The first column (Order) is the index key, all others columns are data columns\n",
    "columns = ['Order','PID', 'MSSubClass', 'MSZoning', 'LotFrontage', 'LotArea', 'Street',\n",
    "       'Alley', 'LotShape', 'LandContour', 'Utilities', 'LotConfig',\n",
    "       'LandSlope', 'Neighborhood', 'Condition1', 'Condition2', 'BldgType',\n",
    "       'HouseStyle', 'OverallQual', 'OverallCond', 'YearBuilt',\n",
    "       'YearRemodAdd', 'RoofStyle', 'RoofMatl', 'Exterior1st',\n",
    "       'Exterior2nd', 'MasVnrType', 'MasVnrArea', 'ExterQual',\n",
    "       'ExterCond', 'Foundation', 'BsmtQual', 'BsmtCond', 'BsmtExposure',\n",
    "       'BsmtFinType1', 'BsmtFinSF1', 'BsmtFinType2', 'BsmtFinSF2',\n",
    "       'BsmtUnfSF', 'TotalBsmtSF', 'Heating', 'HeatingQC', 'CentralAir',\n",
    "       'Electrical', '1stFlrSF', '2ndFlrSF', 'LowQualFinSF',\n",
    "       'GrLivArea', 'BsmtFullBath', 'BsmtHalfBath', 'FullBath',\n",
    "       'HalfBath', 'BedroomAbvGr', 'KitchenAbvGr', 'KitchenQual',\n",
    "       'TotRmsAbvGrd', 'Functional', 'Fireplaces', 'FireplaceQu',\n",
    "       'GarageType', 'GarageYrBlt', 'GarageFinish', 'GarageCars',\n",
    "       'GarageArea', 'GarageQual', 'GarageCond', 'PavedDrive',\n",
    "       'WoodDeckSF', 'OpenPorchSF', 'EnclosedPorch', '3SsnPorch',\n",
    "       'ScreenPorch', 'PoolArea', 'PoolQC', 'Fence', 'MiscFeature',\n",
    "       'MiscVal', 'MoSold', 'YrSold', 'SaleType', 'SaleCondition',\n",
    "       'SalePrice']\n",
    "columns_discrete = ['YearBuilt', 'YearRemodAdd', 'BsmtFullBath', 'BsmtHalfBath',\n",
    "                    'FullBath', 'HalfBath', 'BedroomAbvGr', 'KitchenAbvGr', \n",
    "                    'TotRmsAbvGrd', 'Fireplaces', 'GarageYrBlt', 'GarageCars', \n",
    "                    'MoSold', 'YrSold']\n",
    "columns_continuous = ['LotFrontage', 'LotArea', 'MasVnrArea', 'BsmtFinSF1', \n",
    "                      'BsmtFinSF2', 'BsmtUnfSF', 'TotalBsmtSF', '1stFlrSF', \n",
    "                      '2ndFlrSF', 'LowQualFinSF', 'GrLivArea', 'GarageArea',\n",
    "                      'WoodDeckSF', 'OpenPorchSF', 'EnclosedPorch', '3SsnPorch',\n",
    "                      'ScreenPorch', 'PoolArea', 'MiscVal', 'SalePrice']\n",
    "\n",
    "columns_numeric = columns_discrete + columns_continuous\n",
    "columns_categorical = [c for c in columns if not (c in columns_numeric or c=='Order')]"
   ]
  },
  {
   "cell_type": "code",
   "execution_count": null,
   "metadata": {},
   "outputs": [],
   "source": [
    "# construct the column types\n",
    "# set all columns to str by default and change the numeric ones to float\n",
    "col_types = {c : str for c in columns} \n",
    "col_types = {**col_types, **{c : float for c in columns_numeric}}"
   ]
  },
  {
   "cell_type": "code",
   "execution_count": null,
   "metadata": {},
   "outputs": [],
   "source": [
    "ames = pd.read_excel('data/AmesHousing.xls', index_col='Order', names=columns, dtype = col_types)"
   ]
  },
  {
   "cell_type": "markdown",
   "metadata": {},
   "source": [
    "### Exercise I.1\n",
    "\n",
    "The dataframe we just read does contain NaN values (missing values), however, in reality, the data does not contain missing values. Replace all NaN values by `0` for numeric columns and by `'NA'` for nominal columns."
   ]
  },
  {
   "cell_type": "code",
   "execution_count": null,
   "metadata": {},
   "outputs": [],
   "source": [
    "#---------- SOLUTIONS ----------"
   ]
  },
  {
   "cell_type": "markdown",
   "metadata": {},
   "source": [
    "## EDA"
   ]
  },
  {
   "cell_type": "markdown",
   "metadata": {},
   "source": [
    "### Exercise I.2\n",
    "\n",
    "Explore the results of the following `describe` function carefully. You will note one very obvious error in the data. Explore the affected feature visually, decide how to handle this mistake and implement your solution."
   ]
  },
  {
   "cell_type": "code",
   "execution_count": null,
   "metadata": {},
   "outputs": [],
   "source": [
    "ames.describe().T"
   ]
  },
  {
   "cell_type": "code",
   "execution_count": null,
   "metadata": {},
   "outputs": [],
   "source": [
    "#---------- SOLUTION ----------"
   ]
  },
  {
   "cell_type": "markdown",
   "metadata": {},
   "source": [
    "### Univariate EDA"
   ]
  },
  {
   "cell_type": "markdown",
   "metadata": {},
   "source": [
    "Let's explore the univariate distributions of each feature."
   ]
  },
  {
   "cell_type": "markdown",
   "metadata": {},
   "source": [
    "### Exercise I.3\n",
    "\n",
    "* visualize the target with an appropriate visualization and interpret the result\n",
    "* visualize the continuous features with an appropriate visualization and interpret the result\n",
    "* visualize the discrete features with an appropriate visualization and interpret the result\n",
    "* visualize the categorical features with an appropriate visualization and interpret the result"
   ]
  },
  {
   "cell_type": "code",
   "execution_count": null,
   "metadata": {},
   "outputs": [],
   "source": [
    "#---------- SOLUTION ----------"
   ]
  },
  {
   "cell_type": "markdown",
   "metadata": {},
   "source": [
    "### Bivariate EDA and Outlier removal"
   ]
  },
  {
   "cell_type": "markdown",
   "metadata": {},
   "source": [
    "A reasonable next step is look at the relationship between the target and some of the features we know from our domain knowledge to be important. To keep the number of graphs (and runtime) reasonable, we selected the four features `GrLivArea`, `YearBuilt`, `LotArea`, `TotRmsAbvGrd` plus the target `SalePrice`."
   ]
  },
  {
   "cell_type": "markdown",
   "metadata": {},
   "source": [
    "### Exercise I.4\n",
    "\n",
    "* Visualize these feature with a pair plot. \n",
    "* Interpret the visualizations, in particular, look for Outliers. "
   ]
  },
  {
   "cell_type": "code",
   "execution_count": null,
   "metadata": {},
   "outputs": [],
   "source": [
    "#---------- SOLUTION ----------"
   ]
  },
  {
   "cell_type": "markdown",
   "metadata": {},
   "source": [
    "### Exercise I.5\n",
    "\n",
    "You should have found 5 very obvious Outliers (plus a few more that are not that clearly anomalous). \n",
    "\n",
    "* Decide what to do with the Outliers\n",
    "* Implement your solution"
   ]
  },
  {
   "cell_type": "code",
   "execution_count": null,
   "metadata": {},
   "outputs": [],
   "source": [
    "#---------- SOLUTION ----------"
   ]
  },
  {
   "cell_type": "markdown",
   "metadata": {},
   "source": [
    "### Save the cleaned dataframe for later"
   ]
  },
  {
   "cell_type": "markdown",
   "metadata": {},
   "source": [
    "### Exercise I.6\n",
    "\n",
    "* Save ('pickle') the cleaned dataframe to `\"data/AmesHousingHomeworkSolution.pkl\"`"
   ]
  },
  {
   "cell_type": "code",
   "execution_count": null,
   "metadata": {},
   "outputs": [],
   "source": [
    "#---------- SOLUTION ----------"
   ]
  },
  {
   "cell_type": "markdown",
   "metadata": {},
   "source": [
    "------"
   ]
  }
 ],
 "metadata": {
  "kernelspec": {
   "display_name": "Python 3 (ipykernel)",
   "language": "python",
   "name": "python3"
  },
  "language_info": {
   "codemirror_mode": {
    "name": "ipython",
    "version": 3
   },
   "file_extension": ".py",
   "mimetype": "text/x-python",
   "name": "python",
   "nbconvert_exporter": "python",
   "pygments_lexer": "ipython3",
   "version": "3.10.8"
  }
 },
 "nbformat": 4,
 "nbformat_minor": 4
}

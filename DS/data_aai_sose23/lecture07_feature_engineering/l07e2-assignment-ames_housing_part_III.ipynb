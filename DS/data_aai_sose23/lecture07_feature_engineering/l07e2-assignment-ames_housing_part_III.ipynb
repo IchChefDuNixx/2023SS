{
 "cells": [
  {
   "cell_type": "code",
   "execution_count": 73,
   "metadata": {
    "tags": []
   },
   "outputs": [],
   "source": [
    "# This is Exercise 02 for Lecture 07 (Ames Housing Part III - Creating Features) \n",
    "# of the \"Data Science\" class at Technische Hochschule Rosenheim\n",
    "# it is based on https://www.kaggle.com/code/ryanholbrook/creating-features"
   ]
  },
  {
   "cell_type": "code",
   "execution_count": 74,
   "metadata": {},
   "outputs": [],
   "source": [
    "# imports\n",
    "import numpy as np\n",
    "import pandas as pd\n",
    "import matplotlib.pyplot as plt\n",
    "import seaborn as sns\n",
    "from sklearn.linear_model import LinearRegression, Ridge, Lasso, ElasticNet\n",
    "from sklearn.model_selection import cross_val_score\n",
    "from sklearn.preprocessing import StandardScaler\n",
    "from sklearn.preprocessing import OneHotEncoder\n",
    "from xgboost import XGBRegressor\n",
    "from category_encoders import MEstimateEncoder\n",
    "%matplotlib inline"
   ]
  },
  {
   "cell_type": "code",
   "execution_count": 75,
   "metadata": {},
   "outputs": [],
   "source": [
    "# make the plots look nice\n",
    "sns.set(style=\"darkgrid\")\n",
    "snscolor='mediumseagreen'\n",
    "sns.set(font_scale=0.7) "
   ]
  },
  {
   "attachments": {},
   "cell_type": "markdown",
   "metadata": {},
   "source": [
    "# The Ames Housing Dataset - Part III"
   ]
  },
  {
   "attachments": {},
   "cell_type": "markdown",
   "metadata": {},
   "source": [
    "## Load the cleaned data"
   ]
  },
  {
   "cell_type": "code",
   "execution_count": 76,
   "metadata": {},
   "outputs": [],
   "source": [
    "columns_categorical = ['PID', 'MSSubClass', 'MSZoning', 'LotFrontage', 'LotArea', 'Street',\n",
    "       'Alley', 'LotShape', 'LandContour', 'Utilities', 'LotConfig',\n",
    "       'LandSlope', 'Neighborhood', 'Condition1', 'Condition2', 'BldgType',\n",
    "       'HouseStyle', 'OverallQual', 'OverallCond', 'YearBuilt',\n",
    "       'YearRemodAdd', 'RoofStyle', 'RoofMatl', 'Exterior1st',\n",
    "       'Exterior2nd', 'MasVnrType', 'MasVnrArea', 'ExterQual',\n",
    "       'ExterCond', 'Foundation', 'BsmtQual', 'BsmtCond', 'BsmtExposure',\n",
    "       'BsmtFinType1', 'BsmtFinSF1', 'BsmtFinType2', 'BsmtFinSF2',\n",
    "       'BsmtUnfSF', 'TotalBsmtSF', 'Heating', 'HeatingQC', 'CentralAir',\n",
    "       'Electrical', '1stFlrSF', '2ndFlrSF', 'LowQualFinSF',\n",
    "       'GrLivArea', 'BsmtFullBath', 'BsmtHalfBath', 'FullBath',\n",
    "       'HalfBath', 'BedroomAbvGr', 'KitchenAbvGr', 'KitchenQual',\n",
    "       'TotRmsAbvGrd', 'Functional', 'Fireplaces', 'FireplaceQu',\n",
    "       'GarageType', 'GarageYrBlt', 'GarageFinish', 'GarageCars',\n",
    "       'GarageArea', 'GarageQual', 'GarageCond', 'PavedDrive',\n",
    "       'WoodDeckSF', 'OpenPorchSF', 'EnclosedPorch', '3SsnPorch',\n",
    "       'ScreenPorch', 'PoolArea', 'PoolQC', 'Fence', 'MiscFeature',\n",
    "       'MiscVal', 'MoSold', 'YrSold', 'SaleType', 'SaleCondition',\n",
    "       'SalePrice']\n",
    "columns_discrete = ['YearBuilt', 'YearRemodAdd', 'BsmtFullBath', 'BsmtHalfBath',\n",
    "                    'FullBath', 'HalfBath', 'BedroomAbvGr', 'KitchenAbvGr', \n",
    "                    'TotRmsAbvGrd', 'Fireplaces', 'GarageYrBlt', 'GarageCars', \n",
    "                    'MoSold', 'YrSold']\n",
    "columns_continuous = ['LotFrontage', 'LotArea', 'MasVnrArea', 'BsmtFinSF1', \n",
    "                      'BsmtFinSF2', 'BsmtUnfSF', 'TotalBsmtSF', '1stFlrSF', \n",
    "                      '2ndFlrSF', 'LowQualFinSF', 'GrLivArea', 'GarageArea',\n",
    "                      'WoodDeckSF', 'OpenPorchSF', 'EnclosedPorch', '3SsnPorch',\n",
    "                      'ScreenPorch', 'PoolArea', 'MiscVal', 'SalePrice']\n",
    "\n",
    "columns_numeric =  columns_discrete + columns_continuous"
   ]
  },
  {
   "cell_type": "code",
   "execution_count": 77,
   "metadata": {},
   "outputs": [],
   "source": [
    "# make lists of features\n",
    "features_numeric = columns_numeric.copy()\n",
    "features_numeric.remove('SalePrice') # remove target\n",
    "\n",
    "features_categorical = columns_categorical.copy()"
   ]
  },
  {
   "cell_type": "code",
   "execution_count": 78,
   "metadata": {},
   "outputs": [],
   "source": [
    "ames = pd.read_pickle(\"data/AmesHousingClean.pkl\")\n",
    "X = ames.copy()\n",
    "y = X.pop(\"SalePrice\")"
   ]
  },
  {
   "attachments": {},
   "cell_type": "markdown",
   "metadata": {},
   "source": [
    "#### Pre-defined Scoring Function\n",
    "\n",
    "The following function can be used to evaluate the effects of your feature engineering efforts."
   ]
  },
  {
   "cell_type": "code",
   "execution_count": 79,
   "metadata": {},
   "outputs": [],
   "source": [
    "# use root mean squared error as scoring method.\n",
    "# we will score our effort on both XGBoost Regression and Lasso Regression\n",
    "def compute_score(X, y, text='Baseline'):\n",
    "    score_xgb = -1 * cross_val_score(XGBRegressor(), X, y, cv=5, scoring=\"neg_root_mean_squared_error\").mean()\n",
    "    score_lr = -1 * cross_val_score(Lasso(tol=0.1, alpha=5), X, y, cv=5, scoring=\"neg_root_mean_squared_error\").mean()\n",
    "    print(f'{text:25}: xgb regression={score_xgb:,.0f} and lasso regression={score_lr:,.0f}')"
   ]
  },
  {
   "attachments": {},
   "cell_type": "markdown",
   "metadata": {},
   "source": [
    "In order to keep our models relatively simple, we will start with 5 features as a baseline and keep adding constructed features to these."
   ]
  },
  {
   "cell_type": "code",
   "execution_count": 80,
   "metadata": {},
   "outputs": [],
   "source": [
    "feature_baseline = ['GrLivArea', 'TotalBsmtSF', 'GarageCars', 'YearBuilt', 'FullBath']"
   ]
  },
  {
   "cell_type": "code",
   "execution_count": 81,
   "metadata": {},
   "outputs": [
    {
     "name": "stdout",
     "output_type": "stream",
     "text": [
      "Baseline                 : xgb regression=33,380 and lasso regression=37,513\n"
     ]
    }
   ],
   "source": [
    "# base line score - no hyperparameter tuning, using our baseline features only\n",
    "compute_score(X[feature_baseline], y)"
   ]
  },
  {
   "attachments": {},
   "cell_type": "markdown",
   "metadata": {},
   "source": [
    "## Mathematical Interactions"
   ]
  },
  {
   "attachments": {},
   "cell_type": "markdown",
   "metadata": {},
   "source": [
    "### Demo\n",
    "\n",
    "In this exercise, we want to add three new features to our dataframe `X`, which make sense from a domain perspective. In addition, we focus on ratios and sums, as these are particularly hard to XGBoost-based regression models.\n",
    "\n",
    "Let us create the following features:\n",
    "* `LivLotRatio`: the ratio of `GrLivArea` to `LotArea`\n",
    "* `Spaciousness`: the sum of `1stFlrSF` and `2ndFlrSF` divided by `TotRmsAbvGrd`\n",
    "* `TotalOutsideSF`: the sum of `WoodDeckSF`, `OpenPorchSF`, `EnclosedPorch`, `3SsnPorch`, and `ScreenPorch`\n",
    "\n",
    "Finally, we evaluate the score on all numeric features plus these three new features and compare it with the base line score."
   ]
  },
  {
   "cell_type": "code",
   "execution_count": 82,
   "metadata": {},
   "outputs": [],
   "source": [
    "X['LivLotRatio'] = X.GrLivArea / X.LotArea\n",
    "X['Spaciousness'] = (X['1stFlrSF'] + X['2ndFlrSF']) / X.TotRmsAbvGrd\n",
    "X['TotalOutsideSF'] = X.WoodDeckSF + X.OpenPorchSF + X.EnclosedPorch + X['3SsnPorch'] + X.ScreenPorch"
   ]
  },
  {
   "cell_type": "code",
   "execution_count": 83,
   "metadata": {},
   "outputs": [
    {
     "name": "stdout",
     "output_type": "stream",
     "text": [
      "Baseline                 : xgb regression=33,380 and lasso regression=37,513\n",
      "3 new features           : xgb regression=31,444 and lasso regression=36,596\n"
     ]
    }
   ],
   "source": [
    "features_III1 = feature_baseline + ['LivLotRatio', 'Spaciousness', 'TotalOutsideSF']\n",
    "compute_score(X[feature_baseline], y)\n",
    "compute_score(X[features_III1], y, '3 new features')"
   ]
  },
  {
   "attachments": {},
   "cell_type": "markdown",
   "metadata": {},
   "source": [
    "Interpretation: as expected, the score for xgb regression improved, and the score for lasso regression as well."
   ]
  },
  {
   "attachments": {},
   "cell_type": "markdown",
   "metadata": {},
   "source": [
    "## Creating a Count Feature"
   ]
  },
  {
   "attachments": {},
   "cell_type": "markdown",
   "metadata": {},
   "source": [
    "We already added a feature `TotalOutsideSF` for the total size of the outdoor areas. Another useful information (based on our domain knowledge) might be, how many different outdoor areas a property has."
   ]
  },
  {
   "attachments": {},
   "cell_type": "markdown",
   "metadata": {},
   "source": [
    "### Exercise III.1\n",
    "\n",
    "* Create a new feature `CountPorches`. A porch does exist, if it's area is larger than 0. Thus, our feature will have values between 0 and 5.\n",
    "* Again, add it to our feature list and compare with the previous model and the base line model."
   ]
  },
  {
   "cell_type": "code",
   "execution_count": 84,
   "metadata": {},
   "outputs": [
    {
     "name": "stdout",
     "output_type": "stream",
     "text": [
      "Baseline                 : xgb regression=33,380 and lasso regression=37,513\n",
      "porchCount               : xgb regression=32,750 and lasso regression=36,980\n"
     ]
    }
   ],
   "source": [
    "#---------- SOLUTION --------\n",
    "porches = [\"WoodDeckSF\",\"OpenPorchSF\",\"EnclosedPorch\",\"3SsnPorch\",\"ScreenPorch\"]\n",
    "X[\"CountPorches\"] = (X[porches]>0).sum(axis=1)\n",
    "X[\"CountPorches\"] = X[porches].gt(0).sum(axis=1) # same\n",
    "\n",
    "compute_score(X[feature_baseline], y)\n",
    "compute_score(X[feature_baseline + [\"CountPorches\"]], y, \"porchCount\")"
   ]
  },
  {
   "attachments": {},
   "cell_type": "markdown",
   "metadata": {},
   "source": [
    "## Splitting a categorical feature"
   ]
  },
  {
   "attachments": {},
   "cell_type": "markdown",
   "metadata": {},
   "source": [
    "`MSSubClass` describes the type of the property:\n",
    "\n",
    "       020: 1-STORY 1946 & NEWER ALL STYLES\n",
    "       030: 1-STORY 1945 & OLDER\n",
    "       040: 1-STORY W/FINISHED ATTIC ALL AGES\n",
    "       045: 1-1/2 STORY - UNFINISHED ALL AGES\n",
    "       050: 1-1/2 STORY FINISHED ALL AGES\n",
    "       060: 2-STORY 1946 & NEWER\n",
    "       070: 2-STORY 1945 & OLDER\n",
    "       075: 2-1/2 STORY ALL AGES\n",
    "       080: SPLIT OR MULTI-LEVEL\n",
    "       085: SPLIT FOYER\n",
    "       090: DUPLEX - ALL STYLES AND AGES\n",
    "       120: 1-STORY PUD (Planned Unit Development) - 1946 & NEWER\n",
    "       150: 1-1/2 STORY PUD - ALL AGES\n",
    "       160: 2-STORY PUD - 1946 & NEWER\n",
    "       180: PUD - MULTILEVEL - INCL SPLIT LEV/FOYER\n",
    "       190: 2 FAMILY CONVERSION - ALL STYLES AND AGES\n",
    "       \n",
    "Let's break this down into meaningfull groups: 020, 030, 040, 045, 050, 120, 150 describe `one_story` buildings; 060, 070, 075, 160 are `two_story` building; 080, 085, 180 are `split_level` building; and 090, 190 are `duplex` buildings. "
   ]
  },
  {
   "attachments": {},
   "cell_type": "markdown",
   "metadata": {},
   "source": [
    "### Exercise III.2\n",
    "\n",
    "* Break down `MSSubClass` into the four types give, und one-hot encode the result.\n",
    "* Again, add it to our feature list and compare with the previous models (incl. the base-line model)"
   ]
  },
  {
   "cell_type": "code",
   "execution_count": 85,
   "metadata": {},
   "outputs": [
    {
     "name": "stdout",
     "output_type": "stream",
     "text": [
      "Index(['PID', 'MSZoning', 'LotFrontage', 'LotArea', 'Street', 'Alley',\n",
      "       'LotShape', 'LandContour', 'Utilities', 'LotConfig', 'LandSlope',\n",
      "       'Neighborhood', 'Condition1', 'Condition2', 'BldgType', 'HouseStyle',\n",
      "       'OverallQual', 'OverallCond', 'YearBuilt', 'YearRemodAdd', 'RoofStyle',\n",
      "       'RoofMatl', 'Exterior1st', 'Exterior2nd', 'MasVnrType', 'MasVnrArea',\n",
      "       'ExterQual', 'ExterCond', 'Foundation', 'BsmtQual', 'BsmtCond',\n",
      "       'BsmtExposure', 'BsmtFinType1', 'BsmtFinSF1', 'BsmtFinType2',\n",
      "       'BsmtFinSF2', 'BsmtUnfSF', 'TotalBsmtSF', 'Heating', 'HeatingQC',\n",
      "       'CentralAir', 'Electrical', '1stFlrSF', '2ndFlrSF', 'LowQualFinSF',\n",
      "       'GrLivArea', 'BsmtFullBath', 'BsmtHalfBath', 'FullBath', 'HalfBath',\n",
      "       'BedroomAbvGr', 'KitchenAbvGr', 'KitchenQual', 'TotRmsAbvGrd',\n",
      "       'Functional', 'Fireplaces', 'FireplaceQu', 'GarageType', 'GarageYrBlt',\n",
      "       'GarageFinish', 'GarageCars', 'GarageArea', 'GarageQual', 'GarageCond',\n",
      "       'PavedDrive', 'WoodDeckSF', 'OpenPorchSF', 'EnclosedPorch', '3SsnPorch',\n",
      "       'ScreenPorch', 'PoolArea', 'PoolQC', 'Fence', 'MiscFeature', 'MiscVal',\n",
      "       'MoSold', 'YrSold', 'SaleType', 'SaleCondition', 'LivLotRatio',\n",
      "       'Spaciousness', 'TotalOutsideSF', 'CountPorches',\n",
      "       'MSSubClass_one_story', 'MSSubClass_split_level',\n",
      "       'MSSubClass_two_story'],\n",
      "      dtype='object')\n",
      "Baseline                 : xgb regression=33,380 and lasso regression=37,513\n",
      "porchCount               : xgb regression=32,750 and lasso regression=36,980\n",
      "Our Selection:           : xgb regression=32,661 and lasso regression=36,547\n"
     ]
    }
   ],
   "source": [
    "#---------- SOLUTION ----------\n",
    "def break_down(type:str) -> str:\n",
    "    if type in [\"020\", \"030\", \"040\", \"045\", \"050\", \"120\", \"150\"]:\n",
    "        return \"one_story\"\n",
    "    elif type in [\"060\", \"070\", \"075\", \"160\"]:\n",
    "        return \"two_story\"\n",
    "    elif type in [\"080\", \"085\", \"180\"]:\n",
    "        return \"split_level\"\n",
    "    elif type in [\"090\", \"190\"]:\n",
    "        return \"duplex\"\n",
    "    else:\n",
    "        return \"\"\n",
    "\n",
    "X[\"MSSubClass\"] = X[\"MSSubClass\"].apply(lambda x: break_down(x))\n",
    "X = pd.get_dummies(X, columns=[\"MSSubClass\"], drop_first=True)\n",
    "print(X.columns)\n",
    "compute_score(X[feature_baseline], y)\n",
    "compute_score(X[feature_baseline + [\"CountPorches\"]], y, \"porchCount\")\n",
    "compute_score(pd.concat([X[feature_baseline], X.filter(like=\"MSSubClass\")], axis=1), y, 'Our Selection:')\n"
   ]
  },
  {
   "attachments": {},
   "cell_type": "markdown",
   "metadata": {},
   "source": [
    "## Group-by/Aggregation Transformation"
   ]
  },
  {
   "attachments": {},
   "cell_type": "markdown",
   "metadata": {},
   "source": [
    "The value of a home often depends on how it compares to typical homes in its neighborhood. "
   ]
  },
  {
   "attachments": {},
   "cell_type": "markdown",
   "metadata": {},
   "source": [
    "### Exercise III.3\n",
    "\n",
    "* Create a feature `MedNHArea` that describes the median of `GrLivArea` grouped on `Neighborhood`.\n",
    "* Again, add it to our feature list and compare with the previous models (incl. the base-line model)"
   ]
  },
  {
   "cell_type": "code",
   "execution_count": 96,
   "metadata": {},
   "outputs": [
    {
     "data": {
      "text/html": [
       "<div>\n",
       "<style scoped>\n",
       "    .dataframe tbody tr th:only-of-type {\n",
       "        vertical-align: middle;\n",
       "    }\n",
       "\n",
       "    .dataframe tbody tr th {\n",
       "        vertical-align: top;\n",
       "    }\n",
       "\n",
       "    .dataframe thead th {\n",
       "        text-align: right;\n",
       "    }\n",
       "</style>\n",
       "<table border=\"1\" class=\"dataframe\">\n",
       "  <thead>\n",
       "    <tr style=\"text-align: right;\">\n",
       "      <th></th>\n",
       "      <th>GrLivArea</th>\n",
       "    </tr>\n",
       "    <tr>\n",
       "      <th>Neighborhood</th>\n",
       "      <th></th>\n",
       "    </tr>\n",
       "  </thead>\n",
       "  <tbody>\n",
       "    <tr>\n",
       "      <th>Blmngtn</th>\n",
       "      <td>1455.5</td>\n",
       "    </tr>\n",
       "    <tr>\n",
       "      <th>Blueste</th>\n",
       "      <td>1118.0</td>\n",
       "    </tr>\n",
       "    <tr>\n",
       "      <th>BrDale</th>\n",
       "      <td>1092.0</td>\n",
       "    </tr>\n",
       "    <tr>\n",
       "      <th>BrkSide</th>\n",
       "      <td>1231.0</td>\n",
       "    </tr>\n",
       "    <tr>\n",
       "      <th>ClearCr</th>\n",
       "      <td>1694.0</td>\n",
       "    </tr>\n",
       "    <tr>\n",
       "      <th>CollgCr</th>\n",
       "      <td>1504.0</td>\n",
       "    </tr>\n",
       "    <tr>\n",
       "      <th>Crawfor</th>\n",
       "      <td>1648.0</td>\n",
       "    </tr>\n",
       "    <tr>\n",
       "      <th>Edwards</th>\n",
       "      <td>1184.0</td>\n",
       "    </tr>\n",
       "    <tr>\n",
       "      <th>Gilbert</th>\n",
       "      <td>1560.0</td>\n",
       "    </tr>\n",
       "    <tr>\n",
       "      <th>Greens</th>\n",
       "      <td>1226.0</td>\n",
       "    </tr>\n",
       "    <tr>\n",
       "      <th>GrnHill</th>\n",
       "      <td>1398.5</td>\n",
       "    </tr>\n",
       "    <tr>\n",
       "      <th>IDOTRR</th>\n",
       "      <td>1128.0</td>\n",
       "    </tr>\n",
       "    <tr>\n",
       "      <th>Landmrk</th>\n",
       "      <td>1320.0</td>\n",
       "    </tr>\n",
       "    <tr>\n",
       "      <th>MeadowV</th>\n",
       "      <td>1092.0</td>\n",
       "    </tr>\n",
       "    <tr>\n",
       "      <th>Mitchel</th>\n",
       "      <td>1282.0</td>\n",
       "    </tr>\n",
       "    <tr>\n",
       "      <th>NAmes</th>\n",
       "      <td>1200.0</td>\n",
       "    </tr>\n",
       "    <tr>\n",
       "      <th>NPkVill</th>\n",
       "      <td>1322.0</td>\n",
       "    </tr>\n",
       "    <tr>\n",
       "      <th>NWAmes</th>\n",
       "      <td>1632.0</td>\n",
       "    </tr>\n",
       "    <tr>\n",
       "      <th>NoRidge</th>\n",
       "      <td>2417.0</td>\n",
       "    </tr>\n",
       "    <tr>\n",
       "      <th>NridgHt</th>\n",
       "      <td>1832.0</td>\n",
       "    </tr>\n",
       "    <tr>\n",
       "      <th>OldTown</th>\n",
       "      <td>1374.0</td>\n",
       "    </tr>\n",
       "    <tr>\n",
       "      <th>SWISU</th>\n",
       "      <td>1536.5</td>\n",
       "    </tr>\n",
       "    <tr>\n",
       "      <th>Sawyer</th>\n",
       "      <td>1052.0</td>\n",
       "    </tr>\n",
       "    <tr>\n",
       "      <th>SawyerW</th>\n",
       "      <td>1575.0</td>\n",
       "    </tr>\n",
       "    <tr>\n",
       "      <th>Somerst</th>\n",
       "      <td>1555.0</td>\n",
       "    </tr>\n",
       "    <tr>\n",
       "      <th>StoneBr</th>\n",
       "      <td>1767.0</td>\n",
       "    </tr>\n",
       "    <tr>\n",
       "      <th>Timber</th>\n",
       "      <td>1650.5</td>\n",
       "    </tr>\n",
       "    <tr>\n",
       "      <th>Veenker</th>\n",
       "      <td>1706.5</td>\n",
       "    </tr>\n",
       "  </tbody>\n",
       "</table>\n",
       "</div>"
      ],
      "text/plain": [
       "              GrLivArea\n",
       "Neighborhood           \n",
       "Blmngtn          1455.5\n",
       "Blueste          1118.0\n",
       "BrDale           1092.0\n",
       "BrkSide          1231.0\n",
       "ClearCr          1694.0\n",
       "CollgCr          1504.0\n",
       "Crawfor          1648.0\n",
       "Edwards          1184.0\n",
       "Gilbert          1560.0\n",
       "Greens           1226.0\n",
       "GrnHill          1398.5\n",
       "IDOTRR           1128.0\n",
       "Landmrk          1320.0\n",
       "MeadowV          1092.0\n",
       "Mitchel          1282.0\n",
       "NAmes            1200.0\n",
       "NPkVill          1322.0\n",
       "NWAmes           1632.0\n",
       "NoRidge          2417.0\n",
       "NridgHt          1832.0\n",
       "OldTown          1374.0\n",
       "SWISU            1536.5\n",
       "Sawyer           1052.0\n",
       "SawyerW          1575.0\n",
       "Somerst          1555.0\n",
       "StoneBr          1767.0\n",
       "Timber           1650.5\n",
       "Veenker          1706.5"
      ]
     },
     "execution_count": 96,
     "metadata": {},
     "output_type": "execute_result"
    }
   ],
   "source": [
    "#---------- SOLUTION ----------\n",
    "X[[\"GrLivArea\", \"Neighborhood\"]].groupby(\"Neighborhood\").median()"
   ]
  },
  {
   "cell_type": "code",
   "execution_count": 98,
   "metadata": {},
   "outputs": [
    {
     "data": {
      "text/plain": [
       "Order\n",
       "1      NaN\n",
       "2      NaN\n",
       "3      NaN\n",
       "4      NaN\n",
       "5      NaN\n",
       "        ..\n",
       "2926   NaN\n",
       "2927   NaN\n",
       "2928   NaN\n",
       "2929   NaN\n",
       "2930   NaN\n",
       "Name: MedNHArea, Length: 2925, dtype: float64"
      ]
     },
     "execution_count": 98,
     "metadata": {},
     "output_type": "execute_result"
    }
   ],
   "source": [
    "X[\"MedNHArea\"] = X[[\"GrLivArea\", \"Neighborhood\"]].groupby(\"Neighborhood\").median()\n",
    "X[\"MedNHArea\"]"
   ]
  },
  {
   "attachments": {},
   "cell_type": "markdown",
   "metadata": {},
   "source": [
    "------"
   ]
  }
 ],
 "metadata": {
  "kernelspec": {
   "display_name": "Python 3 (ipykernel)",
   "language": "python",
   "name": "python3"
  },
  "language_info": {
   "codemirror_mode": {
    "name": "ipython",
    "version": 3
   },
   "file_extension": ".py",
   "mimetype": "text/x-python",
   "name": "python",
   "nbconvert_exporter": "python",
   "pygments_lexer": "ipython3",
   "version": "3.11.2"
  }
 },
 "nbformat": 4,
 "nbformat_minor": 4
}

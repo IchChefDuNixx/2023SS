{
 "cells": [
  {
   "cell_type": "code",
   "execution_count": null,
   "metadata": {},
   "outputs": [],
   "source": [
    "# This is Homework 06a (Visualization with Matplotlib and Seaborn) \n",
    "# of the \"Data Science\" class at Technische Hochschule Rosenheim"
   ]
  },
  {
   "cell_type": "markdown",
   "metadata": {},
   "source": [
    "## Visualization with Matplotlib\n",
    "\n",
    "### Exercises\n"
   ]
  },
  {
   "cell_type": "markdown",
   "metadata": {
    "tags": []
   },
   "source": [
    "#### Starting Up\n",
    "\n",
    "- import NumPy, pandas incl. Series and DataFrame in the usual way\n",
    "- import Matplotlib in the usual way. Use the *classic* style in the inline fashion. \n",
    "- import seaborn.\n",
    "- print the Matplotlib version"
   ]
  },
  {
   "cell_type": "code",
   "execution_count": null,
   "metadata": {},
   "outputs": [],
   "source": [
    "## Solutions"
   ]
  },
  {
   "cell_type": "markdown",
   "metadata": {},
   "source": [
    "## Simple Line Plots"
   ]
  },
  {
   "cell_type": "markdown",
   "metadata": {},
   "source": [
    "### Logistic Sigmoid Function\n",
    "\n",
    "Some of the most popular activation functions used in artificial neural networks as the logistic sigmoid function, the arctan function and the ReLU function. "
   ]
  },
  {
   "cell_type": "code",
   "execution_count": null,
   "metadata": {},
   "outputs": [],
   "source": [
    "def sigmoid(x):\n",
    "    return 1.0 / (1.0 + np.exp(-x))\n",
    "\n",
    "def ReLU(x):\n",
    "    if x <= 0 :\n",
    "        return 0\n",
    "    else:\n",
    "        return x"
   ]
  },
  {
   "cell_type": "markdown",
   "metadata": {},
   "source": [
    "### Exercises\n",
    "\n",
    "- Plot these three functions between -10 and 5 using the object oriented style and the 'seaborn-darkgrid' style in one graph in order to compare them.\n",
    "- Note that the graph is not very nice: the lines are hard to distinguish and the ReLU goes so far up that the other two get squashed together. Let's improve this graph and plot if again: use a dashed black line for the sigmoid function, a dotted red one for the arctan and a solid blue one for the ReLU. In addition, lets show the x-axes between -10 and +10 and the y-axes from -3 to +3."
   ]
  },
  {
   "cell_type": "code",
   "execution_count": null,
   "metadata": {},
   "outputs": [],
   "source": [
    "## Solutions"
   ]
  },
  {
   "cell_type": "markdown",
   "metadata": {},
   "source": [
    "### Exercises\n",
    "\n",
    "- Finally, let's label the plot. Give it a reasonable title, label the axes and the functions."
   ]
  },
  {
   "cell_type": "code",
   "execution_count": null,
   "metadata": {},
   "outputs": [],
   "source": [
    "## Solutions"
   ]
  },
  {
   "cell_type": "markdown",
   "metadata": {},
   "source": [
    "## Simple Scatter Plots\n",
    "\n",
    "You have the following DataFrame about people and their ages and incomes:\n"
   ]
  },
  {
   "cell_type": "code",
   "execution_count": null,
   "metadata": {},
   "outputs": [],
   "source": [
    "ages = np.random.randint(18, 99, 200)\n",
    "people = DataFrame({'age': ages, 'income': ages*abs(np.random.randn(200)*30000+50000)})"
   ]
  },
  {
   "cell_type": "markdown",
   "metadata": {},
   "source": [
    "### Exercises\n",
    "\n",
    "- create a scatter plot to check if there is a correlation between age and income in this data. Don't forget to label the axes properly and give the plot a title. The the \"plt\" style this time."
   ]
  },
  {
   "cell_type": "code",
   "execution_count": null,
   "metadata": {},
   "outputs": [],
   "source": [
    "## Solutions"
   ]
  },
  {
   "cell_type": "markdown",
   "metadata": {},
   "source": [
    "## Visualizing Errors\n",
    "\n",
    "### Exercises\n",
    "\n",
    "- What is the plt command to visualize errors?\n"
   ]
  },
  {
   "cell_type": "code",
   "execution_count": null,
   "metadata": {},
   "outputs": [],
   "source": [
    "## Solutions"
   ]
  },
  {
   "cell_type": "markdown",
   "metadata": {},
   "source": [
    "## Histograms, Binnings, and Density\n",
    "\n",
    "### Exercises\n",
    "\n",
    "- Plot two histograms showing the age and income distributions of the dataset from above.\n",
    "- Plot a two-dimensional histogram of this data. As always, add sensible titles, labels, etc. to the plot.\n"
   ]
  },
  {
   "cell_type": "code",
   "execution_count": null,
   "metadata": {},
   "outputs": [],
   "source": [
    "## Solutions"
   ]
  },
  {
   "cell_type": "markdown",
   "metadata": {},
   "source": [
    "## Customizing Plot Legends and Customizing Colorbars.\n",
    "\n",
    "Skim through the material in these sections. No exercises."
   ]
  },
  {
   "cell_type": "markdown",
   "metadata": {},
   "source": [
    "## Multiple Subplots\n",
    "\n",
    "Quite often, it is very useful to show multiple subplots next to each other.\n",
    "\n",
    "### Exercises\n",
    "\n",
    "- Revisit the two histograms showing age and income you created above. Now plot them next to each other using the **subplots** command.\n"
   ]
  },
  {
   "cell_type": "code",
   "execution_count": null,
   "metadata": {},
   "outputs": [],
   "source": [
    "## Solutions"
   ]
  },
  {
   "cell_type": "markdown",
   "metadata": {},
   "source": [
    "## Customizing Ticks and Customizing Matplotlib: Configurations and Stylesheets\n",
    "\n",
    "Skim through the material in these sections. No exercises."
   ]
  },
  {
   "cell_type": "markdown",
   "metadata": {},
   "source": [
    "## Visualization with Seaborn\n",
    "\n",
    "\n",
    "### Exercises\n",
    "\n",
    "Two of the most useful plots Seaborn provides are the joint and pair plots. Let's look at the following revenue data for three countries."
   ]
  },
  {
   "cell_type": "code",
   "execution_count": null,
   "metadata": {},
   "outputs": [],
   "source": [
    "rev = DataFrame({'Germany': np.random.randint(100, 100000, 12), \n",
    "                 'Austria': np.random.randint(100, 100000, 12),\n",
    "                 'France': np.random.randint(100, 100000, 12)},\n",
    "                index=['Jan', 'Feb', 'Mar', 'Apr', 'May', 'Jun', 'Jul', 'Aug', 'Sep', 'Oct', 'Nov', 'Dez'])"
   ]
  },
  {
   "cell_type": "markdown",
   "metadata": {},
   "source": [
    "- Call the `set_theme()` method of seaborn (have a look at the seaborn documentation to find out about the difference between this and the `set()` method mentioned in the textbook)\n",
    "- Create a **jointplot** to look at the Germany-Austria revenue.\n",
    "- Create a **pairplot** to look at all country combinations."
   ]
  },
  {
   "cell_type": "code",
   "execution_count": null,
   "metadata": {},
   "outputs": [],
   "source": [
    "## Solutions"
   ]
  },
  {
   "cell_type": "markdown",
   "metadata": {},
   "source": [
    "---"
   ]
  }
 ],
 "metadata": {
  "kernelspec": {
   "display_name": "Python 3 (ipykernel)",
   "language": "python",
   "name": "python3"
  },
  "language_info": {
   "codemirror_mode": {
    "name": "ipython",
    "version": 3
   },
   "file_extension": ".py",
   "mimetype": "text/x-python",
   "name": "python",
   "nbconvert_exporter": "python",
   "pygments_lexer": "ipython3",
   "version": "3.10.8"
  }
 },
 "nbformat": 4,
 "nbformat_minor": 4
}

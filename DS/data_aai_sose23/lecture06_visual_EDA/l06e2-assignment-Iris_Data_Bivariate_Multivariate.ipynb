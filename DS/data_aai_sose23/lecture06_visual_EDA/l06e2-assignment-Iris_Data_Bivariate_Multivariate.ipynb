{
 "cells": [
  {
   "cell_type": "code",
   "execution_count": 1,
   "metadata": {},
   "outputs": [],
   "source": [
    "# This is Lecture06 - Exercise 2\n",
    "# of the \"Data Science\" class at Technische Hochschule Rosenheim"
   ]
  },
  {
   "cell_type": "markdown",
   "metadata": {},
   "source": [
    "# Iris Dataset revisited"
   ]
  },
  {
   "cell_type": "markdown",
   "metadata": {},
   "source": [
    "# Part IV - Visual EDA - Bivariate and Multivariate\n",
    "\n",
    "IV.1: Create 4 scatter plots, showing\n",
    "- the petal length vs. the petal width\n",
    "- the sepal length vs. the sepal width\n",
    "- the petal length vs. the sepal length\n",
    "- the petal width vs. the sepal width.\n",
    "\n",
    "In all scatter plots, mark the type of Iris a data point pertains to by a color (e.g. blue for Iris setosa, red for Iris versicolor, black for Iris virginica).\n",
    "\n",
    "Document your insights / discoveries.\n",
    "\n"
   ]
  },
  {
   "cell_type": "markdown",
   "metadata": {},
   "source": [
    "------"
   ]
  }
 ],
 "metadata": {
  "kernelspec": {
   "display_name": "Python 3 (ipykernel)",
   "language": "python",
   "name": "python3"
  },
  "language_info": {
   "codemirror_mode": {
    "name": "ipython",
    "version": 3
   },
   "file_extension": ".py",
   "mimetype": "text/x-python",
   "name": "python",
   "nbconvert_exporter": "python",
   "pygments_lexer": "ipython3",
   "version": "3.10.8"
  }
 },
 "nbformat": 4,
 "nbformat_minor": 4
}

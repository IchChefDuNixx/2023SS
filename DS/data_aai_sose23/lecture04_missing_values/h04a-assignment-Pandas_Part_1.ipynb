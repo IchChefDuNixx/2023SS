{
 "cells": [
  {
   "cell_type": "code",
   "execution_count": null,
   "metadata": {},
   "outputs": [],
   "source": [
    "# This is Homework 04a (Pandas - Part 1) \n",
    "# of the \"Data Science\" class at Technische Hochschule Rosenheim"
   ]
  },
  {
   "cell_type": "markdown",
   "metadata": {},
   "source": [
    "## Data Manipulation with Pandas\n",
    "\n",
    "### Exercises\n"
   ]
  },
  {
   "cell_type": "markdown",
   "metadata": {},
   "source": [
    "#### Starting Up\n",
    "\n",
    "- import NumPy and Pandas in the usual way and print the Pandas Version\n",
    "- in addition, import the Series and DataFrame classes from Pandas directly, so you can use them without prefix"
   ]
  },
  {
   "cell_type": "code",
   "execution_count": null,
   "metadata": {},
   "outputs": [],
   "source": [
    "## Solutions"
   ]
  },
  {
   "cell_type": "markdown",
   "metadata": {},
   "source": [
    "## Introducing Pandas Objects and Data Indexing and Selection\n",
    "\n",
    "### Exercises\n"
   ]
  },
  {
   "cell_type": "markdown",
   "metadata": {},
   "source": [
    "#### Data Structure: Series\n",
    "\n",
    "You have 5 customers: Hans, Egon, Ute, Susi and Klaus. In 2010, your revenue in EUR with each of these was 1500, 2500, 3500, 4000 and 2200, respectively. \n",
    "- create a pandas Series 'rev' containing this data.\n",
    "- select all customers with more then 3000 EUR revenue\n",
    "- Your profit was 33.5% of the revenue. Create a new series 'profit' containing the profit for each customer\n",
    "- Verify that your have a profit for the customer 'Ute' and that you do NOT have a profit for the customer 'Uwe'\n",
    "\n",
    "You also have revenue figures for 2011.\n",
    "- Create another Series 'revc' by first creating a regular Python dict and afterwards converting this to a Series. Here are your revenue figures for the current year: Klaus: 6000, Uwe: 1500, Hans: 1000, Susi: 5000\n",
    "- furthermore, you know that Anton is also a customer for the current year, but you do not know his revenue. Using your dict from above, create a Series 'revd' containing all known revenues for the current year plus the fact that Anton is a customer without known revenue.\n",
    "- compute a Series 'revt' containing the total revenues (for the current and the last year) for all customers\n",
    "- Anton changed his gender, update his/her name to Antonia in the Series 'revt'\n",
    "- Your sales rep finalley sent you Antonias revenue for the current year, it is 10000 EUR. Update 'revt' accordingly.\n",
    "\n"
   ]
  },
  {
   "cell_type": "code",
   "execution_count": null,
   "metadata": {},
   "outputs": [],
   "source": [
    "## Solutions"
   ]
  },
  {
   "cell_type": "markdown",
   "metadata": {},
   "source": [
    "#### Data Structure: DataFrame and Index Objects\n",
    "\n",
    "- create a DataFrame 'dfrev' containing our revenue data from above, with three columns 'year', 'customer' and 'revenue'. Both the data for 2010 and 2011 shall be included, as well as Antonias revenue. Create the DataFrame by first creating a dict 'rawdata' of equal-length lists and converting this into a DataFrame.\n",
    "- create another DataFrame 'dfrevp' containing the same data, plus additionally another (empty) column 'profit'. Order the columns as year, customer, revenue, profit. Furthermore, your index values should start at 1000 and increase in steps of 10 (hint: use the range method)\n",
    "- retrieve all customer names\n",
    "- retrieve the data for row with index 1010\n",
    "- retrieve the revenue for row with index 1010\n",
    "- fill in the profit column (remindet: your profit is 33.5% of revenue)\n",
    "- add a new column containing the gender auf the customer ('m' or 'f') using a list assigment\n",
    "- delete the 'profit' column"
   ]
  },
  {
   "cell_type": "markdown",
   "metadata": {},
   "source": [
    "- create a DataFrame df2 of the revenue where the columns are the years and the rows are the customers by first creating a nested dict and converting this to a DataFrame. Name the columns and rows correctly. \n",
    "- create a second table where columns and rows are switched (i.e. columns are the customers and rows the years).\n",
    "- retrieve the revenue for Hans in 2010 and for Antonia in 2010\n",
    "- does df2 contain information about the customer 'Ulf'?"
   ]
  },
  {
   "cell_type": "code",
   "execution_count": null,
   "metadata": {},
   "outputs": [],
   "source": [
    "## Solutions"
   ]
  },
  {
   "cell_type": "markdown",
   "metadata": {},
   "source": [
    "## Operating on Data in Pandas\n",
    "\n",
    "### Exercises\n"
   ]
  },
  {
   "cell_type": "markdown",
   "metadata": {},
   "source": [
    "#### Arithmetic and Data Aligment\n",
    "You have the revenues numbers for Germany and and France in two DataFrames ger and fra:"
   ]
  },
  {
   "cell_type": "code",
   "execution_count": null,
   "metadata": {},
   "outputs": [],
   "source": [
    "ger = DataFrame({\n",
    "      '2010': {'Hans':1500, 'Egon':2500, 'Ute':3500, \n",
    "                'Susi':4000, 'Klaus':2200, 'Uwe':0, 'Antonia':0}, \n",
    "      '2011': {'Klaus': 6000, 'Uwe': 1500, 'Hans': 1000, \n",
    "               'Susi': 5000, 'Antonia':10000, 'Egon':0, 'Ute':0}})\n",
    "ger.index.name = 'customer'\n",
    "ger.columns.name='year'\n",
    "ger.name = 'Germany'\n",
    "\n",
    "fra = DataFrame({\n",
    "      '2010': {'Hans':1100, 'Klaus':200, 'Egon':300, 'Susi':400 , \n",
    "               'Jaques': 1100, 'Susanna': 5500, 'Julia':11100}, \n",
    "      '2012': {'Klaus': 1000, 'Jaques': 1100, 'Susanna': 5500, \n",
    "               'Julia':11100, 'Hans':1100, 'Egon':300, 'Susi':400 , }})\n",
    "fra.index.name = 'customer'\n",
    "fra.columns.name='year'\n",
    "fra.name = 'France'\n"
   ]
  },
  {
   "cell_type": "markdown",
   "metadata": {},
   "source": [
    "- compute the total revenues. Do not change the DataFrames ger and fra!\n",
    "\n",
    "You also have a Series of profit margins you achieved per year:"
   ]
  },
  {
   "cell_type": "code",
   "execution_count": null,
   "metadata": {},
   "outputs": [],
   "source": [
    "margins = Series([0.335, 0.300, 0.310], index=['2010', '2011', '2012'])"
   ]
  },
  {
   "cell_type": "markdown",
   "metadata": {},
   "source": [
    "- compute the absolute profit per customer and year and store the result in a DataFrame 'profit'\n",
    "- compute a new Series containing the total profit per customer\n",
    "- compute a DataFrame containing the customers as rows and the  minimum, average and maximum yearly profit per customer as columns\n",
    "- compute a DataFrame containing the minimum, average and maximum profit per year as rows and the years as columns"
   ]
  },
  {
   "cell_type": "code",
   "execution_count": null,
   "metadata": {},
   "outputs": [],
   "source": [
    "## Solutions"
   ]
  },
  {
   "cell_type": "markdown",
   "metadata": {},
   "source": [
    "## Handling Missing Data\n",
    "\n",
    "### Exercises\n"
   ]
  },
  {
   "cell_type": "markdown",
   "metadata": {},
   "source": [
    "#### Handling and Filling in Missing Data\n",
    "\n",
    "you just got the revenue figures for Italy:"
   ]
  },
  {
   "cell_type": "code",
   "execution_count": null,
   "metadata": {},
   "outputs": [],
   "source": [
    "ger = DataFrame({'2010': {'Hans':1500, 'Egon':2500, 'Ute':3500, \n",
    "                'Susi':4000, 'Klaus':2200}, \n",
    "      '2011': {'Klaus': 6000, 'Uwe': 1500, 'Hans': 1000, \n",
    "               'Susi': 5000, 'Antonia':10000}})\n",
    "ger.index.name = 'customer'\n",
    "ger.columns.name='year'\n",
    "ger.name = 'Germany'\n",
    "\n",
    "fra = DataFrame({'2010': {'Hans':1100, 'Klaus':200, 'Egon':300, 'Susi':400}, \n",
    "      '2012': {'Klaus': 1000, 'Jaques': 1100, \n",
    "               'Susanna': 5500, 'Julia':11100}})\n",
    "fra.index.name = 'customer'\n",
    "fra.columns.name='year'\n",
    "fra.name = 'France'\n",
    "\n",
    "ita = DataFrame({\n",
    "    '2010': {'Pepe':1500, 'Romano':2500, 'Luigi':3500, \n",
    "             'Luigi':4000, 'Maria':2200}, \n",
    "    '2011': {'Mario': 6000, 'Maria': 1500, 'Luka': 1000, \n",
    "             'Luigi': 5000, 'Eva':10000}, \n",
    "    '2012': {'Mario': 3000, 'Romano': 500, 'Maria': 13000, \n",
    "             'Eva': 8700, 'Luigi':2900}})\n",
    "ita.index.name = 'customer'\n",
    "ita.columns.name='year'\n",
    "ita.name = 'Italy'"
   ]
  },
  {
   "cell_type": "markdown",
   "metadata": {},
   "source": [
    "Let's work on the DataFrame for Italy 'ita' first:\n",
    "- compute a boolean DataFrame where all the cells containing 'Nan' in ita are set to True.\n",
    "- drop all rows containing at least one NaN. How many rows are left?\n",
    "- drop all rows and columns containing only NaN. How many rows are left?\n",
    "- drop all customers with only 1 revenue number\n",
    "- drop all years containing less than 5 revenue numbers. How many years are being dropped?\n",
    "- replace all missing revenue numbers in 2010 with 0 and in 2011 and 2012 with -1 and store the result in 'itaclean'.\n",
    "- actually, you are not quite happy with 'itaclean', the -1 values to not really make sense. A better solution may be to fill in the missing values for year 2010 with 0, and forward-fill the revenue number for 2011 and 2012 from the previous years. Create 'itacleanbetter' based on this idea."
   ]
  },
  {
   "cell_type": "markdown",
   "metadata": {},
   "source": [
    "Now, let's bring all three countries together:\n",
    "- compute the total revenues. Your result must not contain NaN. Do not change the DataFrames ger, fra, ita."
   ]
  },
  {
   "cell_type": "code",
   "execution_count": null,
   "metadata": {},
   "outputs": [],
   "source": [
    "## Solutions"
   ]
  },
  {
   "cell_type": "markdown",
   "metadata": {},
   "source": [
    "## Hierarchical Indexing\n",
    "\n",
    "### Exercises\n"
   ]
  },
  {
   "cell_type": "markdown",
   "metadata": {},
   "source": [
    "- create a DataFrame 'sdw' (with hierarchical indexes, containing int numbers) where the columns  three countries ger (with customers Ute and Uwe), fra (with customer George) and ita (with customers Maria, Luigi and Mario).  The rows show the years 2010 and 2011 each with four quarters. The cells show the revenue for each Customer/Quarter (i.e. a total of 48 numbers, generate them randomly). \n",
    "- select all data for Italy from sdw\n",
    "- select the data for 2011 from sdw\n",
    "- name your indexes 'year', 'quarter', 'country' and 'customer'\n",
    "- swap 'year' with 'quarter' and sort the result by 'quarter' (hint: the `swaplevel` method of the DataFrame may be helpful)\n",
    "- compute the revenue per year for each customer (i.e. sum the quarter)\n",
    "- compute the revenue per country for each quarter (i.e. sum the customers)\n",
    "- compute the revenue per year and per country (i.e. combine both sums from the two previous problems)"
   ]
  },
  {
   "cell_type": "code",
   "execution_count": null,
   "metadata": {},
   "outputs": [],
   "source": [
    "## Solutions"
   ]
  },
  {
   "cell_type": "markdown",
   "metadata": {},
   "source": [
    "---"
   ]
  }
 ],
 "metadata": {
  "kernelspec": {
   "display_name": "Python 3 (ipykernel)",
   "language": "python",
   "name": "python3"
  },
  "language_info": {
   "codemirror_mode": {
    "name": "ipython",
    "version": 3
   },
   "file_extension": ".py",
   "mimetype": "text/x-python",
   "name": "python",
   "nbconvert_exporter": "python",
   "pygments_lexer": "ipython3",
   "version": "3.10.8"
  }
 },
 "nbformat": 4,
 "nbformat_minor": 4
}

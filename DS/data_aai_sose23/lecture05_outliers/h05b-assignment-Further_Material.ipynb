{
 "cells": [
  {
   "cell_type": "code",
   "execution_count": null,
   "metadata": {},
   "outputs": [],
   "source": [
    "# This is Homework 06c (Further Material)\n",
    "# of the \"Data Science\" class at Technische Hochschule Rosenheim"
   ]
  },
  {
   "cell_type": "code",
   "execution_count": null,
   "metadata": {},
   "outputs": [],
   "source": [
    "# import numpy and pandas\n",
    "import numpy as np\n",
    "import pandas as pd\n",
    "from pandas import Series, DataFrame"
   ]
  },
  {
   "cell_type": "markdown",
   "metadata": {},
   "source": [
    "# Further Material\n",
    "\n",
    "This notebook covers a couple of subjects we will need for the class and which are not contained in the textbook. It will introduce a number of methods - use the documentation to learn about the method and it's parameters!\n",
    "\n",
    "https://pandas.pydata.org/pandas-docs/stable/"
   ]
  },
  {
   "cell_type": "markdown",
   "metadata": {},
   "source": [
    "### Reading and Writing Data in Text Format\n",
    "\n",
    "Use the DataFrame method `read_csv` for the following exercise.\n",
    "\n",
    "You are given a dataset of \"census income data\" in csv format, each row represents one person with the following attributes: age, workclass, fnlwgt, education, education-num, marital-status, occupation, relationship, race, sex, capital-gain, capital-loss, hours-per-week, native-country, income.\n",
    "\n",
    "You can find this dataset in 'data/adult.data'.\n",
    "\n",
    "- read the data into a DataFrame 'adult'. Make sure to name the columns properly.\n",
    "- verify that adults contains 32561 tupels."
   ]
  },
  {
   "cell_type": "code",
   "execution_count": null,
   "metadata": {},
   "outputs": [],
   "source": [
    "## Solutions"
   ]
  },
  {
   "cell_type": "markdown",
   "metadata": {},
   "source": [
    "### JSON, XML and HTML\n",
    "\n",
    "Use the DataFrame method `to_json` for the following exercise.\n",
    "\n",
    "- write the 'adult' DataFrame to a JSON file 'adult.data.json' in the 'output' directory.\n",
    "- verify the contents of the file using a web browser.\n",
    "\n"
   ]
  },
  {
   "cell_type": "code",
   "execution_count": null,
   "metadata": {},
   "outputs": [],
   "source": [
    "## Solutions"
   ]
  },
  {
   "cell_type": "markdown",
   "metadata": {},
   "source": [
    "### Binary Data Formats\n",
    "\n",
    "Use the DataFrame method `ExcelFile` for the following exercise.\n",
    "\n",
    "There is another file containing income data, in Excel format: 'data/adult.test.xlsx'.\n",
    "- open this excel file as 'xls_file'\n",
    "- use the property 'sheet_names' to figure out the name of the Sheets in this Excel file.\n",
    "- use the 'parse' method to read the (only) Sheet into a DataFrame 'adult_test' and verify the result by looking at the first 5 rows.\n"
   ]
  },
  {
   "cell_type": "code",
   "execution_count": null,
   "metadata": {},
   "outputs": [],
   "source": [
    "## Solutions"
   ]
  },
  {
   "cell_type": "markdown",
   "metadata": {},
   "source": [
    "### Reindexing\n",
    "\n",
    "Use the DataFrame methods `reindex` and `drop` for the following exercise.\n",
    "\n",
    "You are given the following revenue data:"
   ]
  },
  {
   "cell_type": "code",
   "execution_count": null,
   "metadata": {},
   "outputs": [],
   "source": [
    "df3 = DataFrame({'2010': {'Hans':1500, 'Egon':2500, 'Ute':3500, \n",
    "                'Susi':4000, 'Klaus':2200}, \n",
    "      '2011': {'Klaus': 6000, 'Uwe': 1500, 'Hans': 1000, \n",
    "               'Susi': 5000, 'Antonia':10000}})\n",
    "df3.index.name = 'customer'\n",
    "df3.columns.name='year'"
   ]
  },
  {
   "cell_type": "markdown",
   "metadata": {},
   "source": [
    "- Use reindexing to add a row for the new customer 'Bernd' between Antonia and Egon, setting all his revenues to 0 (call this df4)\n",
    "- Use reindexing to add a column for the year 2012 to df4 and call this df5\n",
    "- Use the drop method twice in one line to remove the year 2010 as well as Egon and Susi from df5, call the new DataFrame df6\n",
    "- use indexing and slicing to set the revenue of Bernd, Egon, Hans and Klaus to 0 for the year 2012 in df5\n",
    "- set all remaining unknown revenues (NaN) to -1 using boolean indexing\n"
   ]
  },
  {
   "cell_type": "code",
   "execution_count": null,
   "metadata": {},
   "outputs": [],
   "source": [
    "## Solutions"
   ]
  },
  {
   "cell_type": "markdown",
   "metadata": {},
   "source": [
    "### Sorting and Ranking\n",
    "\n",
    "Use the DataFrame methods `sort_index`, `sort_values` and `rank` for the following exercise."
   ]
  },
  {
   "cell_type": "code",
   "execution_count": null,
   "metadata": {},
   "outputs": [],
   "source": [
    "fra = DataFrame({'2010': {'Hans':1100, 'Klaus':200, 'Egon':300, 'Susi':400}, \n",
    "      '2012': {'Klaus': 1000, 'Jaques': 1100, \n",
    "               'Susanna': 5500, 'Julia':11100}})\n",
    "fra.index.name = 'customer'\n",
    "fra.columns.name='year'\n",
    "fra.name = 'France'\n"
   ]
  },
  {
   "cell_type": "markdown",
   "metadata": {},
   "source": [
    "- Sort the french customers by name\n",
    "- Sort the french customers by revenue (descending) in 2012\n",
    "- Now, rank the french customers by revenue (descending) in 2012, so that the customer with the highest revenue has rank 1, etc. Break ties by minimum rank, and show the result by ascending rank.\n",
    "- Finally, select only the top-3 customers from the previous list."
   ]
  },
  {
   "cell_type": "code",
   "execution_count": null,
   "metadata": {},
   "outputs": [],
   "source": [
    "## Solutions"
   ]
  },
  {
   "cell_type": "markdown",
   "metadata": {},
   "source": [
    "### Unique Values and Value Counts\n",
    "\n",
    "Use the DataFrame methods `unique` and `value_counts` for the following exercise.\n",
    "\n",
    "You work behind the bar in a club and write down each cocktail you make in a list:"
   ]
  },
  {
   "cell_type": "code",
   "execution_count": null,
   "metadata": {},
   "outputs": [],
   "source": [
    "cocktails = Series(['Caipi', 'Mojito', 'Cuba Libre', 'Caipi', 'Caipi',\n",
    "                   'Cuba Libre', 'Mojito', 'Caipi', 'Mojito'])"
   ]
  },
  {
   "cell_type": "markdown",
   "metadata": {},
   "source": [
    "- Compute a list of all the different cocktails you made!\n",
    "- How many cocktails of each kind did you make?"
   ]
  },
  {
   "cell_type": "code",
   "execution_count": null,
   "metadata": {},
   "outputs": [],
   "source": [
    "## Solutions"
   ]
  },
  {
   "cell_type": "markdown",
   "metadata": {},
   "source": [
    "### Removing/Replacing\n",
    "\n",
    "Use the DataFrame methods `drop_duplicates` and `replace` for the following exercise.\n",
    "\n",
    "Consider the following DataFrame 'work2' from our ERP system:"
   ]
  },
  {
   "cell_type": "code",
   "execution_count": null,
   "metadata": {},
   "outputs": [],
   "source": [
    "work2 = DataFrame({'job': ['Projektleiter', 'Gruppenleiter', 'Sachbearbeiter', '', '', 'Projektleiter', \n",
    "                          'Gruppenleiter', '', 'Sachbearbeiter', 'Sachbearbeiter', 'Sachbearbeiter'],\n",
    "                  'prj_number': ['p1', 'p3', 'p2', 'p2', 'p2', 'p3', 'p1', 'p1', 'p2', 'p3', 'p1'], \n",
    "                  'emp_number': ['10102', '10102', '25348', '18316', '29346', '2581', '9031', \n",
    "                                 '28559', '28559', '9031', '29346']})\n"
   ]
  },
  {
   "cell_type": "markdown",
   "metadata": {},
   "source": [
    "- Each employee should have only one job in one project: remove all but the last row which violates this condition, and save the result in a new DataFrame 'work3'\n",
    "- The job title 'Sachbearbeiter' has been changed to 'Spezialist'. Create a new DataFrame 'work4' based on 'work3' which reflects this change."
   ]
  },
  {
   "cell_type": "code",
   "execution_count": null,
   "metadata": {},
   "outputs": [],
   "source": [
    "## Solutions"
   ]
  },
  {
   "cell_type": "markdown",
   "metadata": {},
   "source": [
    "### Discretization and Binning\n",
    "\n",
    "Use the DataFrame methods `cut` and `qcut` for the following exercise.\n",
    "\n",
    "You have an array of income numbers:"
   ]
  },
  {
   "cell_type": "code",
   "execution_count": null,
   "metadata": {},
   "outputs": [],
   "source": [
    "incomes = [10274, 47628, 34876, 78028, 113765, 1836, 16537, 65184, 55127, 55271, 76201, 73529, 23438, 26142]"
   ]
  },
  {
   "cell_type": "markdown",
   "metadata": {},
   "source": [
    "- discretize these into the incomes up to 10k, more than 10k to 50k, more than 50k to 100k and more than 100k. Print the bins together with the number of incomes in each bin.\n",
    "- in addition, name your bins 'poor', 'average', 'rich' and 'filthyrich'. Again, print the bins together with the number of incomes in each bin.\n",
    "- discretize these into the 4 quantiles called '25%', '50%', '75%' and '100%'. Again, print the bins together with the number of incomes in each bin.\n",
    "\n",
    "Hint: the `max` method may be helpful as well!"
   ]
  },
  {
   "cell_type": "code",
   "execution_count": null,
   "metadata": {},
   "outputs": [],
   "source": [
    "## Solutions"
   ]
  },
  {
   "cell_type": "markdown",
   "metadata": {},
   "source": [
    "### Outliers and Random Sampling\n",
    "\n",
    "As will define as outliers all incomes of 9000 or less and of 99000 or more.\n",
    "- convert 'incomes' to a DataFrame 'incomedf'\n",
    "- compute all outliers in 'incomedf'\n",
    "- change all outliers in 'incomedf' to the value -1. Verify that they are indeed -1.\n",
    "\n",
    "Use the DataFrame method `take` for the following exercise. In addition, `np.random.permutation` and `np.random.randint` may be helpful.\n",
    "\n",
    "- draw a random sample of 5 incomes from 'incomedf' without replacement\n",
    "- draw a random sample of 20 incomes from 'incomedf' with replacement\n",
    "\n",
    "Hint: Binary and Fancy indexing will be useful for all these exercises."
   ]
  },
  {
   "cell_type": "code",
   "execution_count": null,
   "metadata": {},
   "outputs": [],
   "source": [
    "## Solutions"
   ]
  },
  {
   "cell_type": "markdown",
   "metadata": {},
   "source": [
    "---"
   ]
  }
 ],
 "metadata": {
  "kernelspec": {
   "display_name": "Python 3 (ipykernel)",
   "language": "python",
   "name": "python3"
  },
  "language_info": {
   "codemirror_mode": {
    "name": "ipython",
    "version": 3
   },
   "file_extension": ".py",
   "mimetype": "text/x-python",
   "name": "python",
   "nbconvert_exporter": "python",
   "pygments_lexer": "ipython3",
   "version": "3.10.6"
  }
 },
 "nbformat": 4,
 "nbformat_minor": 4
}

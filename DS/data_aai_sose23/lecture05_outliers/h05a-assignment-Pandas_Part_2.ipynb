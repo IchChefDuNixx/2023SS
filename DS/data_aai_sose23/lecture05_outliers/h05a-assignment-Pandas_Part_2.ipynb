{
 "cells": [
  {
   "cell_type": "code",
   "execution_count": null,
   "metadata": {},
   "outputs": [],
   "source": [
    "# This is Homework 06b (Pandas - Part 2) \n",
    "# of the \"Data Science\" class at Technische Hochschule Rosenheim"
   ]
  },
  {
   "cell_type": "markdown",
   "metadata": {},
   "source": [
    "## Pandas - Part 2\n",
    "\n",
    "### Exercises\n"
   ]
  },
  {
   "cell_type": "markdown",
   "metadata": {},
   "source": [
    "#### Starting Up\n",
    "\n",
    "- import NumPy and Pandas in the usual way and the Series and DataFrame classes from Pandas directly, so you can use them without prefix"
   ]
  },
  {
   "cell_type": "code",
   "execution_count": null,
   "metadata": {},
   "outputs": [],
   "source": [
    "## Solutions"
   ]
  },
  {
   "cell_type": "markdown",
   "metadata": {},
   "source": [
    "## Combining Datasets - Concat and Append\n",
    "\n",
    "### Exercises\n"
   ]
  },
  {
   "cell_type": "markdown",
   "metadata": {},
   "source": [
    "### Concatenation\n",
    "\n",
    "Your ERP system is running on three servers in Germany, Austria and Italy. The employee information saved in these three systems is similar, but not identical:"
   ]
  },
  {
   "cell_type": "code",
   "execution_count": null,
   "metadata": {},
   "outputs": [],
   "source": [
    "empg = DataFrame({'emp_name': ['Keller', 'Huber', 'Müller'],\n",
    "                 'emp_firstname': ['Hans', 'Petra', 'Gabriele'],\n",
    "                 'dep_number': ['a3', 'a3', 'a1']},\n",
    "               index = ['25348', '10102', '18316'])\n",
    "empg.index.name = 'emp_number'\n",
    "\n",
    "empa = DataFrame({'emp_name': ['Probst', 'Meier'],\n",
    "                 'emp_firstname': ['Andreas', 'Rainer'],\n",
    "                 'dep_number': ['a2', 'a2']},\n",
    "               index = ['29346', '9031'])\n",
    "empa.index.name = 'emp_number'"
   ]
  },
  {
   "cell_type": "markdown",
   "metadata": {},
   "source": [
    "- output empg and empa\n",
    "- combine empg and empa into one DataFrame"
   ]
  },
  {
   "cell_type": "code",
   "execution_count": null,
   "metadata": {},
   "outputs": [],
   "source": [
    "## Solutions"
   ]
  },
  {
   "cell_type": "markdown",
   "metadata": {},
   "source": [
    "## Combining Datasets - Merge and Join\n",
    "\n",
    "### Exercises\n"
   ]
  },
  {
   "cell_type": "markdown",
   "metadata": {},
   "source": [
    "An ERP system of a German company contains the following DataFrames about with information about departments and employees:"
   ]
  },
  {
   "cell_type": "code",
   "execution_count": null,
   "metadata": {},
   "outputs": [],
   "source": [
    "dep = DataFrame({'dep_name': [ 'Beratung', 'Diagnose', 'Freigabe'], \n",
    "                 'dep_city': ['München', 'München', 'Stuttgar']}, \n",
    "                 index = ['a1', 'a2', 'a3'])\n",
    "dep.index.name = 'dep_number'\n",
    "\n",
    "emp = DataFrame({'emp_name': ['Keller', 'Huber', 'Müller', 'Probst', \n",
    "                              'Meier', 'Kaufmann', 'Mozer'],\n",
    "                 'emp_firstname': ['Hans', 'Petra', 'Gabriele', 'Andreas', \n",
    "                                   'Rainer', 'Brigitte', 'Sibille'],\n",
    "                 'dep_number': ['a3', 'a3', 'a1', 'a2', 'a2', 'a2', 'tbd']},\n",
    "               index = ['25348', '10102', '18316', '29346', '9031', '2581', '28559'])\n",
    "emp.index.name = 'emp_number'\n",
    "\n",
    "work = DataFrame({'job': ['Projektleiter', 'Gruppenleiter', 'Sachbearbeiter', '', '', \n",
    "                          'Projektleiter', 'Gruppenleiter', '', 'Sachbearbeiter', \n",
    "                          'Sachbearbeiter', 'Sachbearbeiter']},\n",
    "                  index= [['p1', 'p3', 'p2', 'p2', 'p2', 'p3', \n",
    "                           'p1', 'p1', 'p2', 'p3', 'p1'], \n",
    "                         ['10102', '10102', '25348', '18316', '29346', '2581', \n",
    "                          '9031', '28559', '28559', '9031', '29346']])\n",
    "work.index.names = ['prj_number', 'emp_number']\n",
    "work.sort_index(inplace=True)"
   ]
  },
  {
   "cell_type": "markdown",
   "metadata": {},
   "source": [
    "- compute the inner join of emp and dep (on the dep_number).\n",
    "- compute the left outer join of emp and dep (again, on the dep_number).\n",
    "- compute the full outer join of work and emp (on the emp_number)"
   ]
  },
  {
   "cell_type": "code",
   "execution_count": null,
   "metadata": {},
   "outputs": [],
   "source": [
    "## Solutions"
   ]
  },
  {
   "cell_type": "markdown",
   "metadata": {},
   "source": [
    "## Aggregation and Grouping\n",
    "\n",
    "### Exercises\n"
   ]
  },
  {
   "cell_type": "markdown",
   "metadata": {},
   "source": [
    "### Aggregation and Computing Descriptive Statistics\n",
    "\n",
    "You just got the revenue numbers for Italy:"
   ]
  },
  {
   "cell_type": "code",
   "execution_count": null,
   "metadata": {},
   "outputs": [],
   "source": [
    "ita = DataFrame({\n",
    "    '2010': {'Pepe':1500, 'Romano':2500, 'Luigi':3500, \n",
    "             'Luigi':4000, 'Maria':2200}, \n",
    "    '2011': {'Mario': 6000, 'Maria': 1500, 'Luka': 1000, \n",
    "             'Luigi': 5000, 'Eva':10000}, \n",
    "    '2012': {'Mario': 3000, 'Romano': 500, 'Maria': 13000, \n",
    "             'Eva': 8700, 'Luigi':2900}})\n",
    "ita.index.name = 'customer'\n",
    "ita.columns.name='year'\n",
    "ita.name = 'Italy'"
   ]
  },
  {
   "cell_type": "markdown",
   "metadata": {},
   "source": [
    "- compute summary descriptives (using the `describe` method) to understand your revenue better\n",
    "- compute the revenue per year\n",
    "- compute the revenue per customer\n",
    "- compute the average revenue per customer"
   ]
  },
  {
   "cell_type": "code",
   "execution_count": null,
   "metadata": {},
   "outputs": [],
   "source": [
    "## Solutions"
   ]
  },
  {
   "cell_type": "markdown",
   "metadata": {},
   "source": [
    "### Grouping\n",
    "\n",
    "Let's look at the following DataFrame for the revenue of the USA:"
   ]
  },
  {
   "cell_type": "code",
   "execution_count": null,
   "metadata": {},
   "outputs": [],
   "source": [
    "usa = DataFrame({\n",
    "    '2010': {'Pepe':1500, 'Romano':2500, 'Luigi':3500, 'Luka': 1200,  \n",
    "             'Luigi':4000, 'Maria':2200, 'Mario': 5000, 'Eva': 0}, \n",
    "    '2011': {'Mario': 6000, 'Maria': 1500, 'Luka': 1000, \n",
    "             'Luigi': 5000, 'Eva':10000, 'Pepe':1600, 'Romano':2200}, \n",
    "    '2012': {'Mario': 3000, 'Romano': 500, 'Maria': 13000, 'Luka': 1000, \n",
    "             'Eva': 8700, 'Luigi':2900, 'Pepe':2000}})\n",
    "usa.index.name = 'customer'\n",
    "usa.columns.name='year'\n",
    "usa.name = 'USA'"
   ]
  },
  {
   "cell_type": "markdown",
   "metadata": {},
   "source": [
    "- compute the average revenue per year\n",
    "- compute the average revenue per customer\n",
    "- create a new DataFrame 'usanew' that has only one data column for the revenue and the customer and year as a hierarchical index.\n",
    "- compute summary statistics on 'usanew' (`describe`) per year"
   ]
  },
  {
   "cell_type": "code",
   "execution_count": null,
   "metadata": {},
   "outputs": [],
   "source": [
    "## Solutions"
   ]
  },
  {
   "cell_type": "markdown",
   "metadata": {},
   "source": [
    "## Pivot Tables\n",
    "\n",
    "Pivot tables are an extremely useful concept. We will not be using them in this class, nevertheless, if you haven't used them before, I strongly suggest you familiarize yourself with them. Apart from the Pandas methods, they are also availabel in Excel.\n"
   ]
  },
  {
   "cell_type": "markdown",
   "metadata": {},
   "source": [
    "## Vectorizing String Operations\n",
    "\n",
    "### Exercises\n"
   ]
  },
  {
   "cell_type": "markdown",
   "metadata": {},
   "source": [
    "#### String Manipulation\n",
    "\n",
    "Consider the following url:"
   ]
  },
  {
   "cell_type": "code",
   "execution_count": null,
   "metadata": {},
   "outputs": [],
   "source": [
    "url = 'http://datascience.inf.fh-rosenheim.de:8000/nice/perl/login?user=klaus&next=true&flag=false&data=xxx'"
   ]
  },
  {
   "cell_type": "markdown",
   "metadata": {},
   "source": [
    "- use the find, index and []-Python string functions to split this string into the part 'scheme', 'host', 'port', 'path' and 'query'\n",
    "- replace the '/' in the path with '::'\n",
    "- use the split method to split the 'query' into it's parts\n",
    "- extra problem: use a list comprehension to convert the list of query-parts into a dict\n"
   ]
  },
  {
   "cell_type": "code",
   "execution_count": null,
   "metadata": {},
   "outputs": [],
   "source": [
    "## Solutions"
   ]
  },
  {
   "cell_type": "markdown",
   "metadata": {},
   "source": [
    "#### Vectorized String Functions\n",
    "\n",
    "Consider the following Series:"
   ]
  },
  {
   "cell_type": "code",
   "execution_count": null,
   "metadata": {},
   "outputs": [],
   "source": [
    "addresses = Series({'Susi': 'Haupstr. 1, 83024 Rosenheim, Deutschland', 'Peter': 'Blumenweg 1, 80808 München, Deutschland', \n",
    "            'Anton': 'Mozartweg 8, 5020 Salzburg, Österreich', 'Ute': np.nan, 'Olaf': 'Wasserweg 13, 24103 Kiel, Deutschland'})\n"
   ]
  },
  {
   "cell_type": "markdown",
   "metadata": {},
   "source": [
    "- Use regular expression matching to vectorize these addresses into street, zip code, city and country (if your regex skills are rusty, read up on the basics, e.g. at https://docs.python.org/3/library/re.html\n",
    "- compute a Series containing the name and city for each person (Hint: this is not as easy as it sound, if you get confused, use the 'type' method to verify the datatypes of your (intermediate) results)"
   ]
  },
  {
   "cell_type": "code",
   "execution_count": null,
   "metadata": {},
   "outputs": [],
   "source": [
    "## Solutions"
   ]
  },
  {
   "cell_type": "markdown",
   "metadata": {},
   "source": [
    "### Indicator Variables\n",
    "\n",
    "Consider the following DataFrame of persons"
   ]
  },
  {
   "cell_type": "code",
   "execution_count": null,
   "metadata": {},
   "outputs": [],
   "source": [
    "person = DataFrame({'name': ['Susi', 'Karin', 'Hans', 'Peter', 'Hias'], \n",
    "                    'hair': ['blond', 'red', 'black', 'red', 'blond'],\n",
    "                    'sex': ['female', 'female', 'male', 'male', 'other']})"
   ]
  },
  {
   "cell_type": "markdown",
   "metadata": {},
   "source": [
    "- There are a number of Data Mining algorithms that cannot use such a dataset directly - all their input columns need to be numbers. Thus, you need to convert the column 'heir' to three different columns called 'blond', 'red' and 'black' and set exactly one of these to '1' for each row, and all others to '0'. The same need to be done for the 'sex' column. Add these six columns to person."
   ]
  },
  {
   "cell_type": "code",
   "execution_count": null,
   "metadata": {},
   "outputs": [],
   "source": [
    "## Solutions"
   ]
  },
  {
   "cell_type": "markdown",
   "metadata": {},
   "source": [
    "## Working with Time Series\n",
    "\n",
    "Handling times and dates is always a considerably challenge in every programming language. Pandas does provide extremely powerful concepts and methods in this area. Unfortunatly, we do not have time to dive into these in this class. If you ever need to analyse time series data, remember that Pandas is very well suited for this task and come back to this section!\n"
   ]
  },
  {
   "cell_type": "markdown",
   "metadata": {},
   "source": [
    "## High-Performance Pandas\n",
    "\n",
    "You can skip this section.\n"
   ]
  },
  {
   "cell_type": "markdown",
   "metadata": {},
   "source": [
    "---"
   ]
  }
 ],
 "metadata": {
  "kernelspec": {
   "display_name": "Python 3 (ipykernel)",
   "language": "python",
   "name": "python3"
  },
  "language_info": {
   "codemirror_mode": {
    "name": "ipython",
    "version": 3
   },
   "file_extension": ".py",
   "mimetype": "text/x-python",
   "name": "python",
   "nbconvert_exporter": "python",
   "pygments_lexer": "ipython3",
   "version": "3.10.6"
  }
 },
 "nbformat": 4,
 "nbformat_minor": 4
}

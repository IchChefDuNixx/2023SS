{
 "cells": [
  {
   "cell_type": "code",
   "execution_count": 1,
   "metadata": {},
   "outputs": [],
   "source": [
    "# This is Homework 06b (Pandas - Part 2) \n",
    "# of the \"Data Science\" class at Technische Hochschule Rosenheim"
   ]
  },
  {
   "cell_type": "markdown",
   "metadata": {},
   "source": [
    "## Pandas - Part 2\n",
    "\n",
    "### Exercises\n"
   ]
  },
  {
   "cell_type": "markdown",
   "metadata": {},
   "source": [
    "#### Starting Up\n",
    "\n",
    "- import NumPy and Pandas in the usual way and the Series and DataFrame classes from Pandas directly, so you can use them without prefix"
   ]
  },
  {
   "cell_type": "code",
   "execution_count": 2,
   "metadata": {},
   "outputs": [],
   "source": [
    "## Solutions"
   ]
  },
  {
   "cell_type": "code",
   "execution_count": 3,
   "metadata": {},
   "outputs": [],
   "source": [
    "import numpy as np\n",
    "import pandas as pd\n",
    "from pandas import Series, DataFrame"
   ]
  },
  {
   "cell_type": "markdown",
   "metadata": {},
   "source": [
    "## Combining Datasets - Concat and Append\n",
    "\n",
    "### Exercises\n"
   ]
  },
  {
   "cell_type": "markdown",
   "metadata": {},
   "source": [
    "### Concatenation\n",
    "\n",
    "Your ERP system is running on three servers in Germany, Austria and Italy. The employee information saved in these three systems is similar, but not identical:"
   ]
  },
  {
   "cell_type": "code",
   "execution_count": 4,
   "metadata": {},
   "outputs": [],
   "source": [
    "empg = DataFrame({'emp_name': ['Keller', 'Huber', 'Müller'],\n",
    "                 'emp_firstname': ['Hans', 'Petra', 'Gabriele'],\n",
    "                 'dep_number': ['a3', 'a3', 'a1']},\n",
    "               index = ['25348', '10102', '18316'])\n",
    "empg.index.name = 'emp_number'\n",
    "\n",
    "empa = DataFrame({'emp_name': ['Probst', 'Meier'],\n",
    "                 'emp_firstname': ['Andreas', 'Rainer'],\n",
    "                 'dep_number': ['a2', 'a2']},\n",
    "               index = ['29346', '9031'])\n",
    "empa.index.name = 'emp_number'"
   ]
  },
  {
   "cell_type": "markdown",
   "metadata": {},
   "source": [
    "- output empg and empa\n",
    "- combine empg and empa into one DataFrame"
   ]
  },
  {
   "cell_type": "code",
   "execution_count": 5,
   "metadata": {},
   "outputs": [],
   "source": [
    "## Solutions"
   ]
  },
  {
   "cell_type": "code",
   "execution_count": 6,
   "metadata": {},
   "outputs": [
    {
     "data": {
      "text/html": [
       "<div>\n",
       "<style scoped>\n",
       "    .dataframe tbody tr th:only-of-type {\n",
       "        vertical-align: middle;\n",
       "    }\n",
       "\n",
       "    .dataframe tbody tr th {\n",
       "        vertical-align: top;\n",
       "    }\n",
       "\n",
       "    .dataframe thead th {\n",
       "        text-align: right;\n",
       "    }\n",
       "</style>\n",
       "<table border=\"1\" class=\"dataframe\">\n",
       "  <thead>\n",
       "    <tr style=\"text-align: right;\">\n",
       "      <th></th>\n",
       "      <th>emp_name</th>\n",
       "      <th>emp_firstname</th>\n",
       "      <th>dep_number</th>\n",
       "    </tr>\n",
       "    <tr>\n",
       "      <th>emp_number</th>\n",
       "      <th></th>\n",
       "      <th></th>\n",
       "      <th></th>\n",
       "    </tr>\n",
       "  </thead>\n",
       "  <tbody>\n",
       "    <tr>\n",
       "      <th>25348</th>\n",
       "      <td>Keller</td>\n",
       "      <td>Hans</td>\n",
       "      <td>a3</td>\n",
       "    </tr>\n",
       "    <tr>\n",
       "      <th>10102</th>\n",
       "      <td>Huber</td>\n",
       "      <td>Petra</td>\n",
       "      <td>a3</td>\n",
       "    </tr>\n",
       "    <tr>\n",
       "      <th>18316</th>\n",
       "      <td>Müller</td>\n",
       "      <td>Gabriele</td>\n",
       "      <td>a1</td>\n",
       "    </tr>\n",
       "  </tbody>\n",
       "</table>\n",
       "</div>"
      ],
      "text/plain": [
       "           emp_name emp_firstname dep_number\n",
       "emp_number                                  \n",
       "25348        Keller          Hans         a3\n",
       "10102         Huber         Petra         a3\n",
       "18316        Müller      Gabriele         a1"
      ]
     },
     "execution_count": 6,
     "metadata": {},
     "output_type": "execute_result"
    }
   ],
   "source": [
    "empg"
   ]
  },
  {
   "cell_type": "code",
   "execution_count": 7,
   "metadata": {},
   "outputs": [
    {
     "data": {
      "text/html": [
       "<div>\n",
       "<style scoped>\n",
       "    .dataframe tbody tr th:only-of-type {\n",
       "        vertical-align: middle;\n",
       "    }\n",
       "\n",
       "    .dataframe tbody tr th {\n",
       "        vertical-align: top;\n",
       "    }\n",
       "\n",
       "    .dataframe thead th {\n",
       "        text-align: right;\n",
       "    }\n",
       "</style>\n",
       "<table border=\"1\" class=\"dataframe\">\n",
       "  <thead>\n",
       "    <tr style=\"text-align: right;\">\n",
       "      <th></th>\n",
       "      <th>emp_name</th>\n",
       "      <th>emp_firstname</th>\n",
       "      <th>dep_number</th>\n",
       "    </tr>\n",
       "    <tr>\n",
       "      <th>emp_number</th>\n",
       "      <th></th>\n",
       "      <th></th>\n",
       "      <th></th>\n",
       "    </tr>\n",
       "  </thead>\n",
       "  <tbody>\n",
       "    <tr>\n",
       "      <th>29346</th>\n",
       "      <td>Probst</td>\n",
       "      <td>Andreas</td>\n",
       "      <td>a2</td>\n",
       "    </tr>\n",
       "    <tr>\n",
       "      <th>9031</th>\n",
       "      <td>Meier</td>\n",
       "      <td>Rainer</td>\n",
       "      <td>a2</td>\n",
       "    </tr>\n",
       "  </tbody>\n",
       "</table>\n",
       "</div>"
      ],
      "text/plain": [
       "           emp_name emp_firstname dep_number\n",
       "emp_number                                  \n",
       "29346        Probst       Andreas         a2\n",
       "9031          Meier        Rainer         a2"
      ]
     },
     "execution_count": 7,
     "metadata": {},
     "output_type": "execute_result"
    }
   ],
   "source": [
    "empa"
   ]
  },
  {
   "cell_type": "code",
   "execution_count": 8,
   "metadata": {},
   "outputs": [
    {
     "data": {
      "text/html": [
       "<div>\n",
       "<style scoped>\n",
       "    .dataframe tbody tr th:only-of-type {\n",
       "        vertical-align: middle;\n",
       "    }\n",
       "\n",
       "    .dataframe tbody tr th {\n",
       "        vertical-align: top;\n",
       "    }\n",
       "\n",
       "    .dataframe thead th {\n",
       "        text-align: right;\n",
       "    }\n",
       "</style>\n",
       "<table border=\"1\" class=\"dataframe\">\n",
       "  <thead>\n",
       "    <tr style=\"text-align: right;\">\n",
       "      <th></th>\n",
       "      <th>emp_name</th>\n",
       "      <th>emp_firstname</th>\n",
       "      <th>dep_number</th>\n",
       "    </tr>\n",
       "    <tr>\n",
       "      <th>emp_number</th>\n",
       "      <th></th>\n",
       "      <th></th>\n",
       "      <th></th>\n",
       "    </tr>\n",
       "  </thead>\n",
       "  <tbody>\n",
       "    <tr>\n",
       "      <th>25348</th>\n",
       "      <td>Keller</td>\n",
       "      <td>Hans</td>\n",
       "      <td>a3</td>\n",
       "    </tr>\n",
       "    <tr>\n",
       "      <th>10102</th>\n",
       "      <td>Huber</td>\n",
       "      <td>Petra</td>\n",
       "      <td>a3</td>\n",
       "    </tr>\n",
       "    <tr>\n",
       "      <th>18316</th>\n",
       "      <td>Müller</td>\n",
       "      <td>Gabriele</td>\n",
       "      <td>a1</td>\n",
       "    </tr>\n",
       "    <tr>\n",
       "      <th>29346</th>\n",
       "      <td>Probst</td>\n",
       "      <td>Andreas</td>\n",
       "      <td>a2</td>\n",
       "    </tr>\n",
       "    <tr>\n",
       "      <th>9031</th>\n",
       "      <td>Meier</td>\n",
       "      <td>Rainer</td>\n",
       "      <td>a2</td>\n",
       "    </tr>\n",
       "  </tbody>\n",
       "</table>\n",
       "</div>"
      ],
      "text/plain": [
       "           emp_name emp_firstname dep_number\n",
       "emp_number                                  \n",
       "25348        Keller          Hans         a3\n",
       "10102         Huber         Petra         a3\n",
       "18316        Müller      Gabriele         a1\n",
       "29346        Probst       Andreas         a2\n",
       "9031          Meier        Rainer         a2"
      ]
     },
     "execution_count": 8,
     "metadata": {},
     "output_type": "execute_result"
    }
   ],
   "source": [
    "pd.concat([empg, empa])"
   ]
  },
  {
   "cell_type": "markdown",
   "metadata": {},
   "source": [
    "## Combining Datasets - Merge and Join\n",
    "\n",
    "### Exercises\n"
   ]
  },
  {
   "cell_type": "markdown",
   "metadata": {},
   "source": [
    "An ERP system of a German company contains the following DataFrames about with information about departments and employees:"
   ]
  },
  {
   "cell_type": "code",
   "execution_count": 9,
   "metadata": {},
   "outputs": [],
   "source": [
    "dep = DataFrame({'dep_name': [ 'Beratung', 'Diagnose', 'Freigabe'], \n",
    "                 'dep_city': ['München', 'München', 'Stuttgar']}, \n",
    "                 index = ['a1', 'a2', 'a3'])\n",
    "dep.index.name = 'dep_number'\n",
    "\n",
    "emp = DataFrame({'emp_name': ['Keller', 'Huber', 'Müller', 'Probst', \n",
    "                              'Meier', 'Kaufmann', 'Mozer'],\n",
    "                 'emp_firstname': ['Hans', 'Petra', 'Gabriele', 'Andreas', \n",
    "                                   'Rainer', 'Brigitte', 'Sibille'],\n",
    "                 'dep_number': ['a3', 'a3', 'a1', 'a2', 'a2', 'a2', 'tbd']},\n",
    "               index = ['25348', '10102', '18316', '29346', '9031', '2581', '28559'])\n",
    "emp.index.name = 'emp_number'\n",
    "\n",
    "work = DataFrame({'job': ['Projektleiter', 'Gruppenleiter', 'Sachbearbeiter', '', '', \n",
    "                          'Projektleiter', 'Gruppenleiter', '', 'Sachbearbeiter', \n",
    "                          'Sachbearbeiter', 'Sachbearbeiter']},\n",
    "                  index= [['p1', 'p3', 'p2', 'p2', 'p2', 'p3', \n",
    "                           'p1', 'p1', 'p2', 'p3', 'p1'], \n",
    "                         ['10102', '10102', '25348', '18316', '29346', '2581', \n",
    "                          '9031', '28559', '28559', '9031', '29346']])\n",
    "work.index.names = ['prj_number', 'emp_number']\n",
    "work.sort_index(inplace=True)"
   ]
  },
  {
   "cell_type": "markdown",
   "metadata": {},
   "source": [
    "- compute the inner join of emp and dep (on the dep_number).\n",
    "- compute the left outer join of emp and dep (again, on the dep_number).\n",
    "- compute the full outer join of work and emp (on the emp_number)"
   ]
  },
  {
   "cell_type": "code",
   "execution_count": 10,
   "metadata": {},
   "outputs": [],
   "source": [
    "## Solutions"
   ]
  },
  {
   "cell_type": "code",
   "execution_count": 11,
   "metadata": {},
   "outputs": [
    {
     "data": {
      "text/html": [
       "<div>\n",
       "<style scoped>\n",
       "    .dataframe tbody tr th:only-of-type {\n",
       "        vertical-align: middle;\n",
       "    }\n",
       "\n",
       "    .dataframe tbody tr th {\n",
       "        vertical-align: top;\n",
       "    }\n",
       "\n",
       "    .dataframe thead th {\n",
       "        text-align: right;\n",
       "    }\n",
       "</style>\n",
       "<table border=\"1\" class=\"dataframe\">\n",
       "  <thead>\n",
       "    <tr style=\"text-align: right;\">\n",
       "      <th></th>\n",
       "      <th>emp_name</th>\n",
       "      <th>emp_firstname</th>\n",
       "      <th>dep_number</th>\n",
       "      <th>dep_name</th>\n",
       "      <th>dep_city</th>\n",
       "    </tr>\n",
       "    <tr>\n",
       "      <th>emp_number</th>\n",
       "      <th></th>\n",
       "      <th></th>\n",
       "      <th></th>\n",
       "      <th></th>\n",
       "      <th></th>\n",
       "    </tr>\n",
       "  </thead>\n",
       "  <tbody>\n",
       "    <tr>\n",
       "      <th>25348</th>\n",
       "      <td>Keller</td>\n",
       "      <td>Hans</td>\n",
       "      <td>a3</td>\n",
       "      <td>Freigabe</td>\n",
       "      <td>Stuttgar</td>\n",
       "    </tr>\n",
       "    <tr>\n",
       "      <th>10102</th>\n",
       "      <td>Huber</td>\n",
       "      <td>Petra</td>\n",
       "      <td>a3</td>\n",
       "      <td>Freigabe</td>\n",
       "      <td>Stuttgar</td>\n",
       "    </tr>\n",
       "    <tr>\n",
       "      <th>18316</th>\n",
       "      <td>Müller</td>\n",
       "      <td>Gabriele</td>\n",
       "      <td>a1</td>\n",
       "      <td>Beratung</td>\n",
       "      <td>München</td>\n",
       "    </tr>\n",
       "    <tr>\n",
       "      <th>29346</th>\n",
       "      <td>Probst</td>\n",
       "      <td>Andreas</td>\n",
       "      <td>a2</td>\n",
       "      <td>Diagnose</td>\n",
       "      <td>München</td>\n",
       "    </tr>\n",
       "    <tr>\n",
       "      <th>9031</th>\n",
       "      <td>Meier</td>\n",
       "      <td>Rainer</td>\n",
       "      <td>a2</td>\n",
       "      <td>Diagnose</td>\n",
       "      <td>München</td>\n",
       "    </tr>\n",
       "    <tr>\n",
       "      <th>2581</th>\n",
       "      <td>Kaufmann</td>\n",
       "      <td>Brigitte</td>\n",
       "      <td>a2</td>\n",
       "      <td>Diagnose</td>\n",
       "      <td>München</td>\n",
       "    </tr>\n",
       "  </tbody>\n",
       "</table>\n",
       "</div>"
      ],
      "text/plain": [
       "            emp_name emp_firstname dep_number  dep_name  dep_city\n",
       "emp_number                                                       \n",
       "25348         Keller          Hans         a3  Freigabe  Stuttgar\n",
       "10102          Huber         Petra         a3  Freigabe  Stuttgar\n",
       "18316         Müller      Gabriele         a1  Beratung   München\n",
       "29346         Probst       Andreas         a2  Diagnose   München\n",
       "9031           Meier        Rainer         a2  Diagnose   München\n",
       "2581        Kaufmann      Brigitte         a2  Diagnose   München"
      ]
     },
     "execution_count": 11,
     "metadata": {},
     "output_type": "execute_result"
    }
   ],
   "source": [
    "pd.merge(emp, dep, left_on='dep_number', right_index=True)"
   ]
  },
  {
   "cell_type": "code",
   "execution_count": 12,
   "metadata": {},
   "outputs": [
    {
     "data": {
      "text/html": [
       "<div>\n",
       "<style scoped>\n",
       "    .dataframe tbody tr th:only-of-type {\n",
       "        vertical-align: middle;\n",
       "    }\n",
       "\n",
       "    .dataframe tbody tr th {\n",
       "        vertical-align: top;\n",
       "    }\n",
       "\n",
       "    .dataframe thead th {\n",
       "        text-align: right;\n",
       "    }\n",
       "</style>\n",
       "<table border=\"1\" class=\"dataframe\">\n",
       "  <thead>\n",
       "    <tr style=\"text-align: right;\">\n",
       "      <th></th>\n",
       "      <th>emp_name</th>\n",
       "      <th>emp_firstname</th>\n",
       "      <th>dep_number</th>\n",
       "      <th>dep_name</th>\n",
       "      <th>dep_city</th>\n",
       "    </tr>\n",
       "    <tr>\n",
       "      <th>emp_number</th>\n",
       "      <th></th>\n",
       "      <th></th>\n",
       "      <th></th>\n",
       "      <th></th>\n",
       "      <th></th>\n",
       "    </tr>\n",
       "  </thead>\n",
       "  <tbody>\n",
       "    <tr>\n",
       "      <th>25348</th>\n",
       "      <td>Keller</td>\n",
       "      <td>Hans</td>\n",
       "      <td>a3</td>\n",
       "      <td>Freigabe</td>\n",
       "      <td>Stuttgar</td>\n",
       "    </tr>\n",
       "    <tr>\n",
       "      <th>10102</th>\n",
       "      <td>Huber</td>\n",
       "      <td>Petra</td>\n",
       "      <td>a3</td>\n",
       "      <td>Freigabe</td>\n",
       "      <td>Stuttgar</td>\n",
       "    </tr>\n",
       "    <tr>\n",
       "      <th>18316</th>\n",
       "      <td>Müller</td>\n",
       "      <td>Gabriele</td>\n",
       "      <td>a1</td>\n",
       "      <td>Beratung</td>\n",
       "      <td>München</td>\n",
       "    </tr>\n",
       "    <tr>\n",
       "      <th>29346</th>\n",
       "      <td>Probst</td>\n",
       "      <td>Andreas</td>\n",
       "      <td>a2</td>\n",
       "      <td>Diagnose</td>\n",
       "      <td>München</td>\n",
       "    </tr>\n",
       "    <tr>\n",
       "      <th>9031</th>\n",
       "      <td>Meier</td>\n",
       "      <td>Rainer</td>\n",
       "      <td>a2</td>\n",
       "      <td>Diagnose</td>\n",
       "      <td>München</td>\n",
       "    </tr>\n",
       "    <tr>\n",
       "      <th>2581</th>\n",
       "      <td>Kaufmann</td>\n",
       "      <td>Brigitte</td>\n",
       "      <td>a2</td>\n",
       "      <td>Diagnose</td>\n",
       "      <td>München</td>\n",
       "    </tr>\n",
       "    <tr>\n",
       "      <th>28559</th>\n",
       "      <td>Mozer</td>\n",
       "      <td>Sibille</td>\n",
       "      <td>tbd</td>\n",
       "      <td>NaN</td>\n",
       "      <td>NaN</td>\n",
       "    </tr>\n",
       "  </tbody>\n",
       "</table>\n",
       "</div>"
      ],
      "text/plain": [
       "            emp_name emp_firstname dep_number  dep_name  dep_city\n",
       "emp_number                                                       \n",
       "25348         Keller          Hans         a3  Freigabe  Stuttgar\n",
       "10102          Huber         Petra         a3  Freigabe  Stuttgar\n",
       "18316         Müller      Gabriele         a1  Beratung   München\n",
       "29346         Probst       Andreas         a2  Diagnose   München\n",
       "9031           Meier        Rainer         a2  Diagnose   München\n",
       "2581        Kaufmann      Brigitte         a2  Diagnose   München\n",
       "28559          Mozer       Sibille        tbd       NaN       NaN"
      ]
     },
     "execution_count": 12,
     "metadata": {},
     "output_type": "execute_result"
    }
   ],
   "source": [
    "pd.merge(emp, dep, left_on='dep_number', right_index=True, how='left')"
   ]
  },
  {
   "cell_type": "code",
   "execution_count": 13,
   "metadata": {},
   "outputs": [
    {
     "data": {
      "text/html": [
       "<div>\n",
       "<style scoped>\n",
       "    .dataframe tbody tr th:only-of-type {\n",
       "        vertical-align: middle;\n",
       "    }\n",
       "\n",
       "    .dataframe tbody tr th {\n",
       "        vertical-align: top;\n",
       "    }\n",
       "\n",
       "    .dataframe thead th {\n",
       "        text-align: right;\n",
       "    }\n",
       "</style>\n",
       "<table border=\"1\" class=\"dataframe\">\n",
       "  <thead>\n",
       "    <tr style=\"text-align: right;\">\n",
       "      <th></th>\n",
       "      <th></th>\n",
       "      <th>job</th>\n",
       "      <th>emp_name</th>\n",
       "      <th>emp_firstname</th>\n",
       "      <th>dep_number</th>\n",
       "    </tr>\n",
       "    <tr>\n",
       "      <th>prj_number</th>\n",
       "      <th>emp_number</th>\n",
       "      <th></th>\n",
       "      <th></th>\n",
       "      <th></th>\n",
       "      <th></th>\n",
       "    </tr>\n",
       "  </thead>\n",
       "  <tbody>\n",
       "    <tr>\n",
       "      <th rowspan=\"4\" valign=\"top\">p1</th>\n",
       "      <th>10102</th>\n",
       "      <td>Projektleiter</td>\n",
       "      <td>Huber</td>\n",
       "      <td>Petra</td>\n",
       "      <td>a3</td>\n",
       "    </tr>\n",
       "    <tr>\n",
       "      <th>28559</th>\n",
       "      <td></td>\n",
       "      <td>Mozer</td>\n",
       "      <td>Sibille</td>\n",
       "      <td>tbd</td>\n",
       "    </tr>\n",
       "    <tr>\n",
       "      <th>29346</th>\n",
       "      <td>Sachbearbeiter</td>\n",
       "      <td>Probst</td>\n",
       "      <td>Andreas</td>\n",
       "      <td>a2</td>\n",
       "    </tr>\n",
       "    <tr>\n",
       "      <th>9031</th>\n",
       "      <td>Gruppenleiter</td>\n",
       "      <td>Meier</td>\n",
       "      <td>Rainer</td>\n",
       "      <td>a2</td>\n",
       "    </tr>\n",
       "    <tr>\n",
       "      <th rowspan=\"4\" valign=\"top\">p2</th>\n",
       "      <th>18316</th>\n",
       "      <td></td>\n",
       "      <td>Müller</td>\n",
       "      <td>Gabriele</td>\n",
       "      <td>a1</td>\n",
       "    </tr>\n",
       "    <tr>\n",
       "      <th>25348</th>\n",
       "      <td>Sachbearbeiter</td>\n",
       "      <td>Keller</td>\n",
       "      <td>Hans</td>\n",
       "      <td>a3</td>\n",
       "    </tr>\n",
       "    <tr>\n",
       "      <th>28559</th>\n",
       "      <td>Sachbearbeiter</td>\n",
       "      <td>Mozer</td>\n",
       "      <td>Sibille</td>\n",
       "      <td>tbd</td>\n",
       "    </tr>\n",
       "    <tr>\n",
       "      <th>29346</th>\n",
       "      <td></td>\n",
       "      <td>Probst</td>\n",
       "      <td>Andreas</td>\n",
       "      <td>a2</td>\n",
       "    </tr>\n",
       "    <tr>\n",
       "      <th rowspan=\"3\" valign=\"top\">p3</th>\n",
       "      <th>10102</th>\n",
       "      <td>Gruppenleiter</td>\n",
       "      <td>Huber</td>\n",
       "      <td>Petra</td>\n",
       "      <td>a3</td>\n",
       "    </tr>\n",
       "    <tr>\n",
       "      <th>2581</th>\n",
       "      <td>Projektleiter</td>\n",
       "      <td>Kaufmann</td>\n",
       "      <td>Brigitte</td>\n",
       "      <td>a2</td>\n",
       "    </tr>\n",
       "    <tr>\n",
       "      <th>9031</th>\n",
       "      <td>Sachbearbeiter</td>\n",
       "      <td>Meier</td>\n",
       "      <td>Rainer</td>\n",
       "      <td>a2</td>\n",
       "    </tr>\n",
       "  </tbody>\n",
       "</table>\n",
       "</div>"
      ],
      "text/plain": [
       "                                  job  emp_name emp_firstname dep_number\n",
       "prj_number emp_number                                                   \n",
       "p1         10102        Projektleiter     Huber         Petra         a3\n",
       "           28559                          Mozer       Sibille        tbd\n",
       "           29346       Sachbearbeiter    Probst       Andreas         a2\n",
       "           9031         Gruppenleiter     Meier        Rainer         a2\n",
       "p2         18316                         Müller      Gabriele         a1\n",
       "           25348       Sachbearbeiter    Keller          Hans         a3\n",
       "           28559       Sachbearbeiter     Mozer       Sibille        tbd\n",
       "           29346                         Probst       Andreas         a2\n",
       "p3         10102        Gruppenleiter     Huber         Petra         a3\n",
       "           2581         Projektleiter  Kaufmann      Brigitte         a2\n",
       "           9031        Sachbearbeiter     Meier        Rainer         a2"
      ]
     },
     "execution_count": 13,
     "metadata": {},
     "output_type": "execute_result"
    }
   ],
   "source": [
    "pd.merge(work, emp, how='outer', left_index=True, right_index=True)"
   ]
  },
  {
   "cell_type": "markdown",
   "metadata": {},
   "source": [
    "## Aggregation and Grouping\n",
    "\n",
    "### Exercises\n"
   ]
  },
  {
   "cell_type": "markdown",
   "metadata": {},
   "source": [
    "### Aggregation and Computing Descriptive Statistics\n",
    "\n",
    "You just got the revenue numbers for Italy:"
   ]
  },
  {
   "cell_type": "code",
   "execution_count": 14,
   "metadata": {},
   "outputs": [],
   "source": [
    "ita = DataFrame({\n",
    "    '2010': {'Pepe':1500, 'Romano':2500, 'Luigi':3500, \n",
    "             'Luigi':4000, 'Maria':2200}, \n",
    "    '2011': {'Mario': 6000, 'Maria': 1500, 'Luka': 1000, \n",
    "             'Luigi': 5000, 'Eva':10000}, \n",
    "    '2012': {'Mario': 3000, 'Romano': 500, 'Maria': 13000, \n",
    "             'Eva': 8700, 'Luigi':2900}})\n",
    "ita.index.name = 'customer'\n",
    "ita.columns.name='year'\n",
    "ita.name = 'Italy'"
   ]
  },
  {
   "cell_type": "markdown",
   "metadata": {},
   "source": [
    "- compute summary descriptives (using the `describe` method) to understand your revenue better\n",
    "- compute the revenue per year\n",
    "- compute the revenue per customer\n",
    "- compute the average revenue per customer"
   ]
  },
  {
   "cell_type": "code",
   "execution_count": 15,
   "metadata": {},
   "outputs": [],
   "source": [
    "## Solutions"
   ]
  },
  {
   "cell_type": "code",
   "execution_count": 16,
   "metadata": {},
   "outputs": [
    {
     "data": {
      "text/html": [
       "<div>\n",
       "<style scoped>\n",
       "    .dataframe tbody tr th:only-of-type {\n",
       "        vertical-align: middle;\n",
       "    }\n",
       "\n",
       "    .dataframe tbody tr th {\n",
       "        vertical-align: top;\n",
       "    }\n",
       "\n",
       "    .dataframe thead th {\n",
       "        text-align: right;\n",
       "    }\n",
       "</style>\n",
       "<table border=\"1\" class=\"dataframe\">\n",
       "  <thead>\n",
       "    <tr style=\"text-align: right;\">\n",
       "      <th>year</th>\n",
       "      <th>2010</th>\n",
       "      <th>2011</th>\n",
       "      <th>2012</th>\n",
       "    </tr>\n",
       "    <tr>\n",
       "      <th>customer</th>\n",
       "      <th></th>\n",
       "      <th></th>\n",
       "      <th></th>\n",
       "    </tr>\n",
       "  </thead>\n",
       "  <tbody>\n",
       "    <tr>\n",
       "      <th>Pepe</th>\n",
       "      <td>1500.0</td>\n",
       "      <td>NaN</td>\n",
       "      <td>NaN</td>\n",
       "    </tr>\n",
       "    <tr>\n",
       "      <th>Romano</th>\n",
       "      <td>2500.0</td>\n",
       "      <td>NaN</td>\n",
       "      <td>500.0</td>\n",
       "    </tr>\n",
       "    <tr>\n",
       "      <th>Luigi</th>\n",
       "      <td>4000.0</td>\n",
       "      <td>5000.0</td>\n",
       "      <td>2900.0</td>\n",
       "    </tr>\n",
       "    <tr>\n",
       "      <th>Maria</th>\n",
       "      <td>2200.0</td>\n",
       "      <td>1500.0</td>\n",
       "      <td>13000.0</td>\n",
       "    </tr>\n",
       "    <tr>\n",
       "      <th>Mario</th>\n",
       "      <td>NaN</td>\n",
       "      <td>6000.0</td>\n",
       "      <td>3000.0</td>\n",
       "    </tr>\n",
       "    <tr>\n",
       "      <th>Luka</th>\n",
       "      <td>NaN</td>\n",
       "      <td>1000.0</td>\n",
       "      <td>NaN</td>\n",
       "    </tr>\n",
       "    <tr>\n",
       "      <th>Eva</th>\n",
       "      <td>NaN</td>\n",
       "      <td>10000.0</td>\n",
       "      <td>8700.0</td>\n",
       "    </tr>\n",
       "  </tbody>\n",
       "</table>\n",
       "</div>"
      ],
      "text/plain": [
       "year        2010     2011     2012\n",
       "customer                          \n",
       "Pepe      1500.0      NaN      NaN\n",
       "Romano    2500.0      NaN    500.0\n",
       "Luigi     4000.0   5000.0   2900.0\n",
       "Maria     2200.0   1500.0  13000.0\n",
       "Mario        NaN   6000.0   3000.0\n",
       "Luka         NaN   1000.0      NaN\n",
       "Eva          NaN  10000.0   8700.0"
      ]
     },
     "execution_count": 16,
     "metadata": {},
     "output_type": "execute_result"
    }
   ],
   "source": [
    "ita"
   ]
  },
  {
   "cell_type": "code",
   "execution_count": 17,
   "metadata": {},
   "outputs": [
    {
     "data": {
      "text/html": [
       "<div>\n",
       "<style scoped>\n",
       "    .dataframe tbody tr th:only-of-type {\n",
       "        vertical-align: middle;\n",
       "    }\n",
       "\n",
       "    .dataframe tbody tr th {\n",
       "        vertical-align: top;\n",
       "    }\n",
       "\n",
       "    .dataframe thead th {\n",
       "        text-align: right;\n",
       "    }\n",
       "</style>\n",
       "<table border=\"1\" class=\"dataframe\">\n",
       "  <thead>\n",
       "    <tr style=\"text-align: right;\">\n",
       "      <th>year</th>\n",
       "      <th>2010</th>\n",
       "      <th>2011</th>\n",
       "      <th>2012</th>\n",
       "    </tr>\n",
       "  </thead>\n",
       "  <tbody>\n",
       "    <tr>\n",
       "      <th>count</th>\n",
       "      <td>4.000000</td>\n",
       "      <td>5.000000</td>\n",
       "      <td>5.000000</td>\n",
       "    </tr>\n",
       "    <tr>\n",
       "      <th>mean</th>\n",
       "      <td>2550.000000</td>\n",
       "      <td>4700.000000</td>\n",
       "      <td>5620.000000</td>\n",
       "    </tr>\n",
       "    <tr>\n",
       "      <th>std</th>\n",
       "      <td>1053.565375</td>\n",
       "      <td>3667.424164</td>\n",
       "      <td>5109.500954</td>\n",
       "    </tr>\n",
       "    <tr>\n",
       "      <th>min</th>\n",
       "      <td>1500.000000</td>\n",
       "      <td>1000.000000</td>\n",
       "      <td>500.000000</td>\n",
       "    </tr>\n",
       "    <tr>\n",
       "      <th>25%</th>\n",
       "      <td>2025.000000</td>\n",
       "      <td>1500.000000</td>\n",
       "      <td>2900.000000</td>\n",
       "    </tr>\n",
       "    <tr>\n",
       "      <th>50%</th>\n",
       "      <td>2350.000000</td>\n",
       "      <td>5000.000000</td>\n",
       "      <td>3000.000000</td>\n",
       "    </tr>\n",
       "    <tr>\n",
       "      <th>75%</th>\n",
       "      <td>2875.000000</td>\n",
       "      <td>6000.000000</td>\n",
       "      <td>8700.000000</td>\n",
       "    </tr>\n",
       "    <tr>\n",
       "      <th>max</th>\n",
       "      <td>4000.000000</td>\n",
       "      <td>10000.000000</td>\n",
       "      <td>13000.000000</td>\n",
       "    </tr>\n",
       "  </tbody>\n",
       "</table>\n",
       "</div>"
      ],
      "text/plain": [
       "year          2010          2011          2012\n",
       "count     4.000000      5.000000      5.000000\n",
       "mean   2550.000000   4700.000000   5620.000000\n",
       "std    1053.565375   3667.424164   5109.500954\n",
       "min    1500.000000   1000.000000    500.000000\n",
       "25%    2025.000000   1500.000000   2900.000000\n",
       "50%    2350.000000   5000.000000   3000.000000\n",
       "75%    2875.000000   6000.000000   8700.000000\n",
       "max    4000.000000  10000.000000  13000.000000"
      ]
     },
     "execution_count": 17,
     "metadata": {},
     "output_type": "execute_result"
    }
   ],
   "source": [
    "ita.describe()"
   ]
  },
  {
   "cell_type": "code",
   "execution_count": 18,
   "metadata": {},
   "outputs": [
    {
     "data": {
      "text/plain": [
       "year\n",
       "2010    10200.0\n",
       "2011    23500.0\n",
       "2012    28100.0\n",
       "dtype: float64"
      ]
     },
     "execution_count": 18,
     "metadata": {},
     "output_type": "execute_result"
    }
   ],
   "source": [
    "ita.sum()"
   ]
  },
  {
   "cell_type": "code",
   "execution_count": 19,
   "metadata": {},
   "outputs": [
    {
     "data": {
      "text/plain": [
       "customer\n",
       "Pepe       1500.0\n",
       "Romano     3000.0\n",
       "Luigi     11900.0\n",
       "Maria     16700.0\n",
       "Mario      9000.0\n",
       "Luka       1000.0\n",
       "Eva       18700.0\n",
       "dtype: float64"
      ]
     },
     "execution_count": 19,
     "metadata": {},
     "output_type": "execute_result"
    }
   ],
   "source": [
    "ita.sum(axis=1)"
   ]
  },
  {
   "cell_type": "code",
   "execution_count": 20,
   "metadata": {},
   "outputs": [
    {
     "data": {
      "text/plain": [
       "customer\n",
       "Pepe      1500.000000\n",
       "Romano    1500.000000\n",
       "Luigi     3966.666667\n",
       "Maria     5566.666667\n",
       "Mario     4500.000000\n",
       "Luka      1000.000000\n",
       "Eva       9350.000000\n",
       "dtype: float64"
      ]
     },
     "execution_count": 20,
     "metadata": {},
     "output_type": "execute_result"
    }
   ],
   "source": [
    "ita.mean(axis=1)"
   ]
  },
  {
   "cell_type": "markdown",
   "metadata": {},
   "source": [
    "### Grouping\n",
    "\n",
    "Let's look at the following DataFrame for the revenue of the USA:"
   ]
  },
  {
   "cell_type": "code",
   "execution_count": 21,
   "metadata": {},
   "outputs": [],
   "source": [
    "usa = DataFrame({\n",
    "    '2010': {'Pepe':1500, 'Romano':2500, 'Luigi':3500, 'Luka': 1200,  \n",
    "             'Luigi':4000, 'Maria':2200, 'Mario': 5000, 'Eva': 0}, \n",
    "    '2011': {'Mario': 6000, 'Maria': 1500, 'Luka': 1000, \n",
    "             'Luigi': 5000, 'Eva':10000, 'Pepe':1600, 'Romano':2200}, \n",
    "    '2012': {'Mario': 3000, 'Romano': 500, 'Maria': 13000, 'Luka': 1000, \n",
    "             'Eva': 8700, 'Luigi':2900, 'Pepe':2000}})\n",
    "usa.index.name = 'customer'\n",
    "usa.columns.name='year'\n",
    "usa.name = 'USA'"
   ]
  },
  {
   "cell_type": "markdown",
   "metadata": {},
   "source": [
    "- compute the average revenue per year\n",
    "- compute the average revenue per customer\n",
    "- create a new DataFrame 'usanew' that has only one data column for the revenue and the customer and year as a hierarchical index.\n",
    "- compute summary statistics on 'usanew' (`describe`) per year"
   ]
  },
  {
   "cell_type": "code",
   "execution_count": 22,
   "metadata": {},
   "outputs": [],
   "source": [
    "## Solutions"
   ]
  },
  {
   "cell_type": "code",
   "execution_count": 23,
   "metadata": {},
   "outputs": [
    {
     "data": {
      "text/plain": [
       "year\n",
       "2010    2342.857143\n",
       "2011    3900.000000\n",
       "2012    4442.857143\n",
       "dtype: float64"
      ]
     },
     "execution_count": 23,
     "metadata": {},
     "output_type": "execute_result"
    }
   ],
   "source": [
    "usa.mean()"
   ]
  },
  {
   "cell_type": "code",
   "execution_count": 24,
   "metadata": {},
   "outputs": [
    {
     "data": {
      "text/plain": [
       "customer\n",
       "Pepe      1700.000000\n",
       "Romano    1733.333333\n",
       "Luigi     3966.666667\n",
       "Luka      1066.666667\n",
       "Maria     5566.666667\n",
       "Mario     4666.666667\n",
       "Eva       6233.333333\n",
       "dtype: float64"
      ]
     },
     "execution_count": 24,
     "metadata": {},
     "output_type": "execute_result"
    }
   ],
   "source": [
    "usa.mean(axis=1)"
   ]
  },
  {
   "cell_type": "code",
   "execution_count": 25,
   "metadata": {},
   "outputs": [
    {
     "data": {
      "text/plain": [
       "year  customer\n",
       "2010  Pepe         1500\n",
       "      Romano       2500\n",
       "      Luigi        4000\n",
       "      Luka         1200\n",
       "      Maria        2200\n",
       "      Mario        5000\n",
       "      Eva             0\n",
       "2011  Pepe         1600\n",
       "      Romano       2200\n",
       "      Luigi        5000\n",
       "      Luka         1000\n",
       "      Maria        1500\n",
       "      Mario        6000\n",
       "      Eva         10000\n",
       "2012  Pepe         2000\n",
       "      Romano        500\n",
       "      Luigi        2900\n",
       "      Luka         1000\n",
       "      Maria       13000\n",
       "      Mario        3000\n",
       "      Eva          8700\n",
       "dtype: int64"
      ]
     },
     "execution_count": 25,
     "metadata": {},
     "output_type": "execute_result"
    }
   ],
   "source": [
    "usanew = usa.unstack()\n",
    "usanew"
   ]
  },
  {
   "cell_type": "code",
   "execution_count": 26,
   "metadata": {},
   "outputs": [
    {
     "data": {
      "text/html": [
       "<div>\n",
       "<style scoped>\n",
       "    .dataframe tbody tr th:only-of-type {\n",
       "        vertical-align: middle;\n",
       "    }\n",
       "\n",
       "    .dataframe tbody tr th {\n",
       "        vertical-align: top;\n",
       "    }\n",
       "\n",
       "    .dataframe thead th {\n",
       "        text-align: right;\n",
       "    }\n",
       "</style>\n",
       "<table border=\"1\" class=\"dataframe\">\n",
       "  <thead>\n",
       "    <tr style=\"text-align: right;\">\n",
       "      <th></th>\n",
       "      <th>count</th>\n",
       "      <th>mean</th>\n",
       "      <th>std</th>\n",
       "      <th>min</th>\n",
       "      <th>25%</th>\n",
       "      <th>50%</th>\n",
       "      <th>75%</th>\n",
       "      <th>max</th>\n",
       "    </tr>\n",
       "    <tr>\n",
       "      <th>year</th>\n",
       "      <th></th>\n",
       "      <th></th>\n",
       "      <th></th>\n",
       "      <th></th>\n",
       "      <th></th>\n",
       "      <th></th>\n",
       "      <th></th>\n",
       "      <th></th>\n",
       "    </tr>\n",
       "  </thead>\n",
       "  <tbody>\n",
       "    <tr>\n",
       "      <th>2010</th>\n",
       "      <td>7.0</td>\n",
       "      <td>2342.857143</td>\n",
       "      <td>1700.840129</td>\n",
       "      <td>0.0</td>\n",
       "      <td>1350.0</td>\n",
       "      <td>2200.0</td>\n",
       "      <td>3250.0</td>\n",
       "      <td>5000.0</td>\n",
       "    </tr>\n",
       "    <tr>\n",
       "      <th>2011</th>\n",
       "      <td>7.0</td>\n",
       "      <td>3900.000000</td>\n",
       "      <td>3295.957119</td>\n",
       "      <td>1000.0</td>\n",
       "      <td>1550.0</td>\n",
       "      <td>2200.0</td>\n",
       "      <td>5500.0</td>\n",
       "      <td>10000.0</td>\n",
       "    </tr>\n",
       "    <tr>\n",
       "      <th>2012</th>\n",
       "      <td>7.0</td>\n",
       "      <td>4442.857143</td>\n",
       "      <td>4639.991790</td>\n",
       "      <td>500.0</td>\n",
       "      <td>1500.0</td>\n",
       "      <td>2900.0</td>\n",
       "      <td>5850.0</td>\n",
       "      <td>13000.0</td>\n",
       "    </tr>\n",
       "  </tbody>\n",
       "</table>\n",
       "</div>"
      ],
      "text/plain": [
       "      count         mean          std     min     25%     50%     75%      max\n",
       "year                                                                          \n",
       "2010    7.0  2342.857143  1700.840129     0.0  1350.0  2200.0  3250.0   5000.0\n",
       "2011    7.0  3900.000000  3295.957119  1000.0  1550.0  2200.0  5500.0  10000.0\n",
       "2012    7.0  4442.857143  4639.991790   500.0  1500.0  2900.0  5850.0  13000.0"
      ]
     },
     "execution_count": 26,
     "metadata": {},
     "output_type": "execute_result"
    }
   ],
   "source": [
    "usanew.groupby('year').describe()"
   ]
  },
  {
   "cell_type": "markdown",
   "metadata": {},
   "source": [
    "## Pivot Tables\n",
    "\n",
    "Pivot tables are an extremely useful concept. We will not be using them in this class, nevertheless, if you haven't used them before, I strongly suggest you familiarize yourself with them. Apart from the Pandas methods, they are also availabel in Excel.\n"
   ]
  },
  {
   "cell_type": "markdown",
   "metadata": {},
   "source": [
    "## Vectorizing String Operations\n",
    "\n",
    "### Exercises\n"
   ]
  },
  {
   "cell_type": "markdown",
   "metadata": {},
   "source": [
    "#### String Manipulation\n",
    "\n",
    "Consider the following url:"
   ]
  },
  {
   "cell_type": "code",
   "execution_count": 27,
   "metadata": {},
   "outputs": [],
   "source": [
    "url = 'http://datascience.inf.fh-rosenheim.de:8000/nice/perl/login?user=klaus&next=true&flag=false&data=xxx'"
   ]
  },
  {
   "cell_type": "markdown",
   "metadata": {},
   "source": [
    "- use the find, index and []-Python string functions to split this string into the part 'scheme', 'host', 'port', 'path' and 'query'\n",
    "- replace the '/' in the path with '::'\n",
    "- use the split method to split the 'query' into it's parts\n",
    "- extra problem: use a list comprehension to convert the list of query-parts into a dict\n"
   ]
  },
  {
   "cell_type": "code",
   "execution_count": 28,
   "metadata": {},
   "outputs": [],
   "source": [
    "## Solutions"
   ]
  },
  {
   "cell_type": "code",
   "execution_count": 29,
   "metadata": {},
   "outputs": [],
   "source": [
    "scheme = url[:url.find(':')]\n",
    "rest = url[len(scheme)+3:]\n",
    "host = rest[:rest.find(':')]\n",
    "rest = rest[len(host)+1:]\n",
    "port = rest[:rest.find('/')]\n",
    "rest = rest[len(port)+1:]\n",
    "path = rest[:rest.find('?')]\n",
    "rest = rest[len(path)+1:]\n",
    "query = rest"
   ]
  },
  {
   "cell_type": "code",
   "execution_count": 30,
   "metadata": {},
   "outputs": [
    {
     "data": {
      "text/plain": [
       "'nice::perl::login'"
      ]
     },
     "execution_count": 30,
     "metadata": {},
     "output_type": "execute_result"
    }
   ],
   "source": [
    "path.replace('/', '::')"
   ]
  },
  {
   "cell_type": "code",
   "execution_count": 31,
   "metadata": {},
   "outputs": [
    {
     "data": {
      "text/plain": [
       "['user=klaus', 'next=true', 'flag=false', 'data=xxx']"
      ]
     },
     "execution_count": 31,
     "metadata": {},
     "output_type": "execute_result"
    }
   ],
   "source": [
    "params = query.split('&')\n",
    "params"
   ]
  },
  {
   "cell_type": "code",
   "execution_count": 32,
   "metadata": {},
   "outputs": [
    {
     "data": {
      "text/plain": [
       "{'user': 'klaus', 'next': 'true', 'flag': 'false', 'data': 'xxx'}"
      ]
     },
     "execution_count": 32,
     "metadata": {},
     "output_type": "execute_result"
    }
   ],
   "source": [
    "paramd = {x.split('=')[0]:x.split('=')[1] for x in params}\n",
    "paramd"
   ]
  },
  {
   "cell_type": "markdown",
   "metadata": {},
   "source": [
    "#### Vectorized String Functions\n",
    "\n",
    "Consider the following Series:"
   ]
  },
  {
   "cell_type": "code",
   "execution_count": 33,
   "metadata": {},
   "outputs": [],
   "source": [
    "addresses = Series({'Susi': 'Haupstr. 1, 83024 Rosenheim, Deutschland', 'Peter': 'Blumenweg 1, 80808 München, Deutschland', \n",
    "            'Anton': 'Mozartweg 8, 5020 Salzburg, Österreich', 'Ute': np.nan, 'Olaf': 'Wasserweg 13, 24103 Kiel, Deutschland'})\n"
   ]
  },
  {
   "cell_type": "markdown",
   "metadata": {},
   "source": [
    "- Use regular expression matching to vectorize these addresses into street, zip code, city and country (if your regex skills are rusty, read up on the basics, e.g. at https://docs.python.org/3/library/re.html\n",
    "- compute a Series containing the name and city for each person (Hint: this is not as easy as it sound, if you get confused, use the 'type' method to verify the datatypes of your (intermediate) results)"
   ]
  },
  {
   "cell_type": "code",
   "execution_count": 34,
   "metadata": {},
   "outputs": [],
   "source": [
    "## Solutions"
   ]
  },
  {
   "cell_type": "code",
   "execution_count": 35,
   "metadata": {},
   "outputs": [
    {
     "data": {
      "text/plain": [
       "Susi     [(Haupstr. 1, 83024, Rosenheim, Deutschland)]\n",
       "Peter     [(Blumenweg 1, 80808, München, Deutschland)]\n",
       "Anton      [(Mozartweg 8, 5020, Salzburg, Österreich)]\n",
       "Ute                                                NaN\n",
       "Olaf        [(Wasserweg 13, 24103, Kiel, Deutschland)]\n",
       "dtype: object"
      ]
     },
     "execution_count": 35,
     "metadata": {},
     "output_type": "execute_result"
    }
   ],
   "source": [
    "pattern = '([^,]*),\\s+([0-9]+)\\s+([^,]+),\\s+(.*)'\n",
    "matches = addresses.str.findall(pattern)\n",
    "matches"
   ]
  },
  {
   "cell_type": "code",
   "execution_count": 36,
   "metadata": {},
   "outputs": [
    {
     "data": {
      "text/plain": [
       "Susi     Rosenheim\n",
       "Peter      München\n",
       "Anton     Salzburg\n",
       "Ute            NaN\n",
       "Olaf          Kiel\n",
       "dtype: object"
      ]
     },
     "execution_count": 36,
     "metadata": {},
     "output_type": "execute_result"
    }
   ],
   "source": [
    "matches.str.get(0).str.get(2)"
   ]
  },
  {
   "cell_type": "markdown",
   "metadata": {},
   "source": [
    "### Indicator Variables\n",
    "\n",
    "Consider the following DataFrame of persons"
   ]
  },
  {
   "cell_type": "code",
   "execution_count": 37,
   "metadata": {},
   "outputs": [],
   "source": [
    "person = DataFrame({'name': ['Susi', 'Karin', 'Hans', 'Peter', 'Hias'], \n",
    "                    'hair': ['blond', 'red', 'black', 'red', 'blond'],\n",
    "                    'sex': ['female', 'female', 'male', 'male', 'other']})"
   ]
  },
  {
   "cell_type": "markdown",
   "metadata": {},
   "source": [
    "- There are a number of Data Mining algorithms that cannot use such a dataset directly - all their input columns need to be numbers. Thus, you need to convert the column 'heir' to three different columns called 'blond', 'red' and 'black' and set exactly one of these to '1' for each row, and all others to '0'. The same need to be done for the 'sex' column. Add these six columns to person."
   ]
  },
  {
   "cell_type": "code",
   "execution_count": 38,
   "metadata": {},
   "outputs": [],
   "source": [
    "## Solutions"
   ]
  },
  {
   "cell_type": "code",
   "execution_count": 39,
   "metadata": {},
   "outputs": [
    {
     "data": {
      "text/html": [
       "<div>\n",
       "<style scoped>\n",
       "    .dataframe tbody tr th:only-of-type {\n",
       "        vertical-align: middle;\n",
       "    }\n",
       "\n",
       "    .dataframe tbody tr th {\n",
       "        vertical-align: top;\n",
       "    }\n",
       "\n",
       "    .dataframe thead th {\n",
       "        text-align: right;\n",
       "    }\n",
       "</style>\n",
       "<table border=\"1\" class=\"dataframe\">\n",
       "  <thead>\n",
       "    <tr style=\"text-align: right;\">\n",
       "      <th></th>\n",
       "      <th>name</th>\n",
       "      <th>hair</th>\n",
       "      <th>sex</th>\n",
       "      <th>hair_black</th>\n",
       "      <th>hair_blond</th>\n",
       "      <th>hair_red</th>\n",
       "      <th>sex_female</th>\n",
       "      <th>sex_male</th>\n",
       "      <th>sex_other</th>\n",
       "    </tr>\n",
       "  </thead>\n",
       "  <tbody>\n",
       "    <tr>\n",
       "      <th>0</th>\n",
       "      <td>Susi</td>\n",
       "      <td>blond</td>\n",
       "      <td>female</td>\n",
       "      <td>0</td>\n",
       "      <td>1</td>\n",
       "      <td>0</td>\n",
       "      <td>1</td>\n",
       "      <td>0</td>\n",
       "      <td>0</td>\n",
       "    </tr>\n",
       "    <tr>\n",
       "      <th>1</th>\n",
       "      <td>Karin</td>\n",
       "      <td>red</td>\n",
       "      <td>female</td>\n",
       "      <td>0</td>\n",
       "      <td>0</td>\n",
       "      <td>1</td>\n",
       "      <td>1</td>\n",
       "      <td>0</td>\n",
       "      <td>0</td>\n",
       "    </tr>\n",
       "    <tr>\n",
       "      <th>2</th>\n",
       "      <td>Hans</td>\n",
       "      <td>black</td>\n",
       "      <td>male</td>\n",
       "      <td>1</td>\n",
       "      <td>0</td>\n",
       "      <td>0</td>\n",
       "      <td>0</td>\n",
       "      <td>1</td>\n",
       "      <td>0</td>\n",
       "    </tr>\n",
       "    <tr>\n",
       "      <th>3</th>\n",
       "      <td>Peter</td>\n",
       "      <td>red</td>\n",
       "      <td>male</td>\n",
       "      <td>0</td>\n",
       "      <td>0</td>\n",
       "      <td>1</td>\n",
       "      <td>0</td>\n",
       "      <td>1</td>\n",
       "      <td>0</td>\n",
       "    </tr>\n",
       "    <tr>\n",
       "      <th>4</th>\n",
       "      <td>Hias</td>\n",
       "      <td>blond</td>\n",
       "      <td>other</td>\n",
       "      <td>0</td>\n",
       "      <td>1</td>\n",
       "      <td>0</td>\n",
       "      <td>0</td>\n",
       "      <td>0</td>\n",
       "      <td>1</td>\n",
       "    </tr>\n",
       "  </tbody>\n",
       "</table>\n",
       "</div>"
      ],
      "text/plain": [
       "    name   hair     sex  hair_black  hair_blond  hair_red  sex_female  \\\n",
       "0   Susi  blond  female           0           1         0           1   \n",
       "1  Karin    red  female           0           0         1           1   \n",
       "2   Hans  black    male           1           0         0           0   \n",
       "3  Peter    red    male           0           0         1           0   \n",
       "4   Hias  blond   other           0           1         0           0   \n",
       "\n",
       "   sex_male  sex_other  \n",
       "0         0          0  \n",
       "1         0          0  \n",
       "2         1          0  \n",
       "3         1          0  \n",
       "4         0          1  "
      ]
     },
     "execution_count": 39,
     "metadata": {},
     "output_type": "execute_result"
    }
   ],
   "source": [
    "hair_indicators = pd.get_dummies(person['hair'], prefix='hair')\n",
    "sex_indicators = pd.get_dummies(person['sex'], prefix='sex')\n",
    "person_with_indicators = person.join(hair_indicators).join(sex_indicators)\n",
    "person_with_indicators"
   ]
  },
  {
   "cell_type": "markdown",
   "metadata": {},
   "source": [
    "## Working with Time Series\n",
    "\n",
    "Handling times and dates is always a considerably challenge in every programming language. Pandas does provide extremely powerful concepts and methods in this area. Unfortunatly, we do not have time to dive into these in this class. If you ever need to analyse time series data, remember that Pandas is very well suited for this task and come back to this section!\n"
   ]
  },
  {
   "cell_type": "markdown",
   "metadata": {},
   "source": [
    "## High-Performance Pandas\n",
    "\n",
    "You can skip this section.\n"
   ]
  },
  {
   "cell_type": "markdown",
   "metadata": {},
   "source": [
    "---"
   ]
  }
 ],
 "metadata": {
  "kernelspec": {
   "display_name": "Python 3 (ipykernel)",
   "language": "python",
   "name": "python3"
  },
  "language_info": {
   "codemirror_mode": {
    "name": "ipython",
    "version": 3
   },
   "file_extension": ".py",
   "mimetype": "text/x-python",
   "name": "python",
   "nbconvert_exporter": "python",
   "pygments_lexer": "ipython3",
   "version": "3.10.6"
  }
 },
 "nbformat": 4,
 "nbformat_minor": 4
}

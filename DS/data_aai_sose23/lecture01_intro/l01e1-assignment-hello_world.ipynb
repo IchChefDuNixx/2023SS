{
 "cells": [
  {
   "cell_type": "code",
   "execution_count": 6,
   "id": "cf5cec8c-8620-4b2d-8622-228965e3076b",
   "metadata": {},
   "outputs": [],
   "source": [
    "# This is the 'Hello World' Notebook for lecture01\n",
    "# of the 'Data Science' class at TH Rosenheim\n",
    "# (c) Markus Breunig"
   ]
  },
  {
   "cell_type": "code",
   "execution_count": 7,
   "id": "e6a2712d-cc84-479f-a297-8e16a64706be",
   "metadata": {},
   "outputs": [],
   "source": [
    "# try to import the libs we will be using in this class\n",
    "import matplotlib.pyplot as plt\n",
    "import seaborn as sns\n",
    "import numpy as np\n",
    "import pandas as pd\n",
    "from sklearn.linear_model import LinearRegression\n",
    "from xgboost import XGBRegressor\n",
    "from lightgbm import LGBMRegressor\n",
    "import category_encoders as ce"
   ]
  },
  {
   "cell_type": "code",
   "execution_count": 8,
   "id": "5c62edd9-bc9d-4920-ace0-2950277433fd",
   "metadata": {},
   "outputs": [],
   "source": [
    "# helper to check the library versions\n",
    "from importlib.metadata import version\n",
    "import platform\n",
    "def check_versions(req_versions):\n",
    "    max_len_lib_name = max([len(lib) for lib, req_ver in req_versions])\n",
    "    for lib, req_ver in req_versions:\n",
    "        req_major, req_minor, _ = req_ver.split('.')\n",
    "        act_ver =  platform.python_version() if lib=='python' else (ce.__version__ if lib=='ce' else version(lib))\n",
    "        act_major, act_minor, _ = act_ver.split('.')\n",
    "        if((act_major, act_minor) == (req_major, req_minor)):\n",
    "           print(f'{lib:{max_len_lib_name}} version ok ({act_ver})')\n",
    "        else:\n",
    "           print(f'{lib:{max_len_lib_name}} version NOT ok (expected {req_ver} but found {act_ver}')"
   ]
  },
  {
   "cell_type": "code",
   "execution_count": 9,
   "id": "aa0c8d8c-27c7-4930-8be5-7838c4dbb78c",
   "metadata": {},
   "outputs": [
    {
     "name": "stdout",
     "output_type": "stream",
     "text": [
      "python       version ok (3.10.0)\n",
      "numpy        version ok (1.23.5)\n",
      "pandas       version ok (1.5.3)\n",
      "scikit-learn version ok (1.2.2)\n",
      "matplotlib   version ok (3.6.3)\n",
      "seaborn      version ok (0.12.2)\n",
      "xgboost      version ok (1.7.4)\n",
      "lightgbm     version ok (3.3.5)\n",
      "ce           version ok (2.6.0)\n"
     ]
    }
   ],
   "source": [
    "# check the library versions\n",
    "req_vers = [('python', '3.10.x'), \n",
    "            ('numpy', '1.23.x'), \n",
    "            ('pandas', '1.5.x'), \n",
    "            ('scikit-learn', '1.2.x'), \n",
    "            ('matplotlib', '3.6.x'), \n",
    "            ('seaborn', '0.12.x'), \n",
    "            ('xgboost', '1.7.x'), \n",
    "            ('lightgbm', '3.3.x'), \n",
    "            ('ce', '2.6.x')]\n",
    "check_versions(req_vers)"
   ]
  },
  {
   "cell_type": "code",
   "execution_count": 10,
   "id": "ceb16389-bb6c-4843-912c-a5e091354ac7",
   "metadata": {},
   "outputs": [
    {
     "name": "stdout",
     "output_type": "stream",
     "text": [
      "Hello Rosenheim, would you like some crunchy frogs?\n"
     ]
    }
   ],
   "source": [
    "print('Hello Rosenheim, would you like some crunchy frogs?')"
   ]
  },
  {
   "cell_type": "markdown",
   "id": "5eb0ee1a-e95a-4a36-abcd-75016ec73980",
   "metadata": {},
   "source": [
    "A crunchy frog is \"an entire frog that has been coated with chocolate, using only the finest baby frogs, dew picked and flown from Iraq, cleansed in finest quality spring water, lightly killed, and then sealed in a succulent Swiss quintuple smooth treble cream milk chocolate envelope and lovingly frosted with glucose.\". You can find more details in <a href=\"https://www.dailymotion.com/video/x2odo4b\">this video</a> or in <a href=\"https://en.wikipedia.org/wiki/Crunchy_Frog\">this wikipedia article</a>."
   ]
  },
  {
   "cell_type": "markdown",
   "id": "dad982bf-4339-4b24-9103-be5e453726e9",
   "metadata": {},
   "source": [
    "---"
   ]
  }
 ],
 "metadata": {
  "kernelspec": {
   "display_name": "Python 3 (ipykernel)",
   "language": "python",
   "name": "python3"
  },
  "language_info": {
   "codemirror_mode": {
    "name": "ipython",
    "version": 3
   },
   "file_extension": ".py",
   "mimetype": "text/x-python",
   "name": "python",
   "nbconvert_exporter": "python",
   "pygments_lexer": "ipython3",
   "version": "3.10.0"
  }
 },
 "nbformat": 4,
 "nbformat_minor": 5
}

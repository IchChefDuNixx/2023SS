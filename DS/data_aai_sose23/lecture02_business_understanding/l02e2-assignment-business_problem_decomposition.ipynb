{
 "cells": [
  {
   "cell_type": "code",
   "execution_count": null,
   "metadata": {},
   "outputs": [],
   "source": [
    "# This is Lecture02 - Exercises 2\n",
    "# of the \"Data Science\" class at Technische Hochschule Rosenheim"
   ]
  },
  {
   "cell_type": "markdown",
   "metadata": {},
   "source": [
    "# <u>Business Understanding</u>"
   ]
  },
  {
   "cell_type": "markdown",
   "metadata": {
    "tags": []
   },
   "source": [
    "## <span style=\"color:orange\">Situation #3:</span> Cement Production"
   ]
  },
  {
   "cell_type": "markdown",
   "metadata": {
    "jp-MarkdownHeadingCollapsed": true,
    "tags": []
   },
   "source": [
    "The production of cement is a very complex chemical process. We want to improve the production of cement by using machine learning methods."
   ]
  },
  {
   "cell_type": "markdown",
   "metadata": {
    "tags": []
   },
   "source": [
    "### <span style=\"color:blue\">Business Domain Analysis</span>"
   ]
  },
  {
   "cell_type": "markdown",
   "metadata": {},
   "source": [
    "**Cement Production Process:**\n",
    "<img src=\"https://upload.wikimedia.org/wikipedia/commons/d/d0/CemKilnKiln.jpg\" align=\"right\" width=\"500\">\n",
    "* Quarry the principal raw materials, mainly limestone, clay, and other materials. \n",
    "* Crush the rock in two steps down to about 3 inches or smaller.\n",
    "* Combine the crushed rock with other ingredients such as iron ore or fly ash.\n",
    "* Grind, mix and feed to a cement kiln.\n",
    "* The kiln heats all the ingredients to about 2,700 degrees Fahrenheit in huge cylindrical steel rotary kilns lined with special firebrick. The finely ground raw material or the slurry is fed into the higher end. At the lower end is a roaring blast of flame, produced by precisely controlled burning of powdered coal, oil, alternative fuels, or gas under forced draft.\n",
    "* As the material moves through the kiln, certain elements are driven off in the form of gases. The remaining elements unite to form a new substance called clinker. Clinker comes out of the kiln as grey balls, about the size of marbles.\n",
    "* Clinker is discharged red-hot from the lower end of the kiln. After the clinker is cooled, cement plants grind it and mix it with small amounts of gypsum and limestone. "
   ]
  },
  {
   "cell_type": "markdown",
   "metadata": {},
   "source": [
    "**Some facts**\n",
    "\n",
    "* The cement industry produces about 10% of global man-made CO2 emissions, of which 60% is from the chemical process, and 40% from burning fuel. Further emissions include dust, nitrogen oxides, sulfur dioxides, carbon monoxide, etc.\n",
    "* Fuels that have been used for primary firing include coal, petroleum coke, heavy fuel oil, natural gas, landfill off-gas and oil refinery flare gas. In addition to these primary fuels, various combustible waste materials have been fed to kilns. These alternative fuels (AF) include: Used motor-vehicle tires, Sewage sludge, Agricultural waste, Landfill gas, Refuse-derived fuel (RDF), Chemical and other hazardous waste. Cement kilns are an attractive way of disposing of hazardous materials\n",
    "* **The objective of kiln operation is to make clinker with the required chemical and physical properties, at the maximum rate that the size of kiln will allow, while meeting environmental standards, at the lowest possible operating cost.** The kiln is very sensitive to control strategies, and a poorly run kiln can easily double cement plant operating costs.\n",
    "* External controls available to achieve this are few: \n",
    "    * Feed rate: this defines the kiln output\n",
    "    * Rotary kiln speed: this controls the rate at which the feed moves through the kiln tube\n",
    "    * Fuel injection rate: this controls the rate at which the \"hot end\" of the system is heated\n",
    "    * Exhaust fan speed or power: this controls gas flow, and the rate at which heat is drawn from the \"hot end\" of the system to the \"cold end\"\n",
    "    \n",
    "* The independent use of fan speed and fuel rate is constrained by the fact that there must always be sufficient oxygen available to burn the fuel, and in particular, to burn carbon to carbon dioxide. If carbon monoxide is formed, this represents a waste of fuel, and also indicates reducing conditions within the kiln which must be avoided at all costs since it causes destruction of the clinker mineral structure. For this reason, the exhaust gas is continually analyzed for O2, CO, NO and SO2.\n",
    "\n",
    "* The assessment of the clinker peak temperature has always been problematic. Contact temperature measurement is impossible because of the chemically aggressive and abrasive nature of the hot clinker, and optical methods such as infrared pyrometry are difficult because of the dust and fume-laden atmosphere in the burning zone. The traditional method of assessment was to view the bed of clinker and deduce the amount of liquid formation by experience. As more liquid forms, the clinker becomes stickier, and the bed of material climbs higher up the rising side of the kiln. It is usually also possible to assess the length of the zone of liquid formation, beyond which powdery \"fresh\" feed can be seen. Cameras, with or without infrared measurement capability, are mounted on the kiln hood to facilitate this. On many kilns, the same information can be inferred from the kiln motor power drawn, since sticky feed riding high on the kiln wall increases the eccentric turning load of the kiln. Further information can be obtained from the exhaust gas analyzers. The formation of NO from nitrogen and oxygen takes place only at high temperatures, and so the NO level gives an indication of the combined feed and flame temperature. SO2 is formed by thermal decomposition of calcium sulfate in the clinker, and so also gives in indication of clinker temperature. Modern computer control systems usually make a \"calculated\" temperature, using contributions from all these information sources, and then set about controlling it.\n",
    "\n",
    "* As an exercise in process control, kiln control is extremely challenging, because of multiple inter-related variables, non-linear responses, and variable process lags. Computer control systems were first tried in the early 1960s, initially with poor results due mainly to poor process measurements. Since 1990, complex high-level supervisory control systems have been standard on new installations. These operate using expert system strategies, that maintain a \"just sufficient\" burning zone temperature, below which the kiln's operating condition will deteriorate catastrophically, thus requiring rapid-response, \"knife-edge\" control.\n",
    "\n",
    "**Summary**\n",
    "* Kiln control is hard, we have about 4 external control parameters and many measurements (power draw, cameras, temperature, raw materials, ...). \n",
    "* Pollution legislation limits emissions"
   ]
  },
  {
   "cell_type": "markdown",
   "metadata": {},
   "source": [
    "Sources:\n",
    "- https://www.cement.org/cement-concrete-applications/how-cement-is-made\n",
    "- https://en.wikipedia.org/wiki/Cement_kiln"
   ]
  },
  {
   "cell_type": "markdown",
   "metadata": {},
   "source": [
    "### <span style=\"color:blue\">Business Objective and Business Problem</span>"
   ]
  },
  {
   "cell_type": "markdown",
   "metadata": {},
   "source": [
    "**Business Objective**\n",
    "* Make clinker with the required chemical and physical properties, at the maximum rate that the size of kiln will allow, while meeting environmental standards, at the lowest possible operating cost.\n",
    "\n",
    "**Business Problems**\n",
    "* Support the kiln operator in controlling the kiln via the external controls \n"
   ]
  },
  {
   "cell_type": "markdown",
   "metadata": {},
   "source": [
    "### <span style=\"color:blue\">Business Problem Decomposition</span>"
   ]
  },
  {
   "attachments": {},
   "cell_type": "markdown",
   "metadata": {
    "tags": []
   },
   "source": [
    "--- FORMULATE AT LEAST THREE DATA SCIENCE PROBLEMS ---\n",
    "\n",
    "#### Data Science Problem I.\n",
    "* **Idea**: optimize composition of raw materials\n",
    "* **Fundamental Data Science Task**: regression\n",
    "* **Data Needed**: information on which composition is easiest to work with, anecdotally\n",
    "\n",
    "#### Data Science Problem II.\n",
    "* **Idea**: find conditionally optimal temperature\n",
    "* **Fundamental Data Science Task**: classification\n",
    "* **Data Needed**: input, temperature and if the result is good enough\n",
    "\n",
    "#### Data Science Problem III.\n",
    "* **Idea**: experimentally tune parameters\n",
    "* **Fundamental Data Science Task**: classification\n",
    "* **Data Needed**: composition, temp, speed, angle... and if the result is good enough"
   ]
  },
  {
   "cell_type": "markdown",
   "metadata": {},
   "source": [
    "---"
   ]
  },
  {
   "cell_type": "markdown",
   "metadata": {},
   "source": [
    "## <span style=\"color:orange\">Situation #5:</span>  Direct Mailing Optimization\n",
    "\n",
    "You are working for the marketing deparments of a company selling luxury cars to afluent customers. Apart from online marketing, direct mailing campaigns still account for a large part of the marketing budget and continue to drive revenue. You want to optimize the impact of your direct mailing budget.\n",
    "\n",
    "**HINT**: use your search engine or choice to find out more about e.g. \"direct mailing optimization\"!"
   ]
  },
  {
   "cell_type": "markdown",
   "metadata": {},
   "source": [
    "**NOTE**: for this situation, formulate ***one*** business objective and ***at least 2*** business problems that could be solved to achieve the objective!"
   ]
  },
  {
   "cell_type": "markdown",
   "metadata": {
    "tags": []
   },
   "source": [
    "### <span style=\"color:blue\">Business Domain Analysis</span>"
   ]
  },
  {
   "cell_type": "markdown",
   "metadata": {},
   "source": [
    "**Marketing**\n",
    "\n",
    "Google search for \"direct mailing optimization\" leads to \n",
    "* https://www.msp-pgh.com/how-to-optimize-your-direct-mail-letter/\n",
    "* https://www.datasciencecentral.com/profiles/blogs/optimizing-direct-mail-campaigns\n",
    "* https://www.pitneybowes.com/us/blog/postal-optimization-direct-mail.html\n",
    "\n",
    "Some Findings\n",
    "* \"In a world of emails, texts, and social media posts, people still look forward to checking what’s in their physical mailbox each day. Approximately 41% of Americans, in fact. And not just older folks—those under 30 feel the same way. Research shows only about 6% of people discard mail without opening it. Some marketers question the role of direct mail solutions in an increasingly digital world, but the truth is in the mail marketing statistics. Direct mail is far from obsolete. It has declined in volume over the past 10 years, but savvy marketers are finding new and innovative ways to get even greater returns on their direct mail investments. As a result, marketers report direct mail response rates of 3% and higher. That’s 28 times greater than email, thus a win by any modern-day marketer’s measurements.\"\n",
    "\n",
    "* \"So for example, a company sends out 1,000,000 direct mailers and gets a response rate of 1%, that is, 10,000 people respond positively to the campaign.  In order to obtain 10,000 responses, if there was a way for the company to send out fewer than 1,000,000 direct mails, that would save the company time, effort and money.\"\n",
    "\n",
    "* \"While most direct mail marketers will look to offset rising postage costs by cutting circulation, bigger opportunity lies in optimizing postage.\"\n",
    "\n",
    "* \"Bad addresses, duplicates and/or sending more than one piece of the same mail to a household or business is wasteful and costly.\""
   ]
  },
  {
   "cell_type": "markdown",
   "metadata": {},
   "source": [
    "### <span style=\"color:blue\">Business Objective and Business Problem</span>"
   ]
  },
  {
   "cell_type": "markdown",
   "metadata": {},
   "source": [
    "**Business Objective**: Increase ROI of direct mailing campaigns (i.e., increase revenue generated or reduce cost)\n",
    "\n",
    "**Business Problems**: \n",
    "* Remove duplicate addresses before sending out the mailing\n",
    "* Increase the response rate by restricting mailings to the **right** customers\n"
   ]
  },
  {
   "cell_type": "markdown",
   "metadata": {},
   "source": [
    "### <span style=\"color:blue\">Business Problem Decomposition</span>"
   ]
  },
  {
   "attachments": {},
   "cell_type": "markdown",
   "metadata": {},
   "source": [
    "--- FORMULATE AT LEAST TWO DATA SCIENCE PROBLEMS ---\n",
    "\n",
    "#### Data Science Problem I.\n",
    "* **Idea**: figure out which demographic responds how much and choose the best ones\n",
    "* **Fundamental Data Science Task**: classification\n",
    "* **Data Needed**: age, gender, region, other personal details and if or how often they responded\n",
    "\n",
    "#### Data Science Problem II.\n",
    "* **Idea**: remove duplicates\n",
    "* **Fundamental Data Science Task**: database cleaning/clustering\n",
    "* **Data Needed**: name, address, work place (organization name), family status/members"
   ]
  },
  {
   "cell_type": "markdown",
   "metadata": {},
   "source": [
    "---"
   ]
  },
  {
   "cell_type": "markdown",
   "metadata": {},
   "source": [
    "## <span style=\"color:orange\">Situation #6:</span> Railway Maintenance\n",
    "\n",
    "You are working for a railway company operating a railway line from Stuttart via Ulm to Bieberach. A considerable amount of money ist spent on maintenance of your trains (both locomotives and wagons - gears are worn down, brakes need to be maintained etc.). You want to optimize this budget by using machine learning."
   ]
  },
  {
   "cell_type": "markdown",
   "metadata": {},
   "source": [
    "**NOTE**: for this situation, formulate ***one*** business objective and ***at least 3*** business problems that could be solved to achieve the objective!"
   ]
  },
  {
   "cell_type": "markdown",
   "metadata": {
    "tags": []
   },
   "source": [
    "### <span style=\"color:blue\">Business Domain Analysis</span>"
   ]
  },
  {
   "cell_type": "markdown",
   "metadata": {},
   "source": [
    "Google search for \"train maintenance\" leads to http://www.railway-technical.com/trains/train-maintenance/\n",
    "\n",
    "* \"Rolling stock maintenance can be programmed in one of three ways; by mileage, by time or by conditioning monitoring.  Of these three methods, condition monitoring is the most recent.  Traditionally, maintenance was carried out on a time basis, usually related to safety items like braking and wheel condition.  Many administrations later adopted a mileage based maintenance system, although this is more difficult to operate as you have to keep records of all vehicle mileages and this is time consuming unless you have a modern train control and data gathering system.  There is also the fact that a train will deteriorate just as quickly if it is stored unused somewhere as it would if it was being run in service every day.  Only the items which deteriorate will vary.\"\n",
    "\n",
    "* \"As already mentioned, reliability is the key to running a successful railway.  If the equipment, especially the rolling stock, is not reliable, the railway is not workable.  A good railway management will keep track of its performance and its failures and, by this means, ensure that problems are eliminated before they become endemic. \"\n",
    "\n",
    "* \"A railway comprises two main assets: infrastructure and rolling stock. There has always been much interest in the study and analysis of infrastructure failures, e.g. track, bridges, train control, electrical systems, etc. However, few attempts have been made by researchers to develop failure criticality assessment models for rolling stock components.\"\n",
    "\n",
    "* \"As an example of how train maintenance has developed, we can look at wheels and axles. Wheels and axles were vulnerable to fracture, particularly in the early development of railways when manufacturing techniques were not as sophisticated as today, and they were checked daily for visual signs of damage. Many railways painted a white mark over the wheel tyre and hub so that any movement of the tyre on the hub was immediately noticeable. Wheels were also \"tapped\" - struck with a hammer to ensure a \"ring\" was heard so as to confirm there were no cracks. In spite of these checks, there were occasional and sometimes spectacular accidents due to wheel or axle fractures on trains in service.\n",
    "\n",
    "As early as the 1930s, techniques were developed to test axle integrity by electrical means. Magnetic particle testing was one system used, where energised particles of steel were applied to axles to determine the location of cracks.  In the 1950s, an early form of ultrasonic testing was used. Nowadays, such systems are standard. This type of development process has taken place for all rolling stock systems, including those on locomotives, coaches and wagons.\n",
    "Traditional visual inspections and manual checking with gauges has been replaced by automatic inspection systems that compare wheel profiles of vehicles passing through an inspection building with computer based data profiles. Trackside systems are also used to monitor wheel behaviour. Similar systems are used for bakes pads, discs and pantographs for current collection. On-board systems provide train system performance checks and report to the maintenance centre via wifi downloads at regular intervals.\""
   ]
  },
  {
   "cell_type": "markdown",
   "metadata": {},
   "source": [
    "### <span style=\"color:blue\">Business Objective and Business Problem</span>"
   ]
  },
  {
   "cell_type": "markdown",
   "metadata": {},
   "source": [
    "**Business Objective**: Reduce the required maintenance budget without negatively impacting the service to passengers\n",
    "\n",
    "**Business Problems**: \n",
    "* Choose optimal maintenance interval (before something breaks but as seldom as possible)\n",
    "* Analyse repair data to find potentially endemic problems \n",
    "* Improve inventory management - order replacement parts just in time \n",
    "* Only use as many wagons as are required for the passengers at any given day/time to reduce the number of maintenance cycles needed \n"
   ]
  },
  {
   "cell_type": "markdown",
   "metadata": {},
   "source": [
    "### <span style=\"color:blue\">Business Problem Decomposition</span>"
   ]
  },
  {
   "attachments": {},
   "cell_type": "markdown",
   "metadata": {
    "tags": []
   },
   "source": [
    "--- FORMULATE AT LEAST THREE DATA SCIENCE PROBLEMS ---\n",
    "\n",
    "#### Data Science Problem I.\n",
    "* **Idea**: find optimal point in time to maintain or replace parts\n",
    "* **Fundamental Data Science Task**: regression\n",
    "* **Data Needed**: part identifier, history of use and when it broke down\n",
    "\n",
    "#### Data Science Problem II.\n",
    "* **Idea**: find endemic problems\n",
    "* **Fundamental Data Science Task**: regression\n",
    "* **Data Needed**: durability and reliability stats of your own hardware vs the same data of other vendors/standards\n",
    "\n",
    "#### Data Science Problem III.\n",
    "* **Idea**: figure out train usage by passengers to reduce usage if possible\n",
    "* **Fundamental Data Science Task**: regression\n",
    "* **Data Needed**: available routes, available trains, usage/bought tickets by train line, time and date."
   ]
  },
  {
   "cell_type": "markdown",
   "metadata": {},
   "source": [
    "---"
   ]
  },
  {
   "cell_type": "code",
   "execution_count": null,
   "metadata": {},
   "outputs": [],
   "source": [
    "# --- EOF ---"
   ]
  }
 ],
 "metadata": {
  "kernelspec": {
   "display_name": "Python 3 (ipykernel)",
   "language": "python",
   "name": "python3"
  },
  "language_info": {
   "codemirror_mode": {
    "name": "ipython",
    "version": 3
   },
   "file_extension": ".py",
   "mimetype": "text/x-python",
   "name": "python",
   "nbconvert_exporter": "python",
   "pygments_lexer": "ipython3",
   "version": "3.10.8"
  }
 },
 "nbformat": 4,
 "nbformat_minor": 4
}

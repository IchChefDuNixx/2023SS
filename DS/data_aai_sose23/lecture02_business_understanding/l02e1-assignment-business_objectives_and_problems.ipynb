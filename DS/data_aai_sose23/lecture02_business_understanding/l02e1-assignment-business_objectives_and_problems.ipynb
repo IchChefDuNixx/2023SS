{
 "cells": [
  {
   "cell_type": "code",
   "execution_count": null,
   "metadata": {},
   "outputs": [],
   "source": [
    "# This is Lecture02 - Exercises 1\n",
    "# of the \"Data Science\" class at Technische Hochschule Rosenheim"
   ]
  },
  {
   "cell_type": "markdown",
   "metadata": {},
   "source": [
    "# <u>Business Understanding</u>"
   ]
  },
  {
   "cell_type": "markdown",
   "metadata": {},
   "source": [
    "## <span style=\"color:orange\">Situation #5:</span>  Direct Mailing Optimization\n",
    "\n",
    "You are working for the marketing deparments of a company selling luxury cars to afluent customers. Apart from online marketing, direct mailing campaigns still account for a large part of the marketing budget and continue to drive revenue. You want to optimize the impact of your direct mailing budget.\n",
    "\n",
    "**HINT**: use your search engine or choice to find out more about e.g. \"direct mailing optimization\"!"
   ]
  },
  {
   "cell_type": "markdown",
   "metadata": {},
   "source": [
    "**NOTE**: for this situation, formulate ***one*** business objective and ***at least 2*** business problems that could be solved to achieve the objective!"
   ]
  },
  {
   "cell_type": "markdown",
   "metadata": {
    "tags": []
   },
   "source": [
    "### <span style=\"color:blue\">Business Domain Analysis</span>"
   ]
  },
  {
   "attachments": {},
   "cell_type": "markdown",
   "metadata": {},
   "source": [
    "there are many different customers that respond differently to advertisement. for this case specifically, direct mailing works relatively good but you still don't know exactly on which people. the goal is to sell the most goods or services"
   ]
  },
  {
   "cell_type": "markdown",
   "metadata": {},
   "source": [
    "### <span style=\"color:blue\">Business Objective and Business Problem</span>"
   ]
  },
  {
   "attachments": {},
   "cell_type": "markdown",
   "metadata": {},
   "source": [
    "**Business Objective**: \n",
    "-maximize return on investment from direct mailing with a limited budget\n",
    "\n",
    "**Business Problems**: \n",
    "-find out the most responsive target audience\n",
    "-reduce costs while maintaining at least the same reach\n",
    "-remove duplicates / stop mailing 1 person twice"
   ]
  },
  {
   "cell_type": "markdown",
   "metadata": {},
   "source": [
    "### <span style=\"color:blue\">Business Problem Decomposition</span>"
   ]
  },
  {
   "attachments": {},
   "cell_type": "markdown",
   "metadata": {},
   "source": [
    "--- TO BE DONE IN A LATER EXERCISE ---"
   ]
  },
  {
   "cell_type": "markdown",
   "metadata": {},
   "source": [
    "---"
   ]
  },
  {
   "cell_type": "markdown",
   "metadata": {},
   "source": [
    "## <span style=\"color:orange\">Situation #6:</span> Railway Maintenance\n",
    "\n",
    "You are working for a railway company operating a railway line from Stuttart via Ulm to Bieberach. A considerable amount of money ist spent on maintenance of your trains (both locomotives and wagons - gears are worn down, brakes need to be maintained etc.). You want to optimize this budget by using machine learning."
   ]
  },
  {
   "cell_type": "markdown",
   "metadata": {},
   "source": [
    "**NOTE**: for this situation, formulate ***one*** business objective and ***at least 3*** business problems that could be solved to achieve the objective!"
   ]
  },
  {
   "cell_type": "markdown",
   "metadata": {
    "tags": []
   },
   "source": [
    "### <span style=\"color:blue\">Business Domain Analysis</span>"
   ]
  },
  {
   "attachments": {},
   "cell_type": "markdown",
   "metadata": {},
   "source": [
    "train infrastructure is inherently subject to wear and tear but you don't know exactly which parts are at which point in their life. without a strict check, it is risky to wait for signs of failure before replacing or maintaining them so it is safer to do it before. to optimize the timing, you want to figure out how different parts are stressed and fail on this line specifically by using historic data and a learning model."
   ]
  },
  {
   "cell_type": "markdown",
   "metadata": {},
   "source": [
    "### <span style=\"color:blue\">Business Objective and Business Problem</span>"
   ]
  },
  {
   "attachments": {},
   "cell_type": "markdown",
   "metadata": {},
   "source": [
    "**Business Objective**: \n",
    "-reduce costs of maintenance without putting passengers at risk.\n",
    "\n",
    "**Business Problems**: \n",
    "-predict when something is gonna fail or need maintenance so you can use more of their life span.\n",
    "-figure out what combination of parts if most likely getting issues and try finding alternatives that last longer.\n",
    "-optimize the train routes such that the wagons and railways get worn out similarly fast and start a big maintenance operation once instead of smaller ones multiple times."
   ]
  },
  {
   "cell_type": "markdown",
   "metadata": {
    "tags": []
   },
   "source": [
    "### <span style=\"color:blue\">Business Problem Decomposition</span>"
   ]
  },
  {
   "cell_type": "markdown",
   "metadata": {},
   "source": [
    "--- TO BE DONE IN A LATER EXERCISE ---"
   ]
  },
  {
   "cell_type": "markdown",
   "metadata": {},
   "source": [
    "---"
   ]
  },
  {
   "cell_type": "code",
   "execution_count": null,
   "metadata": {},
   "outputs": [],
   "source": [
    "# --- EOF ---"
   ]
  }
 ],
 "metadata": {
  "kernelspec": {
   "display_name": "Python 3 (ipykernel)",
   "language": "python",
   "name": "python3"
  },
  "language_info": {
   "codemirror_mode": {
    "name": "ipython",
    "version": 3
   },
   "file_extension": ".py",
   "mimetype": "text/x-python",
   "name": "python",
   "nbconvert_exporter": "python",
   "pygments_lexer": "ipython3",
   "version": "3.10.8"
  }
 },
 "nbformat": 4,
 "nbformat_minor": 4
}
